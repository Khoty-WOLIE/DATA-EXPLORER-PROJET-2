{
 "cells": [
  {
   "cell_type": "code",
   "execution_count": 163,
   "id": "8ab6e918",
   "metadata": {},
   "outputs": [],
   "source": [
    "import pandas as pd \n",
    "import dtale\n",
    "from faker import Faker\n",
    "from pivottablejs import pivot_ui    # visualisation sous forme de power BI\n",
    "import pygwalker as pyg        # visualisation sous forme de power BI\n",
    "# from ydata_profiling import profileReport    # ERREUR d'installation"
   ]
  },
  {
   "cell_type": "code",
   "execution_count": 131,
   "id": "ecf3ffd1",
   "metadata": {},
   "outputs": [
    {
     "data": {
      "text/html": [
       "<div>\n",
       "<style scoped>\n",
       "    .dataframe tbody tr th:only-of-type {\n",
       "        vertical-align: middle;\n",
       "    }\n",
       "\n",
       "    .dataframe tbody tr th {\n",
       "        vertical-align: top;\n",
       "    }\n",
       "\n",
       "    .dataframe thead th {\n",
       "        text-align: right;\n",
       "    }\n",
       "</style>\n",
       "<table border=\"1\" class=\"dataframe\">\n",
       "  <thead>\n",
       "    <tr style=\"text-align: right;\">\n",
       "      <th></th>\n",
       "      <th>client_id</th>\n",
       "      <th>sex</th>\n",
       "      <th>birth</th>\n",
       "    </tr>\n",
       "  </thead>\n",
       "  <tbody>\n",
       "    <tr>\n",
       "      <th>0</th>\n",
       "      <td>c_4410</td>\n",
       "      <td>f</td>\n",
       "      <td>1967</td>\n",
       "    </tr>\n",
       "    <tr>\n",
       "      <th>1</th>\n",
       "      <td>c_7839</td>\n",
       "      <td>f</td>\n",
       "      <td>1975</td>\n",
       "    </tr>\n",
       "    <tr>\n",
       "      <th>2</th>\n",
       "      <td>c_1699</td>\n",
       "      <td>f</td>\n",
       "      <td>1984</td>\n",
       "    </tr>\n",
       "    <tr>\n",
       "      <th>3</th>\n",
       "      <td>c_5961</td>\n",
       "      <td>f</td>\n",
       "      <td>1962</td>\n",
       "    </tr>\n",
       "    <tr>\n",
       "      <th>4</th>\n",
       "      <td>c_5320</td>\n",
       "      <td>m</td>\n",
       "      <td>1943</td>\n",
       "    </tr>\n",
       "  </tbody>\n",
       "</table>\n",
       "</div>"
      ],
      "text/plain": [
       "  client_id sex  birth\n",
       "0    c_4410   f   1967\n",
       "1    c_7839   f   1975\n",
       "2    c_1699   f   1984\n",
       "3    c_5961   f   1962\n",
       "4    c_5320   m   1943"
      ]
     },
     "execution_count": 131,
     "metadata": {},
     "output_type": "execute_result"
    }
   ],
   "source": [
    "data = pd.read_csv(\"customers.csv\")\n",
    "data.head()"
   ]
  },
  {
   "cell_type": "code",
   "execution_count": 132,
   "id": "70d25091",
   "metadata": {},
   "outputs": [],
   "source": [
    "# toujour effectué une copy avant d'appliqué la fonction \"dtale\"\n",
    "\n",
    "df = data.copy()"
   ]
  },
  {
   "cell_type": "markdown",
   "id": "ea746aba",
   "metadata": {},
   "source": [
    "### La fonction dtale permet de visualisé les differentes de notre table sur le site dtale"
   ]
  },
  {
   "cell_type": "code",
   "execution_count": 133,
   "id": "a009e625",
   "metadata": {},
   "outputs": [
    {
     "data": {
      "text/plain": [
       "'\\ndata_viz = dtale.show(df)\\ndata_viz.open_browser()    # cette ligne de code permet d\\'ouvrire \"dtale\" pour visualiser les caracteristiques des données\\n'"
      ]
     },
     "execution_count": 133,
     "metadata": {},
     "output_type": "execute_result"
    }
   ],
   "source": [
    "\"\"\"\n",
    "data_viz = dtale.show(df)\n",
    "data_viz.open_browser()    # cette ligne de code permet d'ouvrire \"dtale\" pour visualiser les caracteristiques des données\n",
    "\"\"\""
   ]
  },
  {
   "cell_type": "code",
   "execution_count": 134,
   "id": "9bfc889c",
   "metadata": {},
   "outputs": [
    {
     "name": "stdout",
     "output_type": "stream",
     "text": [
      "<class 'pandas.core.frame.DataFrame'>\n",
      "RangeIndex: 8623 entries, 0 to 8622\n",
      "Data columns (total 3 columns):\n",
      " #   Column     Non-Null Count  Dtype \n",
      "---  ------     --------------  ----- \n",
      " 0   client_id  8623 non-null   object\n",
      " 1   sex        8623 non-null   object\n",
      " 2   birth      8623 non-null   int64 \n",
      "dtypes: int64(1), object(2)\n",
      "memory usage: 202.2+ KB\n"
     ]
    }
   ],
   "source": [
    "df.info()"
   ]
  },
  {
   "cell_type": "markdown",
   "id": "3bcda2c8",
   "metadata": {},
   "source": [
    "### Ici je vais transformer la variable catégorielle sex en variable numerique "
   ]
  },
  {
   "cell_type": "markdown",
   "id": "2eee2e94",
   "metadata": {},
   "source": [
    "#### On peu le faire pour les variables avec deux differentes catégories et trois differentes catégorie aussi"
   ]
  },
  {
   "cell_type": "code",
   "execution_count": 135,
   "id": "40e6e279",
   "metadata": {},
   "outputs": [
    {
     "data": {
      "text/plain": [
       "{'f', 'm'}"
      ]
     },
     "execution_count": 135,
     "metadata": {},
     "output_type": "execute_result"
    }
   ],
   "source": [
    "set(df[\"sex\"])"
   ]
  },
  {
   "cell_type": "code",
   "execution_count": 136,
   "id": "5be8563c",
   "metadata": {},
   "outputs": [],
   "source": [
    "# on va appliqué la fonction \"cat.codes\" pour faire la transformation\n",
    "# cette transformation peu aider pour le machine learning ou deep learning, parce qu'on utilise des données numerique\n",
    "\n",
    "df[\"sex\"] = df[\"sex\"].astype(\"category\").cat.codes"
   ]
  },
  {
   "cell_type": "code",
   "execution_count": 137,
   "id": "1feae347",
   "metadata": {},
   "outputs": [
    {
     "data": {
      "text/plain": [
       "{0, 1}"
      ]
     },
     "execution_count": 137,
     "metadata": {},
     "output_type": "execute_result"
    }
   ],
   "source": [
    "set(df[\"sex\"])"
   ]
  },
  {
   "cell_type": "code",
   "execution_count": 138,
   "id": "89bb2cc5",
   "metadata": {},
   "outputs": [
    {
     "data": {
      "text/html": [
       "<div>\n",
       "<style scoped>\n",
       "    .dataframe tbody tr th:only-of-type {\n",
       "        vertical-align: middle;\n",
       "    }\n",
       "\n",
       "    .dataframe tbody tr th {\n",
       "        vertical-align: top;\n",
       "    }\n",
       "\n",
       "    .dataframe thead th {\n",
       "        text-align: right;\n",
       "    }\n",
       "</style>\n",
       "<table border=\"1\" class=\"dataframe\">\n",
       "  <thead>\n",
       "    <tr style=\"text-align: right;\">\n",
       "      <th></th>\n",
       "      <th>client_id</th>\n",
       "      <th>sex</th>\n",
       "      <th>birth</th>\n",
       "    </tr>\n",
       "  </thead>\n",
       "  <tbody>\n",
       "    <tr>\n",
       "      <th>0</th>\n",
       "      <td>c_4410</td>\n",
       "      <td>0</td>\n",
       "      <td>1967</td>\n",
       "    </tr>\n",
       "    <tr>\n",
       "      <th>1</th>\n",
       "      <td>c_7839</td>\n",
       "      <td>0</td>\n",
       "      <td>1975</td>\n",
       "    </tr>\n",
       "    <tr>\n",
       "      <th>2</th>\n",
       "      <td>c_1699</td>\n",
       "      <td>0</td>\n",
       "      <td>1984</td>\n",
       "    </tr>\n",
       "    <tr>\n",
       "      <th>3</th>\n",
       "      <td>c_5961</td>\n",
       "      <td>0</td>\n",
       "      <td>1962</td>\n",
       "    </tr>\n",
       "    <tr>\n",
       "      <th>4</th>\n",
       "      <td>c_5320</td>\n",
       "      <td>1</td>\n",
       "      <td>1943</td>\n",
       "    </tr>\n",
       "  </tbody>\n",
       "</table>\n",
       "</div>"
      ],
      "text/plain": [
       "  client_id  sex  birth\n",
       "0    c_4410    0   1967\n",
       "1    c_7839    0   1975\n",
       "2    c_1699    0   1984\n",
       "3    c_5961    0   1962\n",
       "4    c_5320    1   1943"
      ]
     },
     "execution_count": 138,
     "metadata": {},
     "output_type": "execute_result"
    }
   ],
   "source": [
    "df.head()"
   ]
  },
  {
   "cell_type": "markdown",
   "id": "048eb32a",
   "metadata": {},
   "source": [
    "### Comment générer des données d'echantion professionneles avec FAKER "
   ]
  },
  {
   "cell_type": "markdown",
   "id": "f6c9bde0",
   "metadata": {},
   "source": [
    "### FAKER"
   ]
  },
  {
   "cell_type": "markdown",
   "id": "84475dff",
   "metadata": {},
   "source": [
    "#### On va importer faker et on va générer des adress, zip_cod, nom ...etc"
   ]
  },
  {
   "cell_type": "code",
   "execution_count": 139,
   "id": "620895ee",
   "metadata": {},
   "outputs": [],
   "source": [
    "from faker import Faker"
   ]
  },
  {
   "cell_type": "code",
   "execution_count": 140,
   "id": "258c6505",
   "metadata": {},
   "outputs": [],
   "source": [
    "# on peu precisé dans l'argument faker la \"langue\" pour générer en francais ou en anglais ou encore en ...\n",
    "# par defaut c'est en anglais, pas besoin de precisé l'argument (\"fr_FR\"), on met rien.\n",
    "\n",
    "faker = Faker(\"fr_FR\")"
   ]
  },
  {
   "cell_type": "code",
   "execution_count": 141,
   "id": "fe7343ed",
   "metadata": {},
   "outputs": [
    {
     "name": "stdout",
     "output_type": "stream",
     "text": [
      "Thomas Sanchez\n",
      "vbourdon@example.org\n",
      "Tellement répéter dont chose glisser nous. Naître tempête déjà.\n",
      "Danser marquer masse bout quart. Or vue contraire étendre. Petit grand preuve.\n",
      "Acheter nom boire côte sans rose surtout.\n",
      "Changement vers vert tôt impossible.\n",
      "goût\n",
      "['surtout', 'entraîner', 'faute']\n",
      "🦹🏻‍♀️\n",
      "172.22.184.250\n",
      "133.102.119.108\n",
      "05 57 66 73 28\n",
      "Croatie\n",
      "2000-04-24\n",
      "Briand\n",
      "http://www.mallet.com/\n",
      "2019\n",
      "bfd1:52ff:3b7a:546f:63d9:4869:8aa6:4039\n",
      "c4:d9:a3:5c:8b:ae\n"
     ]
    }
   ],
   "source": [
    "# On va générer les données avec la fonction facker\n",
    "\n",
    "print(faker.name())\n",
    "print(faker.email())\n",
    "print(faker.text())\n",
    "print(faker.sentence())\n",
    "print(faker.word())\n",
    "print(faker.words())\n",
    "print(faker.emoji())\n",
    "print(faker.ipv4_private())\n",
    "print(faker.ipv4_public())\n",
    "print(faker.phone_number())\n",
    "print(faker.country())\n",
    "print(faker.date())\n",
    "print(faker.city())\n",
    "print(faker.url())\n",
    "# print(faker.zipcod())   # cette fonction zipcod n'est pris en compte pour la france c'est pour cela j'ai commenté\n",
    "print(faker.year())\n",
    "print(faker.ipv6())\n",
    "print(faker.mac_address())"
   ]
  },
  {
   "cell_type": "markdown",
   "id": "b91ff726",
   "metadata": {},
   "source": [
    "### On va appliqué a un cas réel pour fournir des nom de clients a notre dataframe \"df\""
   ]
  },
  {
   "cell_type": "code",
   "execution_count": 142,
   "id": "cea50ff2",
   "metadata": {},
   "outputs": [
    {
     "data": {
      "text/html": [
       "<div>\n",
       "<style scoped>\n",
       "    .dataframe tbody tr th:only-of-type {\n",
       "        vertical-align: middle;\n",
       "    }\n",
       "\n",
       "    .dataframe tbody tr th {\n",
       "        vertical-align: top;\n",
       "    }\n",
       "\n",
       "    .dataframe thead th {\n",
       "        text-align: right;\n",
       "    }\n",
       "</style>\n",
       "<table border=\"1\" class=\"dataframe\">\n",
       "  <thead>\n",
       "    <tr style=\"text-align: right;\">\n",
       "      <th></th>\n",
       "      <th>client_id</th>\n",
       "      <th>sex</th>\n",
       "      <th>birth</th>\n",
       "    </tr>\n",
       "  </thead>\n",
       "  <tbody>\n",
       "    <tr>\n",
       "      <th>0</th>\n",
       "      <td>c_4410</td>\n",
       "      <td>0</td>\n",
       "      <td>1967</td>\n",
       "    </tr>\n",
       "    <tr>\n",
       "      <th>1</th>\n",
       "      <td>c_7839</td>\n",
       "      <td>0</td>\n",
       "      <td>1975</td>\n",
       "    </tr>\n",
       "    <tr>\n",
       "      <th>2</th>\n",
       "      <td>c_1699</td>\n",
       "      <td>0</td>\n",
       "      <td>1984</td>\n",
       "    </tr>\n",
       "    <tr>\n",
       "      <th>3</th>\n",
       "      <td>c_5961</td>\n",
       "      <td>0</td>\n",
       "      <td>1962</td>\n",
       "    </tr>\n",
       "    <tr>\n",
       "      <th>4</th>\n",
       "      <td>c_5320</td>\n",
       "      <td>1</td>\n",
       "      <td>1943</td>\n",
       "    </tr>\n",
       "  </tbody>\n",
       "</table>\n",
       "</div>"
      ],
      "text/plain": [
       "  client_id  sex  birth\n",
       "0    c_4410    0   1967\n",
       "1    c_7839    0   1975\n",
       "2    c_1699    0   1984\n",
       "3    c_5961    0   1962\n",
       "4    c_5320    1   1943"
      ]
     },
     "execution_count": 142,
     "metadata": {},
     "output_type": "execute_result"
    }
   ],
   "source": [
    "df.head()"
   ]
  },
  {
   "cell_type": "code",
   "execution_count": 143,
   "id": "2e713d41",
   "metadata": {},
   "outputs": [
    {
     "data": {
      "text/plain": [
       "(8623, 3)"
      ]
     },
     "execution_count": 143,
     "metadata": {},
     "output_type": "execute_result"
    }
   ],
   "source": [
    "df.shape"
   ]
  },
  {
   "cell_type": "code",
   "execution_count": 144,
   "id": "b77c720f",
   "metadata": {},
   "outputs": [],
   "source": [
    "def input_data(x):\n",
    "    data = pd.DataFrame()         # pour avoir un forma dataframe\n",
    "    for i in range(0, x):             # la boucle for pour generer nos nombre de ligne de nom\n",
    "        data.loc[i,\"name\"] = faker.name()      # pour parcouri nos nombre de ligne et nommé la colonne \"name\"\n",
    "    return data                                   # on retoure la variable data créé\n",
    "\n",
    "df1 = input_data(8623)                               # on fait appel a la fonction input_data en creant une variable df1"
   ]
  },
  {
   "cell_type": "code",
   "execution_count": 145,
   "id": "c066b9a9",
   "metadata": {},
   "outputs": [
    {
     "data": {
      "text/html": [
       "<div>\n",
       "<style scoped>\n",
       "    .dataframe tbody tr th:only-of-type {\n",
       "        vertical-align: middle;\n",
       "    }\n",
       "\n",
       "    .dataframe tbody tr th {\n",
       "        vertical-align: top;\n",
       "    }\n",
       "\n",
       "    .dataframe thead th {\n",
       "        text-align: right;\n",
       "    }\n",
       "</style>\n",
       "<table border=\"1\" class=\"dataframe\">\n",
       "  <thead>\n",
       "    <tr style=\"text-align: right;\">\n",
       "      <th></th>\n",
       "      <th>name</th>\n",
       "    </tr>\n",
       "  </thead>\n",
       "  <tbody>\n",
       "    <tr>\n",
       "      <th>0</th>\n",
       "      <td>Philippe Roche-Bailly</td>\n",
       "    </tr>\n",
       "    <tr>\n",
       "      <th>1</th>\n",
       "      <td>Louise Rousset</td>\n",
       "    </tr>\n",
       "    <tr>\n",
       "      <th>2</th>\n",
       "      <td>Jérôme Lenoir</td>\n",
       "    </tr>\n",
       "    <tr>\n",
       "      <th>3</th>\n",
       "      <td>Marie Chevalier</td>\n",
       "    </tr>\n",
       "    <tr>\n",
       "      <th>4</th>\n",
       "      <td>Margot-Margot Maillard</td>\n",
       "    </tr>\n",
       "  </tbody>\n",
       "</table>\n",
       "</div>"
      ],
      "text/plain": [
       "                     name\n",
       "0   Philippe Roche-Bailly\n",
       "1          Louise Rousset\n",
       "2           Jérôme Lenoir\n",
       "3         Marie Chevalier\n",
       "4  Margot-Margot Maillard"
      ]
     },
     "execution_count": 145,
     "metadata": {},
     "output_type": "execute_result"
    }
   ],
   "source": [
    "df1.head()"
   ]
  },
  {
   "cell_type": "code",
   "execution_count": 146,
   "id": "d92bc87e",
   "metadata": {},
   "outputs": [
    {
     "data": {
      "text/plain": [
       "(8623, 1)"
      ]
     },
     "execution_count": 146,
     "metadata": {},
     "output_type": "execute_result"
    }
   ],
   "source": [
    "df1.shape"
   ]
  },
  {
   "cell_type": "code",
   "execution_count": 147,
   "id": "b8498563",
   "metadata": {},
   "outputs": [],
   "source": [
    "# axis=1 pour precisé l'odre vertical\n",
    "\n",
    "x_features = pd.concat([df1, df], axis=1)"
   ]
  },
  {
   "cell_type": "code",
   "execution_count": 148,
   "id": "c5467e43",
   "metadata": {},
   "outputs": [
    {
     "data": {
      "text/html": [
       "<div>\n",
       "<style scoped>\n",
       "    .dataframe tbody tr th:only-of-type {\n",
       "        vertical-align: middle;\n",
       "    }\n",
       "\n",
       "    .dataframe tbody tr th {\n",
       "        vertical-align: top;\n",
       "    }\n",
       "\n",
       "    .dataframe thead th {\n",
       "        text-align: right;\n",
       "    }\n",
       "</style>\n",
       "<table border=\"1\" class=\"dataframe\">\n",
       "  <thead>\n",
       "    <tr style=\"text-align: right;\">\n",
       "      <th></th>\n",
       "      <th>name</th>\n",
       "      <th>client_id</th>\n",
       "      <th>sex</th>\n",
       "      <th>birth</th>\n",
       "    </tr>\n",
       "  </thead>\n",
       "  <tbody>\n",
       "    <tr>\n",
       "      <th>0</th>\n",
       "      <td>Philippe Roche-Bailly</td>\n",
       "      <td>c_4410</td>\n",
       "      <td>0</td>\n",
       "      <td>1967</td>\n",
       "    </tr>\n",
       "    <tr>\n",
       "      <th>1</th>\n",
       "      <td>Louise Rousset</td>\n",
       "      <td>c_7839</td>\n",
       "      <td>0</td>\n",
       "      <td>1975</td>\n",
       "    </tr>\n",
       "    <tr>\n",
       "      <th>2</th>\n",
       "      <td>Jérôme Lenoir</td>\n",
       "      <td>c_1699</td>\n",
       "      <td>0</td>\n",
       "      <td>1984</td>\n",
       "    </tr>\n",
       "    <tr>\n",
       "      <th>3</th>\n",
       "      <td>Marie Chevalier</td>\n",
       "      <td>c_5961</td>\n",
       "      <td>0</td>\n",
       "      <td>1962</td>\n",
       "    </tr>\n",
       "    <tr>\n",
       "      <th>4</th>\n",
       "      <td>Margot-Margot Maillard</td>\n",
       "      <td>c_5320</td>\n",
       "      <td>1</td>\n",
       "      <td>1943</td>\n",
       "    </tr>\n",
       "  </tbody>\n",
       "</table>\n",
       "</div>"
      ],
      "text/plain": [
       "                     name client_id  sex  birth\n",
       "0   Philippe Roche-Bailly    c_4410    0   1967\n",
       "1          Louise Rousset    c_7839    0   1975\n",
       "2           Jérôme Lenoir    c_1699    0   1984\n",
       "3         Marie Chevalier    c_5961    0   1962\n",
       "4  Margot-Margot Maillard    c_5320    1   1943"
      ]
     },
     "execution_count": 148,
     "metadata": {},
     "output_type": "execute_result"
    }
   ],
   "source": [
    "x_features.head()"
   ]
  },
  {
   "cell_type": "code",
   "execution_count": 149,
   "id": "2773a06e",
   "metadata": {},
   "outputs": [
    {
     "data": {
      "text/plain": [
       "(8623, 4)"
      ]
     },
     "execution_count": 149,
     "metadata": {},
     "output_type": "execute_result"
    }
   ],
   "source": [
    "x_features.shape"
   ]
  },
  {
   "cell_type": "code",
   "execution_count": 150,
   "id": "1e86b59a",
   "metadata": {},
   "outputs": [
    {
     "name": "stdout",
     "output_type": "stream",
     "text": [
      "<class 'pandas.core.frame.DataFrame'>\n",
      "Int64Index: 8623 entries, 0 to 8622\n",
      "Data columns (total 4 columns):\n",
      " #   Column     Non-Null Count  Dtype \n",
      "---  ------     --------------  ----- \n",
      " 0   name       8623 non-null   object\n",
      " 1   client_id  8623 non-null   object\n",
      " 2   sex        8623 non-null   int8  \n",
      " 3   birth      8623 non-null   int64 \n",
      "dtypes: int64(1), int8(1), object(2)\n",
      "memory usage: 535.9+ KB\n"
     ]
    }
   ],
   "source": [
    "x_features.info()"
   ]
  },
  {
   "cell_type": "code",
   "execution_count": null,
   "id": "fe08b8b3",
   "metadata": {},
   "outputs": [],
   "source": []
  },
  {
   "cell_type": "code",
   "execution_count": 151,
   "id": "b9411e0d",
   "metadata": {},
   "outputs": [],
   "source": [
    "from pivottablejs import pivot_ui"
   ]
  },
  {
   "cell_type": "code",
   "execution_count": 152,
   "id": "f1957664",
   "metadata": {},
   "outputs": [],
   "source": [
    "# \"pivot_ui\" permet de regarder nos données effectué des operation et plusieur autre chose\n",
    "\n",
    "# pivot_ui(x_features)"
   ]
  },
  {
   "cell_type": "code",
   "execution_count": 153,
   "id": "735180f0",
   "metadata": {},
   "outputs": [],
   "source": [
    "import pygwalker as pyg"
   ]
  },
  {
   "cell_type": "code",
   "execution_count": 154,
   "id": "dcd067d9",
   "metadata": {},
   "outputs": [],
   "source": [
    "# pyg.walk(df)"
   ]
  },
  {
   "cell_type": "code",
   "execution_count": null,
   "id": "74ec399d",
   "metadata": {},
   "outputs": [],
   "source": []
  },
  {
   "cell_type": "code",
   "execution_count": 164,
   "id": "a4f0aa7e",
   "metadata": {},
   "outputs": [
    {
     "data": {
      "text/plain": [
       "'\\ndata = pd.read_csv(\"ton_fichier\")\\nprofile = profileReport(data, title=\"Rapport d\\'analyse exploratoire de données\", explorative=True)\\nprofile.to_file(\"rapport_eda.html\")\\n'"
      ]
     },
     "execution_count": 164,
     "metadata": {},
     "output_type": "execute_result"
    }
   ],
   "source": [
    "# from ydata_profiling import profileReport\n",
    "\"\"\"\n",
    "data = pd.read_csv(\"ton_fichier\")\n",
    "profile = profileReport(data, title=\"Rapport d'analyse exploratoire de données\", explorative=True)\n",
    "profile.to_file(\"rapport_eda.html\")\n",
    "\"\"\""
   ]
  },
  {
   "cell_type": "code",
   "execution_count": null,
   "id": "860c8485",
   "metadata": {},
   "outputs": [],
   "source": []
  }
 ],
 "metadata": {
  "kernelspec": {
   "display_name": "Python 3 (ipykernel)",
   "language": "python",
   "name": "python3"
  },
  "language_info": {
   "codemirror_mode": {
    "name": "ipython",
    "version": 3
   },
   "file_extension": ".py",
   "mimetype": "text/x-python",
   "name": "python",
   "nbconvert_exporter": "python",
   "pygments_lexer": "ipython3",
   "version": "3.9.13"
  }
 },
 "nbformat": 4,
 "nbformat_minor": 5
}
