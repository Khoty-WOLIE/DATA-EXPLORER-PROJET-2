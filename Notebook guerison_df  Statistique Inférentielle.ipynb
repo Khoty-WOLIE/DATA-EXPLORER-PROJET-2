{
 "cells": [
  {
   "cell_type": "markdown",
   "id": "e04a2f08",
   "metadata": {},
   "source": [
    "## Initiez-vous à la statistique inférentielle\n",
    "   \n",
    "### Taux de guérison suite à un nouveau traitement.\n",
    "\n",
    "Considérons ce premier cas, qu’on peut qualifier de discret :\n",
    "Un laboratoire cherche à savoir si la nouvelle composition du médicament (contre une maladie bénigne) qu’il compte \n",
    "commercialiser améliore le taux de guérison par rapport à un médicament déjà sur le marché. Des tests cliniques ont été \n",
    "effectués sur n=216 (n = l'echantillon)\n",
    "individus sur lesquels on a observé la guérison (notée 1 ) ou la non-guérison (notée 0) : {x1,…,x216}={1,0,1,1,…,1,0}\n",
    "xi désigne l’observation de la guérison ou non pour l’individu i.\n",
    "Le laboratoire observe au total 167 guérisons, soit environ 77,3% de guérisons.\n",
    "Le laboratoire s’adresse à un data analyst pour répondre à plusieurs de ses interrogations :\n",
    "\n",
    "-  Il aimerait connaître le taux de guérison (théorique)p suite à la prise de son médicament.\n",
    "-  Le laboratoire étant conscient que le taux de guérison théorique sera délicat à appréhender parfaitement, \n",
    "il souhaiterait disposer d’une fourchette de ce taux de guérison.\n",
    "-  Enfin, il aimerait vérifier que son nouveau médicament est (significativement) meilleur que celui actuellement sur la \n",
    "marché dont le taux de guérison avéré est p0=0.75 (75%). "
   ]
  },
  {
   "cell_type": "markdown",
   "id": "0031d45c",
   "metadata": {},
   "source": [
    "## Statistique inférentielle"
   ]
  },
  {
   "cell_type": "markdown",
   "id": "9faa3626",
   "metadata": {},
   "source": [
    "### IC sur Guerison "
   ]
  },
  {
   "cell_type": "markdown",
   "id": "51bbe591",
   "metadata": {},
   "source": [
    "On importe le fichier contenant les guérisons ou non-guérisons :"
   ]
  },
  {
   "cell_type": "code",
   "execution_count": 1,
   "id": "3d115b49",
   "metadata": {},
   "outputs": [],
   "source": [
    "import pandas as pd\n",
    "import numpy as np, math\n",
    "guerison =pd.read_csv(\"guerison.txt\")"
   ]
  },
  {
   "cell_type": "code",
   "execution_count": 2,
   "id": "25850f7a",
   "metadata": {},
   "outputs": [
    {
     "data": {
      "text/html": [
       "<div>\n",
       "<style scoped>\n",
       "    .dataframe tbody tr th:only-of-type {\n",
       "        vertical-align: middle;\n",
       "    }\n",
       "\n",
       "    .dataframe tbody tr th {\n",
       "        vertical-align: top;\n",
       "    }\n",
       "\n",
       "    .dataframe thead th {\n",
       "        text-align: right;\n",
       "    }\n",
       "</style>\n",
       "<table border=\"1\" class=\"dataframe\">\n",
       "  <thead>\n",
       "    <tr style=\"text-align: right;\">\n",
       "      <th></th>\n",
       "      <th>guerison</th>\n",
       "    </tr>\n",
       "  </thead>\n",
       "  <tbody>\n",
       "    <tr>\n",
       "      <th>0</th>\n",
       "      <td>1</td>\n",
       "    </tr>\n",
       "    <tr>\n",
       "      <th>1</th>\n",
       "      <td>0</td>\n",
       "    </tr>\n",
       "    <tr>\n",
       "      <th>2</th>\n",
       "      <td>1</td>\n",
       "    </tr>\n",
       "    <tr>\n",
       "      <th>3</th>\n",
       "      <td>1</td>\n",
       "    </tr>\n",
       "    <tr>\n",
       "      <th>4</th>\n",
       "      <td>1</td>\n",
       "    </tr>\n",
       "    <tr>\n",
       "      <th>...</th>\n",
       "      <td>...</td>\n",
       "    </tr>\n",
       "    <tr>\n",
       "      <th>211</th>\n",
       "      <td>1</td>\n",
       "    </tr>\n",
       "    <tr>\n",
       "      <th>212</th>\n",
       "      <td>1</td>\n",
       "    </tr>\n",
       "    <tr>\n",
       "      <th>213</th>\n",
       "      <td>0</td>\n",
       "    </tr>\n",
       "    <tr>\n",
       "      <th>214</th>\n",
       "      <td>1</td>\n",
       "    </tr>\n",
       "    <tr>\n",
       "      <th>215</th>\n",
       "      <td>0</td>\n",
       "    </tr>\n",
       "  </tbody>\n",
       "</table>\n",
       "<p>216 rows × 1 columns</p>\n",
       "</div>"
      ],
      "text/plain": [
       "     guerison\n",
       "0           1\n",
       "1           0\n",
       "2           1\n",
       "3           1\n",
       "4           1\n",
       "..        ...\n",
       "211         1\n",
       "212         1\n",
       "213         0\n",
       "214         1\n",
       "215         0\n",
       "\n",
       "[216 rows x 1 columns]"
      ]
     },
     "execution_count": 2,
     "metadata": {},
     "output_type": "execute_result"
    }
   ],
   "source": [
    "guerison"
   ]
  },
  {
   "cell_type": "markdown",
   "id": "4a3541ec",
   "metadata": {},
   "source": [
    "On peut estimer le taux de guerison théorique  p :"
   ]
  },
  {
   "cell_type": "code",
   "execution_count": 3,
   "id": "834cfa5b",
   "metadata": {},
   "outputs": [],
   "source": [
    "n_guerison=len(guerison)\n",
    "n_guerison_gueris= sum(guerison[guerison[\"guerison\"]==1][\"guerison\"])\n",
    "p_estim= n_guerison_gueris/float(n_guerison)"
   ]
  },
  {
   "cell_type": "markdown",
   "id": "608f16a6",
   "metadata": {},
   "source": [
    "Si on souhaite encadrer le taux de guérison  p\n",
    "  avec une probabilité de  1−α=95%\n",
    " , on obtient alors comme intervalle de confiance ( Φ1−α2=Φ0.975≃1.96\n",
    " ) :\n",
    "\n",
    "[167/216−1.96167216(1−167/216)216‾‾‾‾‾‾‾‾‾√;167/216+1.96167216(1−167216)216‾‾‾‾‾‾‾‾‾√]\n",
    " .\n",
    "\n",
    "Si on lance “manuellement” les calculs au niveau de test 5% :"
   ]
  },
  {
   "cell_type": "code",
   "execution_count": 4,
   "id": "e30a9c00",
   "metadata": {},
   "outputs": [
    {
     "data": {
      "text/plain": [
       "0.72"
      ]
     },
     "execution_count": 4,
     "metadata": {},
     "output_type": "execute_result"
    }
   ],
   "source": [
    "alpha = 0.05\n",
    "from scipy.stats import norm\n",
    "icinf =p_estim-norm.ppf(1-alpha/2)*math.sqrt(p_estim*(1-p_estim)/n_guerison)\n",
    "round(icinf,2)"
   ]
  },
  {
   "cell_type": "code",
   "execution_count": 5,
   "id": "513cec47",
   "metadata": {},
   "outputs": [
    {
     "data": {
      "text/plain": [
       "0.83"
      ]
     },
     "execution_count": 5,
     "metadata": {},
     "output_type": "execute_result"
    }
   ],
   "source": [
    "icsup = p_estim+norm.ppf(1-alpha/2)*math.sqrt(p_estim*(1-p_estim)/n_guerison)\n",
    "round(icsup,2)"
   ]
  },
  {
   "cell_type": "markdown",
   "id": "6ec985ac",
   "metadata": {},
   "source": [
    "On obtient alors : [0.72 ; 0.82]=[72% ; 83%] .\n",
    "\n",
    "On constate que la largeur de l’intervalle n’est pas négligeable, mais n’oublions pas qu’il n’y a que 216 individus dans l’échantillon.\n",
    "\n",
    "En pratique, le data analyst peut obtenir simplement cet intervalle à l’aide de la commande proportion_confint :"
   ]
  },
  {
   "cell_type": "code",
   "execution_count": 6,
   "id": "0caf52a8",
   "metadata": {},
   "outputs": [
    {
     "data": {
      "text/plain": [
       "(0.7172980758199328, 0.8289982204763635)"
      ]
     },
     "execution_count": 6,
     "metadata": {},
     "output_type": "execute_result"
    }
   ],
   "source": [
    "from statsmodels.stats.proportion import proportion_confint\n",
    "proportion_confint(n_guerison_gueris,n_guerison, alpha=alpha, method='normal')"
   ]
  },
  {
   "cell_type": "markdown",
   "id": "ae1c2822",
   "metadata": {},
   "source": [
    "On aurait également pu obtenir un intervalle de confiance “exact”, basé sur la loi binomiale :"
   ]
  },
  {
   "cell_type": "code",
   "execution_count": 7,
   "id": "62cc0bef",
   "metadata": {},
   "outputs": [
    {
     "data": {
      "text/plain": [
       "\"\\nfrom statsmodels.stats.proportion import proportion_confint\\nproportion_confint(n_guerison_gueris,n_guerison, alpha=alpha, method='binom_test')\\n\""
      ]
     },
     "execution_count": 7,
     "metadata": {},
     "output_type": "execute_result"
    }
   ],
   "source": [
    "'''\n",
    "from statsmodels.stats.proportion import proportion_confint\n",
    "proportion_confint(n_guerison_gueris,n_guerison, alpha=alpha, method='binom_test')\n",
    "'''\n",
    "# on observe une erreur lorsqu'on lance cette ligne de code sur l'argument 'binom_test'"
   ]
  },
  {
   "cell_type": "markdown",
   "id": "1111f439",
   "metadata": {},
   "source": [
    "On constate que les résultats diffèrent très peu de l’intervalle de confiance asymptotique.\n",
    "\n",
    "Enfin, si on avait choisi un niveau de confiance plus faible,  1−α=90%\n",
    "  par exemple, on aurait obtenu un intervalle de confiance plus étroit :"
   ]
  },
  {
   "cell_type": "code",
   "execution_count": 8,
   "id": "550055d5",
   "metadata": {},
   "outputs": [
    {
     "data": {
      "text/plain": [
       "(0.7262772899287175, 0.8200190063675787)"
      ]
     },
     "execution_count": 8,
     "metadata": {},
     "output_type": "execute_result"
    }
   ],
   "source": [
    "from statsmodels.stats.proportion import proportion_confint\n",
    "proportion_confint(n_guerison_gueris,n_guerison, alpha=0.1, method='normal')"
   ]
  },
  {
   "cell_type": "markdown",
   "id": "b8875499",
   "metadata": {},
   "source": [
    "On obtient ici  [0.726;0.820]=[72.6%;82.0%]\n",
    " , la largeur de l’intervalle a bel et bien diminué !"
   ]
  },
  {
   "cell_type": "markdown",
   "id": "b825bfb4",
   "metadata": {},
   "source": [
    "### test sur Guerison"
   ]
  },
  {
   "cell_type": "markdown",
   "id": "ee129017",
   "metadata": {},
   "source": [
    "On teste :  {H0:p=p0H1:p>p0\n",
    " \n",
    "avec  p0\n",
    " =0.75.\n",
    "\n",
    "On considère que l’hypothèse gaussienne est acceptable ici, en effet :  np0(1−p0)=216(0.75)(1−0.75)=40.5>5\n",
    "  .\n",
    "\n",
    "Pour  α=5%\n",
    " , on a :\n",
    "\n",
    "Φ1−α≃1.64\n",
    "   p0+Φ1−αp0(1−p0)n‾‾‾‾‾‾‾√≃0.798.\n",
    " \n",
    "On ne rejette pas H0 au niveau de test 5% car :  x¯=0.773≤0.798≃p0+Φ1−αp0(1−p0)n‾‾‾‾‾‾‾√.\n",
    " \n",
    "La p-valeur vaut :  p−valeur=1−Φ(n‾√x¯−p0p0(1−p0)√)≃1−Φ(0.786)≃0.216.\n",
    " \n",
    "On constate que le niveau de test retenu devrait au moins être égal à 21,6% pour rejeter H0 ! Accepter de se tromper dans plus de 20% des cas lorsque rejette l’hypothèse nulle n’est pas rencontré en pratique.\n",
    "\n",
    "Au final, le laboratoire ne peut pas conclure avec un niveau de test raisonnable que le nouveau médicament est meilleur que celui déjà sur le marché."
   ]
  },
  {
   "cell_type": "code",
   "execution_count": 9,
   "id": "379ddca1",
   "metadata": {},
   "outputs": [
    {
     "data": {
      "text/plain": [
       "0.24183479554060167"
      ]
     },
     "execution_count": 9,
     "metadata": {},
     "output_type": "execute_result"
    }
   ],
   "source": [
    "import statsmodels\n",
    "statsmodels.stats.proportion.binom_test(n_guerison_gueris,n_guerison, prop=0.75, alternative='larger')"
   ]
  },
  {
   "cell_type": "code",
   "execution_count": null,
   "id": "b7f9b8b2",
   "metadata": {},
   "outputs": [],
   "source": []
  }
 ],
 "metadata": {
  "kernelspec": {
   "display_name": "Python 3 (ipykernel)",
   "language": "python",
   "name": "python3"
  },
  "language_info": {
   "codemirror_mode": {
    "name": "ipython",
    "version": 3
   },
   "file_extension": ".py",
   "mimetype": "text/x-python",
   "name": "python",
   "nbconvert_exporter": "python",
   "pygments_lexer": "ipython3",
   "version": "3.9.13"
  }
 },
 "nbformat": 4,
 "nbformat_minor": 5
}
