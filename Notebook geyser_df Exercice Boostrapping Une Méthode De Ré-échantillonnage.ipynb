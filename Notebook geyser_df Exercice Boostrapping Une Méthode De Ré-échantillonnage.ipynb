{
 "cells": [
  {
   "cell_type": "markdown",
   "id": "7df034bc",
   "metadata": {},
   "source": [
    "## EXERCICE : BOOTSTRAPPING : UNE METHODE DE REECHANTIONNAGE "
   ]
  },
  {
   "cell_type": "code",
   "execution_count": 29,
   "id": "c4ccb92e",
   "metadata": {},
   "outputs": [],
   "source": [
    "from warnings import filterwarnings\n",
    "filterwarnings('ignore')  # code optionnel"
   ]
  },
  {
   "cell_type": "code",
   "execution_count": 42,
   "id": "fb92af67",
   "metadata": {},
   "outputs": [],
   "source": [
    "import pandas as pd\n",
    "import numpy as np\n",
    "import matplotlib.pyplot as plt\n",
    "import seaborn as sns\n",
    "from scipy import stats\n",
    "plt.style.use('ggplot')  # le style ggplot est un paquege de R pour affiné les graphique\n",
    "\n",
    "# ?pd.pivot_table"
   ]
  },
  {
   "cell_type": "markdown",
   "id": "b4695cce",
   "metadata": {},
   "source": [
    "## EXERCICE 1"
   ]
  },
  {
   "cell_type": "markdown",
   "id": "feae74ae",
   "metadata": {},
   "source": [
    "Supposons que vous possédiez une usine qui produit des clés. Vous voulez connaître la longueur moyenne des clés et vous assurer qu'elles répondent à certaines spécifications. Votre usine produit des milliers de clés chaque jour, mais il est impossible de mesurer la longueur de chaque clé. Cependant, vous avez accès à un échantillon représentatif de 100 clés.\n",
    "\n",
    "Utilisez la méthode Bootstrapping pour obtenir l'intervalle de confiance (IC) à 95% de la longueur moyenne des clés.\n",
    "\n",
    "Que pouvez-vous dire sur la description probabiliste des données ? Construisez un graphique pour appuyer votre\n",
    "\n",
    "commentaire."
   ]
  },
  {
   "cell_type": "code",
   "execution_count": 31,
   "id": "6660be61",
   "metadata": {},
   "outputs": [],
   "source": [
    "# Echantilllon representatrice des 100 clés\n",
    "\n",
    "Longueur_cles = np.array([8.9143694,10.99734545, 10.2829785 ,8.49370529,9.42139975,11.65143654,7.57332076,9.57108737, \n",
    "                          11.26593626,9.13325969,9.32111385,9.90529103, 11.49138963,9.3610989,9.55601804,9.56564872, 12.20593008,\n",
    "                          12.18678609, 11.0040539 , 10.3861864 ,10.73736858, 11.49073203,9.06416613, 11.17582904, 8.74611933,\n",
    "                          9.3622485, 10.9071052,8.5713193,9.85993128,9.1382451,9.74438063,7.20141089,8.2284669,9.30012277,\n",
    "                          10.92746243,9.82636432, 10.00284592, 10.68822271,9.12046366, 10.28362732,9.19463348, 8.27233051, \n",
    "                          9.60910021, 10.57380586, 10.33858905,9.98816951, 12.39236527, 10.41291216, 10.97873601, \n",
    "                          12.23814334,8.70591468,8.96121179, 11.74371223,9.20193726, 10.02968323,11.06931597, 10.89070639,\n",
    "                          11.75488618,11.49564414, 11.06939267,9.22729129, 10.79486267, 10.31427199,8.67373454,11.41729905,\n",
    "                          10.80723653, 10.04549008, 9.76690794,8.80169886, 10.19952407,10.46843912, 9.16884502, 11.16220405,\n",
    "                          8.90279695,7.87689965,11.03972709,11.25523737,9.59663396,9.87397041,9.16248328,8.39403724,\n",
    "                          9.31113102, 11.66095249,8.914097610,10.80730819,9.68524185,9.26753801,8.78747687,12.08711336,\n",
    "                          10.16444123, 9.22729129, 10.79486267, 10.31427199, 8.67373454, 11.41729905,10.80723653, \n",
    "                          10.04549008, 9.76690794,8.80169886, 10.19952407,10.46843912,9.16884502, 11.16220405,8.90279695, \n",
    "                          7.87689965,11.03972709, 9.59663396, 9.87397041, 9.16248328, 8.39403724,11.25523737, 9.31113102, \n",
    "                          11.66095249, 10.80730819, 9.68524185,8.9140976,9.26753801, 8.78747687, 12.08711336, 10.16444123,\n",
    "                          11.15020554,8.73264795, 10.18103513, 11.17786194, 9.66498924,11.03111446, 8.91543209, 8.63652846, \n",
    "                          10.37940061, 9.62082357])"
   ]
  },
  {
   "cell_type": "code",
   "execution_count": 32,
   "id": "4a3cbdd2",
   "metadata": {},
   "outputs": [],
   "source": [
    "# Fonction pour generer plusieurs replique bootstrap\n",
    "\n",
    "def compute_boots_repliqs(data, function, size = 1):    # function ICI peu etre la fonction mean ou std (ex: np.std)\n",
    "                                                         # mettre en paramettre la fonction (ex: np.std ou np.mean  etc)\n",
    "    boots_repliqs = np.empty(size)\n",
    "    \n",
    "    for i in range(size):\n",
    "        boots_repliqs[i] = function(np.random.choice(data, len(data))) # function ici peu etre la fonction mean ou std \n",
    "                                                                      # (ex: np.std ou np.mean  etc)\n",
    "    return boots_repliqs"
   ]
  },
  {
   "cell_type": "code",
   "execution_count": 33,
   "id": "6dac1d77",
   "metadata": {},
   "outputs": [
    {
     "data": {
      "text/plain": [
       "array([ 9.81157451, 10.19302282])"
      ]
     },
     "execution_count": 33,
     "metadata": {},
     "output_type": "execute_result"
    }
   ],
   "source": [
    "# Calcul de l'intervalle de confiance a 95%\n",
    "\n",
    "mean_boots = compute_boots_repliqs(Longueur_cles, np.mean, size = 100000)  # j'ai enregistrer dans une liste mean_boots\n",
    "\n",
    "intervalle_confiance = np.percentile(mean_boots, [2.5, 97.5])\n",
    "\n",
    "intervalle_confiance\n",
    "\n",
    "# L'intervalle de confiance de la longueur moyenne d'une clé est de [ 9.81256289, 10.19294938]"
   ]
  },
  {
   "cell_type": "code",
   "execution_count": 34,
   "id": "c7a904e8",
   "metadata": {},
   "outputs": [
    {
     "data": {
      "image/png": "[encoded data removed]",
      "text/plain": [
       "<Figure size 640x480 with 1 Axes>"
      ]
     },
     "metadata": {},
     "output_type": "display_data"
    }
   ],
   "source": [
    "# graphique de description probaliste des données et commentaire\n",
    "\n",
    "sns.distplot(mean_boots)\n",
    "\n",
    "plt.xlabel(\"logueur des clés\")\n",
    "\n",
    "plt.show()"
   ]
  },
  {
   "cell_type": "markdown",
   "id": "7ee8adfb",
   "metadata": {},
   "source": [
    "La distribution des repliques bootstrap de la moyenne logueur de la clé suit parfaitement une loi normal avec une forme en cloche."
   ]
  },
  {
   "cell_type": "markdown",
   "id": "666c53ac",
   "metadata": {},
   "source": [
    "## EXERCICE 2"
   ]
  },
  {
   "cell_type": "code",
   "execution_count": 35,
   "id": "6c9c6a2e",
   "metadata": {},
   "outputs": [
    {
     "data": {
      "text/plain": [
       "['anagrams',\n",
       " 'anscombe',\n",
       " 'attention',\n",
       " 'brain_networks',\n",
       " 'car_crashes',\n",
       " 'diamonds',\n",
       " 'dots',\n",
       " 'dowjones',\n",
       " 'exercise',\n",
       " 'flights',\n",
       " 'fmri',\n",
       " 'geyser',\n",
       " 'glue',\n",
       " 'healthexp',\n",
       " 'iris',\n",
       " 'mpg',\n",
       " 'penguins',\n",
       " 'planets',\n",
       " 'seaice',\n",
       " 'taxis',\n",
       " 'tips',\n",
       " 'titanic']"
      ]
     },
     "execution_count": 35,
     "metadata": {},
     "output_type": "execute_result"
    }
   ],
   "source": [
    "sns.get_dataset_names()"
   ]
  },
  {
   "cell_type": "markdown",
   "id": "4253b689",
   "metadata": {},
   "source": [
    "pour ullustrer la technique de bootstrapping, nous utiliserons les données \"geyser\" du celebre jeu de données seaborn"
   ]
  },
  {
   "cell_type": "code",
   "execution_count": 36,
   "id": "d404cd85",
   "metadata": {},
   "outputs": [
    {
     "data": {
      "text/html": [
       "<div>\n",
       "<style scoped>\n",
       "    .dataframe tbody tr th:only-of-type {\n",
       "        vertical-align: middle;\n",
       "    }\n",
       "\n",
       "    .dataframe tbody tr th {\n",
       "        vertical-align: top;\n",
       "    }\n",
       "\n",
       "    .dataframe thead th {\n",
       "        text-align: right;\n",
       "    }\n",
       "</style>\n",
       "<table border=\"1\" class=\"dataframe\">\n",
       "  <thead>\n",
       "    <tr style=\"text-align: right;\">\n",
       "      <th></th>\n",
       "      <th>duration</th>\n",
       "      <th>waiting</th>\n",
       "      <th>kind</th>\n",
       "    </tr>\n",
       "  </thead>\n",
       "  <tbody>\n",
       "    <tr>\n",
       "      <th>0</th>\n",
       "      <td>3.600</td>\n",
       "      <td>79</td>\n",
       "      <td>long</td>\n",
       "    </tr>\n",
       "    <tr>\n",
       "      <th>1</th>\n",
       "      <td>1.800</td>\n",
       "      <td>54</td>\n",
       "      <td>short</td>\n",
       "    </tr>\n",
       "    <tr>\n",
       "      <th>2</th>\n",
       "      <td>3.333</td>\n",
       "      <td>74</td>\n",
       "      <td>long</td>\n",
       "    </tr>\n",
       "    <tr>\n",
       "      <th>3</th>\n",
       "      <td>2.283</td>\n",
       "      <td>62</td>\n",
       "      <td>short</td>\n",
       "    </tr>\n",
       "    <tr>\n",
       "      <th>4</th>\n",
       "      <td>4.533</td>\n",
       "      <td>85</td>\n",
       "      <td>long</td>\n",
       "    </tr>\n",
       "    <tr>\n",
       "      <th>...</th>\n",
       "      <td>...</td>\n",
       "      <td>...</td>\n",
       "      <td>...</td>\n",
       "    </tr>\n",
       "    <tr>\n",
       "      <th>267</th>\n",
       "      <td>4.117</td>\n",
       "      <td>81</td>\n",
       "      <td>long</td>\n",
       "    </tr>\n",
       "    <tr>\n",
       "      <th>268</th>\n",
       "      <td>2.150</td>\n",
       "      <td>46</td>\n",
       "      <td>short</td>\n",
       "    </tr>\n",
       "    <tr>\n",
       "      <th>269</th>\n",
       "      <td>4.417</td>\n",
       "      <td>90</td>\n",
       "      <td>long</td>\n",
       "    </tr>\n",
       "    <tr>\n",
       "      <th>270</th>\n",
       "      <td>1.817</td>\n",
       "      <td>46</td>\n",
       "      <td>short</td>\n",
       "    </tr>\n",
       "    <tr>\n",
       "      <th>271</th>\n",
       "      <td>4.467</td>\n",
       "      <td>74</td>\n",
       "      <td>long</td>\n",
       "    </tr>\n",
       "  </tbody>\n",
       "</table>\n",
       "<p>272 rows × 3 columns</p>\n",
       "</div>"
      ],
      "text/plain": [
       "     duration  waiting   kind\n",
       "0       3.600       79   long\n",
       "1       1.800       54  short\n",
       "2       3.333       74   long\n",
       "3       2.283       62  short\n",
       "4       4.533       85   long\n",
       "..        ...      ...    ...\n",
       "267     4.117       81   long\n",
       "268     2.150       46  short\n",
       "269     4.417       90   long\n",
       "270     1.817       46  short\n",
       "271     4.467       74   long\n",
       "\n",
       "[272 rows x 3 columns]"
      ]
     },
     "execution_count": 36,
     "metadata": {},
     "output_type": "execute_result"
    }
   ],
   "source": [
    "geyser_df = sns.load_dataset('geyser')\n",
    "geyser_df"
   ]
  },
  {
   "cell_type": "code",
   "execution_count": 37,
   "id": "e811a4f7",
   "metadata": {},
   "outputs": [
    {
     "data": {
      "text/plain": [
       "array([73.5, 77. ])"
      ]
     },
     "execution_count": 37,
     "metadata": {},
     "output_type": "execute_result"
    }
   ],
   "source": [
    "# Calculer l'intervalle de confiance à 95% du poids median\n",
    "\n",
    "np.percentile(compute_boots_repliqs(geyser_df['waiting'], np.median, size = 10000), [2.5, 97.5])"
   ]
  },
  {
   "cell_type": "markdown",
   "id": "7c0615af",
   "metadata": {},
   "source": [
    " L'IMC est égale au poids en Kg divisé par le carré de la taille en m. ses valeurs je vais uliser son pas réel. \n",
    " c'est pour apprendre a calculer et diviser par le metre carré"
   ]
  },
  {
   "cell_type": "code",
   "execution_count": 38,
   "id": "c26ac429",
   "metadata": {},
   "outputs": [
    {
     "data": {
      "text/html": [
       "<div>\n",
       "<style scoped>\n",
       "    .dataframe tbody tr th:only-of-type {\n",
       "        vertical-align: middle;\n",
       "    }\n",
       "\n",
       "    .dataframe tbody tr th {\n",
       "        vertical-align: top;\n",
       "    }\n",
       "\n",
       "    .dataframe thead th {\n",
       "        text-align: right;\n",
       "    }\n",
       "</style>\n",
       "<table border=\"1\" class=\"dataframe\">\n",
       "  <thead>\n",
       "    <tr style=\"text-align: right;\">\n",
       "      <th></th>\n",
       "      <th>duration</th>\n",
       "      <th>waiting</th>\n",
       "      <th>kind</th>\n",
       "      <th>IMC</th>\n",
       "    </tr>\n",
       "  </thead>\n",
       "  <tbody>\n",
       "    <tr>\n",
       "      <th>0</th>\n",
       "      <td>3.600</td>\n",
       "      <td>79</td>\n",
       "      <td>long</td>\n",
       "      <td>5.768306</td>\n",
       "    </tr>\n",
       "    <tr>\n",
       "      <th>1</th>\n",
       "      <td>1.800</td>\n",
       "      <td>54</td>\n",
       "      <td>short</td>\n",
       "      <td>6.172840</td>\n",
       "    </tr>\n",
       "    <tr>\n",
       "      <th>2</th>\n",
       "      <td>3.333</td>\n",
       "      <td>74</td>\n",
       "      <td>long</td>\n",
       "      <td>6.086560</td>\n",
       "    </tr>\n",
       "    <tr>\n",
       "      <th>3</th>\n",
       "      <td>2.283</td>\n",
       "      <td>62</td>\n",
       "      <td>short</td>\n",
       "      <td>5.939126</td>\n",
       "    </tr>\n",
       "    <tr>\n",
       "      <th>4</th>\n",
       "      <td>4.533</td>\n",
       "      <td>85</td>\n",
       "      <td>long</td>\n",
       "      <td>6.274048</td>\n",
       "    </tr>\n",
       "  </tbody>\n",
       "</table>\n",
       "</div>"
      ],
      "text/plain": [
       "   duration  waiting   kind       IMC\n",
       "0     3.600       79   long  5.768306\n",
       "1     1.800       54  short  6.172840\n",
       "2     3.333       74   long  6.086560\n",
       "3     2.283       62  short  5.939126\n",
       "4     4.533       85   long  6.274048"
      ]
     },
     "execution_count": 38,
     "metadata": {},
     "output_type": "execute_result"
    }
   ],
   "source": [
    "# Calculer l'intervalle de confiance à 95% de L'IMC moyen\n",
    "\n",
    "geyser_df['IMC'] = geyser_df['duration'] / (geyser_df['waiting']*0.01)**2\n",
    "geyser_df.head()"
   ]
  },
  {
   "cell_type": "code",
   "execution_count": 39,
   "id": "f3c473d1",
   "metadata": {},
   "outputs": [
    {
     "data": {
      "text/plain": [
       "array([6.73763513, 7.02228454])"
      ]
     },
     "execution_count": 39,
     "metadata": {},
     "output_type": "execute_result"
    }
   ],
   "source": [
    "# Calculer l'intervalle de confiance à 95% de L'IMC moyen\n",
    "\n",
    "np.percentile(compute_boots_repliqs(geyser_df['IMC'], np.mean, size = 10000), [2.5, 97.5])"
   ]
  },
  {
   "cell_type": "code",
   "execution_count": 40,
   "id": "e33a3df3",
   "metadata": {},
   "outputs": [
    {
     "data": {
      "text/plain": [
       "array([1.09075662, 1.30242091])"
      ]
     },
     "execution_count": 40,
     "metadata": {},
     "output_type": "execute_result"
    }
   ],
   "source": [
    "# Calculer l'intervalle de confiance à 95% de L'IMC Ecart-type\n",
    "\n",
    "np.percentile(compute_boots_repliqs(geyser_df['IMC'], np.std, size = 10000), [2.5, 97.5])"
   ]
  },
  {
   "cell_type": "code",
   "execution_count": null,
   "id": "6e3b17e7",
   "metadata": {},
   "outputs": [],
   "source": []
  }
 ],
 "metadata": {
  "kernelspec": {
   "display_name": "Python 3 (ipykernel)",
   "language": "python",
   "name": "python3"
  },
  "language_info": {
   "codemirror_mode": {
    "name": "ipython",
    "version": 3
   },
   "file_extension": ".py",
   "mimetype": "text/x-python",
   "name": "python",
   "nbconvert_exporter": "python",
   "pygments_lexer": "ipython3",
   "version": "3.9.13"
  }
 },
 "nbformat": 4,
 "nbformat_minor": 5
}
