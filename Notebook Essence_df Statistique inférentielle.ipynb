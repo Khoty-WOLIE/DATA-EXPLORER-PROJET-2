{
 "cells": [
  {
   "cell_type": "markdown",
   "id": "adead8a3",
   "metadata": {},
   "source": [
    "## Initiez-vous à la statistique inférentielle\n",
    "   \n",
    "Consommation d’essence de cars\n",
    "\n",
    "Considérons ce second cas, qu’on peut qualifier de continu, par opposition à \"discret\".\n",
    "Un constructeur de cars souhaite appréhender la consommation d’essence de son dernier modèle. Pour cela, il lance un \n",
    "protocole d’essais sur 128 cars et recueille leur consommation d’essence en litres après avoir parcouru 100 km \n",
    "(appelée nombre de litres aux 100) :\n",
    "{x1,…,x128}={26.23,26.40,26.85,…,35.50,35.50,36.07\\.\n",
    "Pour information, la consommation moyenne observée est égale à 31.45 litres aux 100.\n",
    "Le constructeur s’adresse à un data analyst pour répondre à plusieurs de ses interrogations :\n",
    "1- Il aimerait connaître la consommation (théorique) d’essence μ de son modèle de car.\n",
    "2- De manière plus modeste, il souhaiterait également disposer d’un intervalle autour de cette consommation, il l’aura\n",
    "en effet évalué sur un nombre limité de véhicules et de trajets.\n",
    "3- Enfin, il souhaiterait communiquer auprès de ses clients sur un chiffre ambitieux : une consommation égale à μ0=31\n",
    "litres aux 100."
   ]
  },
  {
   "cell_type": "markdown",
   "id": "b13c4942",
   "metadata": {},
   "source": [
    "## Statistique inférentielle"
   ]
  },
  {
   "cell_type": "markdown",
   "id": "981840eb",
   "metadata": {},
   "source": [
    "###  stats descs sur Essence"
   ]
  },
  {
   "cell_type": "markdown",
   "id": "04b235b0",
   "metadata": {},
   "source": [
    "On importe le fichier contenant les consommations d’essence :"
   ]
  },
  {
   "cell_type": "code",
   "execution_count": 1,
   "id": "3e2cc8c4",
   "metadata": {},
   "outputs": [],
   "source": [
    "import pandas as pd\n",
    "essence = pd.read_csv(\"essence.txt\")"
   ]
  },
  {
   "cell_type": "code",
   "execution_count": 2,
   "id": "c1c269fa",
   "metadata": {},
   "outputs": [
    {
     "data": {
      "text/html": [
       "<div>\n",
       "<style scoped>\n",
       "    .dataframe tbody tr th:only-of-type {\n",
       "        vertical-align: middle;\n",
       "    }\n",
       "\n",
       "    .dataframe tbody tr th {\n",
       "        vertical-align: top;\n",
       "    }\n",
       "\n",
       "    .dataframe thead th {\n",
       "        text-align: right;\n",
       "    }\n",
       "</style>\n",
       "<table border=\"1\" class=\"dataframe\">\n",
       "  <thead>\n",
       "    <tr style=\"text-align: right;\">\n",
       "      <th></th>\n",
       "      <th>conso</th>\n",
       "    </tr>\n",
       "  </thead>\n",
       "  <tbody>\n",
       "    <tr>\n",
       "      <th>0</th>\n",
       "      <td>30.65</td>\n",
       "    </tr>\n",
       "    <tr>\n",
       "      <th>1</th>\n",
       "      <td>31.35</td>\n",
       "    </tr>\n",
       "    <tr>\n",
       "      <th>2</th>\n",
       "      <td>33.03</td>\n",
       "    </tr>\n",
       "    <tr>\n",
       "      <th>3</th>\n",
       "      <td>31.94</td>\n",
       "    </tr>\n",
       "    <tr>\n",
       "      <th>4</th>\n",
       "      <td>32.05</td>\n",
       "    </tr>\n",
       "    <tr>\n",
       "      <th>...</th>\n",
       "      <td>...</td>\n",
       "    </tr>\n",
       "    <tr>\n",
       "      <th>123</th>\n",
       "      <td>30.05</td>\n",
       "    </tr>\n",
       "    <tr>\n",
       "      <th>124</th>\n",
       "      <td>26.85</td>\n",
       "    </tr>\n",
       "    <tr>\n",
       "      <th>125</th>\n",
       "      <td>33.28</td>\n",
       "    </tr>\n",
       "    <tr>\n",
       "      <th>126</th>\n",
       "      <td>32.10</td>\n",
       "    </tr>\n",
       "    <tr>\n",
       "      <th>127</th>\n",
       "      <td>31.88</td>\n",
       "    </tr>\n",
       "  </tbody>\n",
       "</table>\n",
       "<p>128 rows × 1 columns</p>\n",
       "</div>"
      ],
      "text/plain": [
       "     conso\n",
       "0    30.65\n",
       "1    31.35\n",
       "2    33.03\n",
       "3    31.94\n",
       "4    32.05\n",
       "..     ...\n",
       "123  30.05\n",
       "124  26.85\n",
       "125  33.28\n",
       "126  32.10\n",
       "127  31.88\n",
       "\n",
       "[128 rows x 1 columns]"
      ]
     },
     "execution_count": 2,
     "metadata": {},
     "output_type": "execute_result"
    }
   ],
   "source": [
    "essence"
   ]
  },
  {
   "cell_type": "markdown",
   "id": "5c4276c5",
   "metadata": {},
   "source": [
    "On calcule la moyenne, la variance et l’écart-type de l’échantillon :"
   ]
  },
  {
   "cell_type": "code",
   "execution_count": 3,
   "id": "9daf9485",
   "metadata": {},
   "outputs": [
    {
     "data": {
      "text/plain": [
       "31.45"
      ]
     },
     "execution_count": 3,
     "metadata": {},
     "output_type": "execute_result"
    }
   ],
   "source": [
    "import numpy as np, math\n",
    "xbar=np.mean(essence['conso'])\n",
    "round(xbar,2)"
   ]
  },
  {
   "cell_type": "code",
   "execution_count": 4,
   "id": "c2f9b58c",
   "metadata": {},
   "outputs": [
    {
     "data": {
      "text/plain": [
       "2.16"
      ]
     },
     "execution_count": 4,
     "metadata": {},
     "output_type": "execute_result"
    }
   ],
   "source": [
    "sprime = np.std(essence['conso'], ddof=1)\n",
    "round(sprime,2)"
   ]
  },
  {
   "cell_type": "code",
   "execution_count": 5,
   "id": "4079e9bf",
   "metadata": {},
   "outputs": [
    {
     "data": {
      "text/plain": [
       "4.66"
      ]
     },
     "execution_count": 5,
     "metadata": {},
     "output_type": "execute_result"
    }
   ],
   "source": [
    "n_essence = len(essence)\n",
    "sprime2 = np.var(essence['conso'], ddof=1)\n",
    "round(sprime2,2)"
   ]
  },
  {
   "cell_type": "markdown",
   "id": "cd4e530a",
   "metadata": {},
   "source": [
    "Si on souhaite obtenir la variance “biaisée”, on peut l’obtenir ainsi :"
   ]
  },
  {
   "cell_type": "code",
   "execution_count": 6,
   "id": "97d9b837",
   "metadata": {},
   "outputs": [
    {
     "data": {
      "text/plain": [
       "4.63"
      ]
     },
     "execution_count": 6,
     "metadata": {},
     "output_type": "execute_result"
    }
   ],
   "source": [
    "v = np.var(essence['conso'])\n",
    "round(v,2)"
   ]
  },
  {
   "cell_type": "markdown",
   "id": "805066a3",
   "metadata": {},
   "source": [
    "On peut visualiser l’histogramme :"
   ]
  },
  {
   "cell_type": "code",
   "execution_count": 7,
   "id": "dc11c686",
   "metadata": {},
   "outputs": [
    {
     "data": {
      "text/plain": [
       "Text(0.5, 1.0, 'histogramme')"
      ]
     },
     "execution_count": 7,
     "metadata": {},
     "output_type": "execute_result"
    },
    {
     "data": {
      "image/png": "[encoded data removed]",
      "text/plain": [
       "<Figure size 640x480 with 1 Axes>"
      ]
     },
     "metadata": {},
     "output_type": "display_data"
    }
   ],
   "source": [
    "import matplotlib.pyplot as plt\n",
    "%matplotlib inline\n",
    "plt.hist(essence['conso'],bins=range(26,38))\n",
    "plt.title(\"histogramme\")"
   ]
  },
  {
   "cell_type": "markdown",
   "id": "0890e64e",
   "metadata": {},
   "source": [
    "On peut visualiser sur cet histogramme la moyenne empirique :"
   ]
  },
  {
   "cell_type": "code",
   "execution_count": 8,
   "id": "47066b45",
   "metadata": {},
   "outputs": [
    {
     "data": {
      "text/plain": [
       "<matplotlib.legend.Legend at 0x22b47a00d60>"
      ]
     },
     "execution_count": 8,
     "metadata": {},
     "output_type": "execute_result"
    },
    {
     "data": {
      "image/png": "[encoded data removed]",
      "text/plain": [
       "<Figure size 640x480 with 1 Axes>"
      ]
     },
     "metadata": {},
     "output_type": "display_data"
    }
   ],
   "source": [
    "plt.hist(essence['conso'],bins=range(26,38))\n",
    "plt.title(\"histogramme\")\n",
    "plt.axvline(xbar, color='r', linewidth=2)\n",
    "import matplotlib.lines as mlines\n",
    "plt.legend(handles=[mlines.Line2D([], [], color='red',markersize=15, label=\"Moyenne empirique\")])"
   ]
  },
  {
   "cell_type": "markdown",
   "id": "1315dc6a",
   "metadata": {},
   "source": [
    "On peut visualiser sur cet histogramme la moyenne empirique et le seuil “métier” :"
   ]
  },
  {
   "cell_type": "code",
   "execution_count": 9,
   "id": "c8d8d7e7",
   "metadata": {},
   "outputs": [
    {
     "data": {
      "text/plain": [
       "<matplotlib.legend.Legend at 0x22b47aa5280>"
      ]
     },
     "execution_count": 9,
     "metadata": {},
     "output_type": "execute_result"
    },
    {
     "data": {
      "image/png": "[encoded data removed]",
      "text/plain": [
       "<Figure size 640x480 with 1 Axes>"
      ]
     },
     "metadata": {},
     "output_type": "display_data"
    }
   ],
   "source": [
    "mu0=31  # avec mu0 la moyenne théorique\n",
    "plt.hist(essence['conso'],bins=range(26,38))\n",
    "plt.title(\"histogramme\")\n",
    "plt.axvline(xbar, color='r', linewidth=2)\n",
    "plt.axvline(mu0, color='b', linewidth=2)\n",
    "import matplotlib.lines as mlines\n",
    "plt.legend(handles=[mlines.Line2D([], [], color='red',markersize=15, label=\"Moyenne empirique\"),mlines.Line2D([], [], color='blue',markersize=15, label=u\"Seuil testé\")])"
   ]
  },
  {
   "cell_type": "markdown",
   "id": "8df8f7d4",
   "metadata": {},
   "source": [
    "On peut enfin superposer sur cet histogramme la densité gaussienne :"
   ]
  },
  {
   "cell_type": "code",
   "execution_count": 10,
   "id": "49b377c7",
   "metadata": {},
   "outputs": [
    {
     "data": {
      "text/plain": [
       "'\\nimport matplotlib.mlab as mlab\\nfig, ax = plt.subplots()\\nn, bins, patches = ax.hist(essence[\\'conso\\'],normed=True,bins=range(26,38))\\nbins=np.arange(26,37,0.1)\\ny = mlab.normpdf(bins, xbar,sprime)*100\\nax.plot(bins, y, \\'--\\')\\nax.set_xlabel(\\'Smarts\\')\\nax.set_title(u\"Histogramme et densité normale\")\\n'"
      ]
     },
     "execution_count": 10,
     "metadata": {},
     "output_type": "execute_result"
    }
   ],
   "source": [
    "'''\n",
    "import matplotlib.mlab as mlab\n",
    "fig, ax = plt.subplots()\n",
    "n, bins, patches = ax.hist(essence['conso'],normed=True,bins=range(26,38))\n",
    "bins=np.arange(26,37,0.1)\n",
    "y = mlab.normpdf(bins, xbar,sprime)*100\n",
    "ax.plot(bins, y, '--')\n",
    "ax.set_xlabel('Smarts')\n",
    "ax.set_title(u\"Histogramme et densité normale\")\n",
    "'''\n",
    "\n",
    "# On constate que l’écart entre l’histogrammme, primo-estimation de la densité de probabilité, et la densité gaussienne\n",
    "# sont plutôt proches."
   ]
  },
  {
   "cell_type": "markdown",
   "id": "04f527df",
   "metadata": {},
   "source": [
    "### IC sur moyenne Essence"
   ]
  },
  {
   "cell_type": "markdown",
   "id": "f141e136",
   "metadata": {},
   "source": [
    "Si on souhaite encadrer la consommation d’essence moyenne (théorique)  μ avec une probabilité de 95%, on obtient alors comme intervalle de confiance\n",
    "Remarquons ici que l’hypothèse gaussienne n’était pas obligatoire ici, en effet l’échantillon est de taille suffisamment importante (supérieure à 30).\n",
    "\n",
    "Si on lance “manuellement” les calculs au niveau de test 5% :"
   ]
  },
  {
   "cell_type": "code",
   "execution_count": 11,
   "id": "41fa64bb",
   "metadata": {},
   "outputs": [
    {
     "data": {
      "text/plain": [
       "31.07"
      ]
     },
     "execution_count": 11,
     "metadata": {},
     "output_type": "execute_result"
    }
   ],
   "source": [
    "alpha = 0.05\n",
    "import scipy\n",
    "icinf=xbar-scipy.stats.t.ppf(1-alpha/2,n_essence-1)*sprime/math.sqrt(n_essence)\n",
    "round(icinf,2)"
   ]
  },
  {
   "cell_type": "code",
   "execution_count": 12,
   "id": "dea7561f",
   "metadata": {},
   "outputs": [
    {
     "data": {
      "text/plain": [
       "31.83"
      ]
     },
     "execution_count": 12,
     "metadata": {},
     "output_type": "execute_result"
    }
   ],
   "source": [
    "icsup=xbar+scipy.stats.t.ppf(1-alpha/2,n_essence-1)*sprime/math.sqrt(n_essence)\n",
    "round(icsup,2)"
   ]
  },
  {
   "cell_type": "markdown",
   "id": "b81bd5b8",
   "metadata": {},
   "source": [
    "On obtient alors : [31.07 ; 31.83] ."
   ]
  },
  {
   "cell_type": "markdown",
   "id": "6197ec47",
   "metadata": {},
   "source": [
    "### IC sur variance Essence"
   ]
  },
  {
   "cell_type": "markdown",
   "id": "b0c57b54",
   "metadata": {},
   "source": [
    "Si on souhaite encadrer la variance (théorique) de la consommation d’essence σ2 avec une probabilité de 95%, on obtient alors comme intervalle de confiance\n",
    "Si on lance “manuellement” les calculs au niveau de test 5% :"
   ]
  },
  {
   "cell_type": "code",
   "execution_count": 13,
   "id": "a9719360",
   "metadata": {},
   "outputs": [
    {
     "data": {
      "text/plain": [
       "3.7"
      ]
     },
     "execution_count": 13,
     "metadata": {},
     "output_type": "execute_result"
    }
   ],
   "source": [
    "icinf = (n_essence-1)*sprime2/scipy.stats.chi2.ppf(1-alpha/2,n_essence-1)\n",
    "round(icinf,2)"
   ]
  },
  {
   "cell_type": "code",
   "execution_count": 14,
   "id": "2db4fd08",
   "metadata": {},
   "outputs": [
    {
     "data": {
      "text/plain": [
       "6.06"
      ]
     },
     "execution_count": 14,
     "metadata": {},
     "output_type": "execute_result"
    }
   ],
   "source": [
    "icsup = (n_essence-1)*sprime2/scipy.stats.chi2.ppf(alpha/2,n_essence-1)\n",
    "round(icsup,2)"
   ]
  },
  {
   "cell_type": "markdown",
   "id": "b07e1fc5",
   "metadata": {},
   "source": [
    "On obtient alors : [3.70 ; 6.06] .\n",
    "\n",
    "Remarquons encore ici que l’hypothèse gaussienne n’était pas obligatoire ici, en effet l’échantillon est de taille suffisamment importante (supérieure à 30)."
   ]
  },
  {
   "cell_type": "markdown",
   "id": "87651b20",
   "metadata": {},
   "source": [
    "### test sur moyenne Essence"
   ]
  },
  {
   "cell_type": "markdown",
   "id": "f9af3b8f",
   "metadata": {},
   "source": [
    "On constate qu’on rejette bien l’hypothèse nulle au niveau de test 5% (0.02<0.05) mais pas au niveau de test 1% (0.02≥1%).\n",
    "\n",
    "En pratique, le data analyst peut utiliser la commande ttest_1samp pour résoudre ce test :"
   ]
  },
  {
   "cell_type": "code",
   "execution_count": 15,
   "id": "cb0ae88b",
   "metadata": {},
   "outputs": [
    {
     "data": {
      "text/plain": [
       "Ttest_1sampResult(statistic=2.354357516761916, pvalue=0.020088330843337596)"
      ]
     },
     "execution_count": 15,
     "metadata": {},
     "output_type": "execute_result"
    }
   ],
   "source": [
    "scipy.stats.ttest_1samp(essence[\"conso\"],31)"
   ]
  },
  {
   "cell_type": "markdown",
   "id": "4d55dc3c",
   "metadata": {},
   "source": [
    "### test sur variance Essence"
   ]
  },
  {
   "cell_type": "markdown",
   "id": "8ddc7bf9",
   "metadata": {},
   "source": [
    "Considérons par exemple le test suivant :  {H0:σ2 = σ20 et H1:σ2 ≥ σ20 .\n",
    "avec  σ20=4.5."
   ]
  },
  {
   "cell_type": "markdown",
   "id": "0c6a7d5b",
   "metadata": {},
   "source": [
    "### test comparaison sur Iris"
   ]
  },
  {
   "cell_type": "markdown",
   "id": "27030039",
   "metadata": {},
   "source": [
    "Considérons dans le (fameux) jeu de données historique des iris de Fisher la longueur des pétales d’iris des variétés et , sachant que nous disposons d’échantillons de 50 individus de chaque variété."
   ]
  },
  {
   "cell_type": "code",
   "execution_count": 16,
   "id": "c39e5bba",
   "metadata": {},
   "outputs": [],
   "source": [
    "from sklearn import datasets\n",
    "Iris = datasets.load_iris()"
   ]
  },
  {
   "cell_type": "code",
   "execution_count": 17,
   "id": "e6da886e",
   "metadata": {},
   "outputs": [],
   "source": [
    "def function(x):\n",
    "    return Iris['target_names'][x]\n",
    "iris=pd.DataFrame(Iris[\"data\"])\n",
    "iris.columns = Iris['feature_names']\n",
    "iris[\"Species\"]=Iris['target']\n",
    "iris[\"Species\"]=iris[\"Species\"].apply(function)"
   ]
  },
  {
   "cell_type": "code",
   "execution_count": 18,
   "id": "16608503",
   "metadata": {},
   "outputs": [
    {
     "data": {
      "text/html": [
       "<div>\n",
       "<style scoped>\n",
       "    .dataframe tbody tr th:only-of-type {\n",
       "        vertical-align: middle;\n",
       "    }\n",
       "\n",
       "    .dataframe tbody tr th {\n",
       "        vertical-align: top;\n",
       "    }\n",
       "\n",
       "    .dataframe thead th {\n",
       "        text-align: right;\n",
       "    }\n",
       "</style>\n",
       "<table border=\"1\" class=\"dataframe\">\n",
       "  <thead>\n",
       "    <tr style=\"text-align: right;\">\n",
       "      <th></th>\n",
       "      <th>sepal length (cm)</th>\n",
       "      <th>sepal width (cm)</th>\n",
       "      <th>petal length (cm)</th>\n",
       "      <th>petal width (cm)</th>\n",
       "      <th>Species</th>\n",
       "    </tr>\n",
       "  </thead>\n",
       "  <tbody>\n",
       "    <tr>\n",
       "      <th>0</th>\n",
       "      <td>5.1</td>\n",
       "      <td>3.5</td>\n",
       "      <td>1.4</td>\n",
       "      <td>0.2</td>\n",
       "      <td>setosa</td>\n",
       "    </tr>\n",
       "    <tr>\n",
       "      <th>1</th>\n",
       "      <td>4.9</td>\n",
       "      <td>3.0</td>\n",
       "      <td>1.4</td>\n",
       "      <td>0.2</td>\n",
       "      <td>setosa</td>\n",
       "    </tr>\n",
       "    <tr>\n",
       "      <th>2</th>\n",
       "      <td>4.7</td>\n",
       "      <td>3.2</td>\n",
       "      <td>1.3</td>\n",
       "      <td>0.2</td>\n",
       "      <td>setosa</td>\n",
       "    </tr>\n",
       "    <tr>\n",
       "      <th>3</th>\n",
       "      <td>4.6</td>\n",
       "      <td>3.1</td>\n",
       "      <td>1.5</td>\n",
       "      <td>0.2</td>\n",
       "      <td>setosa</td>\n",
       "    </tr>\n",
       "    <tr>\n",
       "      <th>4</th>\n",
       "      <td>5.0</td>\n",
       "      <td>3.6</td>\n",
       "      <td>1.4</td>\n",
       "      <td>0.2</td>\n",
       "      <td>setosa</td>\n",
       "    </tr>\n",
       "    <tr>\n",
       "      <th>...</th>\n",
       "      <td>...</td>\n",
       "      <td>...</td>\n",
       "      <td>...</td>\n",
       "      <td>...</td>\n",
       "      <td>...</td>\n",
       "    </tr>\n",
       "    <tr>\n",
       "      <th>145</th>\n",
       "      <td>6.7</td>\n",
       "      <td>3.0</td>\n",
       "      <td>5.2</td>\n",
       "      <td>2.3</td>\n",
       "      <td>virginica</td>\n",
       "    </tr>\n",
       "    <tr>\n",
       "      <th>146</th>\n",
       "      <td>6.3</td>\n",
       "      <td>2.5</td>\n",
       "      <td>5.0</td>\n",
       "      <td>1.9</td>\n",
       "      <td>virginica</td>\n",
       "    </tr>\n",
       "    <tr>\n",
       "      <th>147</th>\n",
       "      <td>6.5</td>\n",
       "      <td>3.0</td>\n",
       "      <td>5.2</td>\n",
       "      <td>2.0</td>\n",
       "      <td>virginica</td>\n",
       "    </tr>\n",
       "    <tr>\n",
       "      <th>148</th>\n",
       "      <td>6.2</td>\n",
       "      <td>3.4</td>\n",
       "      <td>5.4</td>\n",
       "      <td>2.3</td>\n",
       "      <td>virginica</td>\n",
       "    </tr>\n",
       "    <tr>\n",
       "      <th>149</th>\n",
       "      <td>5.9</td>\n",
       "      <td>3.0</td>\n",
       "      <td>5.1</td>\n",
       "      <td>1.8</td>\n",
       "      <td>virginica</td>\n",
       "    </tr>\n",
       "  </tbody>\n",
       "</table>\n",
       "<p>150 rows × 5 columns</p>\n",
       "</div>"
      ],
      "text/plain": [
       "     sepal length (cm)  sepal width (cm)  petal length (cm)  petal width (cm)  \\\n",
       "0                  5.1               3.5                1.4               0.2   \n",
       "1                  4.9               3.0                1.4               0.2   \n",
       "2                  4.7               3.2                1.3               0.2   \n",
       "3                  4.6               3.1                1.5               0.2   \n",
       "4                  5.0               3.6                1.4               0.2   \n",
       "..                 ...               ...                ...               ...   \n",
       "145                6.7               3.0                5.2               2.3   \n",
       "146                6.3               2.5                5.0               1.9   \n",
       "147                6.5               3.0                5.2               2.0   \n",
       "148                6.2               3.4                5.4               2.3   \n",
       "149                5.9               3.0                5.1               1.8   \n",
       "\n",
       "       Species  \n",
       "0       setosa  \n",
       "1       setosa  \n",
       "2       setosa  \n",
       "3       setosa  \n",
       "4       setosa  \n",
       "..         ...  \n",
       "145  virginica  \n",
       "146  virginica  \n",
       "147  virginica  \n",
       "148  virginica  \n",
       "149  virginica  \n",
       "\n",
       "[150 rows x 5 columns]"
      ]
     },
     "execution_count": 18,
     "metadata": {},
     "output_type": "execute_result"
    }
   ],
   "source": [
    "iris"
   ]
  },
  {
   "cell_type": "code",
   "execution_count": 19,
   "id": "caa57da7",
   "metadata": {},
   "outputs": [],
   "source": [
    "versi = iris[iris[\"Species\"]==\"versicolor\"][\"petal length (cm)\"]\n",
    "virgi = iris[iris[\"Species\"]==\"virginica\"][\"petal length (cm)\"]"
   ]
  },
  {
   "cell_type": "markdown",
   "id": "40a8e4dc",
   "metadata": {},
   "source": [
    "On teste tout d’abord l’égalité des variances à l’aide de la commande :"
   ]
  },
  {
   "cell_type": "code",
   "execution_count": 20,
   "id": "bb2aa904",
   "metadata": {},
   "outputs": [
    {
     "data": {
      "text/plain": [
       "BartlettResult(statistic=1.249026225204677, pvalue=0.2637385445079441)"
      ]
     },
     "execution_count": 20,
     "metadata": {},
     "output_type": "execute_result"
    }
   ],
   "source": [
    "scipy.stats.bartlett(versi,virgi)"
   ]
  },
  {
   "cell_type": "markdown",
   "id": "3a67230d",
   "metadata": {},
   "source": [
    "La p-valeur valant 0.26, on ne rejette donc pas l’égalité des variances au niveau de test 5%.\n",
    "\n",
    "On teste ensuite l’égalité des moyennes à l’aide de la commande :"
   ]
  },
  {
   "cell_type": "code",
   "execution_count": 21,
   "id": "6bc5678c",
   "metadata": {},
   "outputs": [
    {
     "data": {
      "text/plain": [
       "Ttest_indResult(statistic=-12.603779441384985, pvalue=3.1788195478061495e-22)"
      ]
     },
     "execution_count": 21,
     "metadata": {},
     "output_type": "execute_result"
    }
   ],
   "source": [
    "scipy.stats.ttest_ind(versi,virgi, equal_var=True)"
   ]
  },
  {
   "cell_type": "markdown",
   "id": "93b1f26b",
   "metadata": {},
   "source": [
    "On obtient une p-valeur égale à environ 3.2×10−22. On constate donc que l’hypothèse d’égalité des longueurs moyennes de pétales est (très facilement) rejetée à un niveau de test de 5%.\n",
    "\n",
    "Au-delà de l’aspect gaussien que nous n’avions pas vérifié rigoureusement (on pourrait l’éprouver via des tests d’adéquation à une loi), on rejette que les longueurs des pétales d’iris des variétés et suivent la même distribution, on a en effet rejeté l’hypothèse d’égalité des moyennes."
   ]
  },
  {
   "cell_type": "markdown",
   "id": "c5dde9cf",
   "metadata": {},
   "source": [
    "### test Khi-deux sur Weldon"
   ]
  },
  {
   "cell_type": "markdown",
   "id": "bf8e242d",
   "metadata": {},
   "source": [
    "Weldon a réalisé n=26306 lancers de 12 dés à 6 faces et a obtenu les résultats suivants :"
   ]
  },
  {
   "cell_type": "code",
   "execution_count": 22,
   "id": "cafaf78a",
   "metadata": {},
   "outputs": [
    {
     "data": {
      "text/html": [
       "<div>\n",
       "<style scoped>\n",
       "    .dataframe tbody tr th:only-of-type {\n",
       "        vertical-align: middle;\n",
       "    }\n",
       "\n",
       "    .dataframe tbody tr th {\n",
       "        vertical-align: top;\n",
       "    }\n",
       "\n",
       "    .dataframe thead th {\n",
       "        text-align: right;\n",
       "    }\n",
       "</style>\n",
       "<table border=\"1\" class=\"dataframe\">\n",
       "  <thead>\n",
       "    <tr style=\"text-align: right;\">\n",
       "      <th></th>\n",
       "      <th>0</th>\n",
       "      <th>1</th>\n",
       "      <th>2</th>\n",
       "      <th>3</th>\n",
       "      <th>4</th>\n",
       "      <th>5</th>\n",
       "      <th>6</th>\n",
       "      <th>7</th>\n",
       "      <th>8</th>\n",
       "      <th>9</th>\n",
       "      <th>10</th>\n",
       "      <th>11</th>\n",
       "      <th>12</th>\n",
       "    </tr>\n",
       "  </thead>\n",
       "  <tbody>\n",
       "    <tr>\n",
       "      <th>Nombre de 5 ou 6</th>\n",
       "      <td>0</td>\n",
       "      <td>1</td>\n",
       "      <td>2</td>\n",
       "      <td>3</td>\n",
       "      <td>4</td>\n",
       "      <td>5</td>\n",
       "      <td>6</td>\n",
       "      <td>7</td>\n",
       "      <td>8</td>\n",
       "      <td>9</td>\n",
       "      <td>10</td>\n",
       "      <td>11</td>\n",
       "      <td>12</td>\n",
       "    </tr>\n",
       "    <tr>\n",
       "      <th>Effectif</th>\n",
       "      <td>185</td>\n",
       "      <td>1149</td>\n",
       "      <td>3265</td>\n",
       "      <td>5475</td>\n",
       "      <td>6114</td>\n",
       "      <td>5194</td>\n",
       "      <td>3067</td>\n",
       "      <td>1331</td>\n",
       "      <td>403</td>\n",
       "      <td>105</td>\n",
       "      <td>14</td>\n",
       "      <td>4</td>\n",
       "      <td>0</td>\n",
       "    </tr>\n",
       "  </tbody>\n",
       "</table>\n",
       "</div>"
      ],
      "text/plain": [
       "                   0     1     2     3     4     5     6     7    8    9   10  \\\n",
       "Nombre de 5 ou 6    0     1     2     3     4     5     6     7    8    9  10   \n",
       "Effectif          185  1149  3265  5475  6114  5194  3067  1331  403  105  14   \n",
       "\n",
       "                  11  12  \n",
       "Nombre de 5 ou 6  11  12  \n",
       "Effectif           4   0  "
      ]
     },
     "execution_count": 22,
     "metadata": {},
     "output_type": "execute_result"
    }
   ],
   "source": [
    "df=pd.DataFrame([[0,1,2,3,4,5,6,7,8,9,10,11,12],[185,1149,3265,5475,6114,5194,3067,1331,403,105,14,4,0]])\n",
    "df.index=[\"Nombre de 5 ou 6\",\"Effectif\"]\n",
    "df"
   ]
  },
  {
   "cell_type": "markdown",
   "id": "3e1bd3f6",
   "metadata": {},
   "source": [
    "Soit  Xi la v.a.r. à valeurs dans {0,…,12} désignant le nombre de faces comportant un cinq ou un six lors du i-ème lancer.\n",
    "Dans le cas où les dés sont équilibrés :  Xi∼B(13) On teste si les dés sont équilibrés :"
   ]
  },
  {
   "cell_type": "code",
   "execution_count": 23,
   "id": "4e2429e7",
   "metadata": {},
   "outputs": [],
   "source": [
    "n =[185,1149,3265,5475,6114,5194,3067,1331,403,105,14,4,0]\n",
    "p0 = scipy.stats.binom.pmf(range(13), 12, 1/3.0)"
   ]
  },
  {
   "cell_type": "code",
   "execution_count": 24,
   "id": "44a5c985",
   "metadata": {},
   "outputs": [
    {
     "data": {
      "text/plain": [
       "(40.742379820747395,\n",
       " 5.410516619906697e-05,\n",
       " 12,\n",
       " array([[2.02573723e+04, 1.21582848e+05, 3.34457039e+05, 5.57461402e+05,\n",
       "         6.27099152e+05, 5.01979123e+05, 2.92857954e+05, 1.25526959e+05,\n",
       "         3.92143653e+04, 8.72959493e+03, 1.30770657e+03, 1.21582685e+02,\n",
       "         4.90092871e+00],\n",
       "        [2.02573723e+02, 1.21582848e+03, 3.34457039e+03, 5.57461402e+03,\n",
       "         6.27099152e+03, 5.01979123e+03, 2.92857954e+03, 1.25526959e+03,\n",
       "         3.92143653e+02, 8.72959493e+01, 1.30770657e+01, 1.21582685e+00,\n",
       "         4.90092871e-02]]))"
      ]
     },
     "execution_count": 24,
     "metadata": {},
     "output_type": "execute_result"
    }
   ],
   "source": [
    "from scipy.stats import chi2_contingency\n",
    "chi2_contingency([p0*float(sum(n))*100,n])"
   ]
  },
  {
   "cell_type": "markdown",
   "id": "d25f8817",
   "metadata": {},
   "source": [
    "Le test n’est pas valide car les effectifs ne sont pas suffisants pour les valeurs 10, 11 et 12. On agrège ces modalités et on relance les calculs :"
   ]
  },
  {
   "cell_type": "code",
   "execution_count": 25,
   "id": "e4e3ac9f",
   "metadata": {},
   "outputs": [],
   "source": [
    "n= [185,1149,3265,5475,6114,5194,3067,1331,403,105,18]\n",
    "p0 =np.array(list(scipy.stats.binom.pmf(range(10), 12, 1/3.0))+[sum(scipy.stats.binom.pmf(range(10,13), 12, 1/3.0))])"
   ]
  },
  {
   "cell_type": "code",
   "execution_count": 26,
   "id": "a216096c",
   "metadata": {},
   "outputs": [
    {
     "data": {
      "text/plain": [
       "[185, 1149, 3265, 5475, 6114, 5194, 3067, 1331, 403, 105, 18]"
      ]
     },
     "execution_count": 26,
     "metadata": {},
     "output_type": "execute_result"
    }
   ],
   "source": [
    "n"
   ]
  },
  {
   "cell_type": "code",
   "execution_count": 27,
   "id": "72fe9cbf",
   "metadata": {},
   "outputs": [
    {
     "data": {
      "text/plain": [
       "array([0.00770735, 0.04624408, 0.12717122, 0.21195203, 0.23844604,\n",
       "       0.19075683, 0.11127482, 0.04768921, 0.01490288, 0.00331175,\n",
       "       0.0005438 ])"
      ]
     },
     "execution_count": 27,
     "metadata": {},
     "output_type": "execute_result"
    }
   ],
   "source": [
    "p0"
   ]
  },
  {
   "cell_type": "code",
   "execution_count": 28,
   "id": "6f2a09e2",
   "metadata": {},
   "outputs": [
    {
     "data": {
      "text/plain": [
       "(35.13011859908386,\n",
       " 0.00011863880683773594,\n",
       " 10,\n",
       " array([[2.02573723e+04, 1.21582848e+05, 3.34457039e+05, 5.57461402e+05,\n",
       "         6.27099152e+05, 5.01979123e+05, 2.92857954e+05, 1.25526959e+05,\n",
       "         3.92143653e+04, 8.72959493e+03, 1.43419018e+03],\n",
       "        [2.02573723e+02, 1.21582848e+03, 3.34457039e+03, 5.57461402e+03,\n",
       "         6.27099152e+03, 5.01979123e+03, 2.92857954e+03, 1.25526959e+03,\n",
       "         3.92143653e+02, 8.72959493e+01, 1.43419018e+01]]))"
      ]
     },
     "execution_count": 28,
     "metadata": {},
     "output_type": "execute_result"
    }
   ],
   "source": [
    "chi2_contingency([p0*float(sum(n))*100,n])"
   ]
  },
  {
   "cell_type": "markdown",
   "id": "7b37eec1",
   "metadata": {},
   "source": [
    "On rejette très largement l’hypothèse de dés équilibrés au niveau de test 5%."
   ]
  },
  {
   "cell_type": "markdown",
   "id": "125bc475",
   "metadata": {},
   "source": [
    "### test Kolmogorov-Smirnov sur Essence"
   ]
  },
  {
   "cell_type": "markdown",
   "id": "50601d18",
   "metadata": {},
   "source": [
    "On peut tester l’adéquation de la consommation d’essence à une loi normale à l’aide de Kolmogorov-Smirnov :"
   ]
  },
  {
   "cell_type": "code",
   "execution_count": 29,
   "id": "945fef28",
   "metadata": {},
   "outputs": [],
   "source": [
    "from scipy.stats import ks_2samp"
   ]
  },
  {
   "cell_type": "code",
   "execution_count": 30,
   "id": "d14b90c7",
   "metadata": {},
   "outputs": [
    {
     "data": {
      "text/plain": [
       "KstestResult(statistic=0.0565625, pvalue=0.8386531742368674)"
      ]
     },
     "execution_count": 30,
     "metadata": {},
     "output_type": "execute_result"
    }
   ],
   "source": [
    "ks_2samp(essence[\"conso\"],list(np.random.normal(np.mean(essence[\"conso\"]), np.std(essence[\"conso\"]), 1000)))"
   ]
  },
  {
   "cell_type": "markdown",
   "id": "66645803",
   "metadata": {},
   "source": [
    "On ne peut donc pas rejetter l’hypothèse de normalité au niveau de test 5%.\n",
    "\n",
    "On aurait également pu lancer un test de Shapiro-Wilk :"
   ]
  },
  {
   "cell_type": "code",
   "execution_count": 31,
   "id": "2492ea4b",
   "metadata": {},
   "outputs": [
    {
     "data": {
      "text/plain": [
       "ShapiroResult(statistic=0.9871521592140198, pvalue=0.2743206322193146)"
      ]
     },
     "execution_count": 31,
     "metadata": {},
     "output_type": "execute_result"
    }
   ],
   "source": [
    "scipy.stats.shapiro(essence[\"conso\"])"
   ]
  },
  {
   "cell_type": "markdown",
   "id": "b88ecbc5",
   "metadata": {},
   "source": [
    "La conclusion est identique au niveau de test 5%.\n",
    "\n",
    "Notons que le test de Shapiro-Wilk est recommandé pour tester la normalité dans le cas de petits échantillons."
   ]
  }
 ],
 "metadata": {
  "kernelspec": {
   "display_name": "Python 3 (ipykernel)",
   "language": "python",
   "name": "python3"
  },
  "language_info": {
   "codemirror_mode": {
    "name": "ipython",
    "version": 3
   },
   "file_extension": ".py",
   "mimetype": "text/x-python",
   "name": "python",
   "nbconvert_exporter": "python",
   "pygments_lexer": "ipython3",
   "version": "3.9.13"
  }
 },
 "nbformat": 4,
 "nbformat_minor": 5
}
