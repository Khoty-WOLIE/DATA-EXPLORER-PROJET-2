{
 "cells": [
  {
   "cell_type": "code",
   "execution_count": 6,
   "id": "33316d43",
   "metadata": {},
   "outputs": [],
   "source": [
    "import pandas as pd\n",
    "import numpy as np\n",
    "import matplotlib.pyplot as plt\n",
    "import seaborn as sns\n",
    "from scipy import stats\n",
    "plt.style.use('ggplot')"
   ]
  },
  {
   "cell_type": "markdown",
   "id": "cd494cd3",
   "metadata": {},
   "source": [
    "AUTRE METHODE"
   ]
  },
  {
   "cell_type": "code",
   "execution_count": 8,
   "id": "b1c6d975",
   "metadata": {},
   "outputs": [],
   "source": [
    "def lorenz_curve(x):\n",
    "    sorted_x = np.sort(x)\n",
    "    n = len(x)\n",
    "    cumx = np.cumsum(sorted_x)\n",
    "    cumx = cumx / cumx(n-1)\n",
    "    cumy = np.linespace(0, 1, n)\n",
    "    return cumx, cumy"
   ]
  },
  {
   "cell_type": "code",
   "execution_count": null,
   "id": "8ef515c4",
   "metadata": {},
   "outputs": [],
   "source": [
    "x = np.random.normal(size=1000)    # Exemple de données\n",
    "x_1 , x_1 = lorenz_curve(x)\n",
    "\n",
    "plt.plot([0,1], [0,1])    # , 'k--'\n",
    "plt.plot(x_1, y_1, label = 'lorenz curve')\n",
    "plt.legend()\n",
    "plt.show()"
   ]
  },
  {
   "cell_type": "code",
   "execution_count": 16,
   "id": "23248701",
   "metadata": {},
   "outputs": [
    {
     "data": {
      "text/plain": [
       "['anagrams',\n",
       " 'anscombe',\n",
       " 'attention',\n",
       " 'brain_networks',\n",
       " 'car_crashes',\n",
       " 'diamonds',\n",
       " 'dots',\n",
       " 'dowjones',\n",
       " 'exercise',\n",
       " 'flights',\n",
       " 'fmri',\n",
       " 'geyser',\n",
       " 'glue',\n",
       " 'healthexp',\n",
       " 'iris',\n",
       " 'mpg',\n",
       " 'penguins',\n",
       " 'planets',\n",
       " 'seaice',\n",
       " 'taxis',\n",
       " 'tips',\n",
       " 'titanic']"
      ]
     },
     "execution_count": 16,
     "metadata": {},
     "output_type": "execute_result"
    }
   ],
   "source": [
    "sns.get_dataset_names()"
   ]
  },
  {
   "cell_type": "code",
   "execution_count": 18,
   "id": "5dc40e18",
   "metadata": {},
   "outputs": [
    {
     "data": {
      "text/html": [
       "<div>\n",
       "<style scoped>\n",
       "    .dataframe tbody tr th:only-of-type {\n",
       "        vertical-align: middle;\n",
       "    }\n",
       "\n",
       "    .dataframe tbody tr th {\n",
       "        vertical-align: top;\n",
       "    }\n",
       "\n",
       "    .dataframe thead th {\n",
       "        text-align: right;\n",
       "    }\n",
       "</style>\n",
       "<table border=\"1\" class=\"dataframe\">\n",
       "  <thead>\n",
       "    <tr style=\"text-align: right;\">\n",
       "      <th></th>\n",
       "      <th>Date</th>\n",
       "      <th>Price</th>\n",
       "    </tr>\n",
       "  </thead>\n",
       "  <tbody>\n",
       "    <tr>\n",
       "      <th>0</th>\n",
       "      <td>1914-12-01</td>\n",
       "      <td>55.00</td>\n",
       "    </tr>\n",
       "    <tr>\n",
       "      <th>1</th>\n",
       "      <td>1915-01-01</td>\n",
       "      <td>56.55</td>\n",
       "    </tr>\n",
       "    <tr>\n",
       "      <th>2</th>\n",
       "      <td>1915-02-01</td>\n",
       "      <td>56.00</td>\n",
       "    </tr>\n",
       "    <tr>\n",
       "      <th>3</th>\n",
       "      <td>1915-03-01</td>\n",
       "      <td>58.30</td>\n",
       "    </tr>\n",
       "    <tr>\n",
       "      <th>4</th>\n",
       "      <td>1915-04-01</td>\n",
       "      <td>66.45</td>\n",
       "    </tr>\n",
       "    <tr>\n",
       "      <th>...</th>\n",
       "      <td>...</td>\n",
       "      <td>...</td>\n",
       "    </tr>\n",
       "    <tr>\n",
       "      <th>644</th>\n",
       "      <td>1968-08-01</td>\n",
       "      <td>883.72</td>\n",
       "    </tr>\n",
       "    <tr>\n",
       "      <th>645</th>\n",
       "      <td>1968-09-01</td>\n",
       "      <td>922.80</td>\n",
       "    </tr>\n",
       "    <tr>\n",
       "      <th>646</th>\n",
       "      <td>1968-10-01</td>\n",
       "      <td>955.47</td>\n",
       "    </tr>\n",
       "    <tr>\n",
       "      <th>647</th>\n",
       "      <td>1968-11-01</td>\n",
       "      <td>964.12</td>\n",
       "    </tr>\n",
       "    <tr>\n",
       "      <th>648</th>\n",
       "      <td>1968-12-01</td>\n",
       "      <td>965.39</td>\n",
       "    </tr>\n",
       "  </tbody>\n",
       "</table>\n",
       "<p>649 rows × 2 columns</p>\n",
       "</div>"
      ],
      "text/plain": [
       "           Date   Price\n",
       "0    1914-12-01   55.00\n",
       "1    1915-01-01   56.55\n",
       "2    1915-02-01   56.00\n",
       "3    1915-03-01   58.30\n",
       "4    1915-04-01   66.45\n",
       "..          ...     ...\n",
       "644  1968-08-01  883.72\n",
       "645  1968-09-01  922.80\n",
       "646  1968-10-01  955.47\n",
       "647  1968-11-01  964.12\n",
       "648  1968-12-01  965.39\n",
       "\n",
       "[649 rows x 2 columns]"
      ]
     },
     "execution_count": 18,
     "metadata": {},
     "output_type": "execute_result"
    }
   ],
   "source": [
    "dowjones_df = sns.load_dataset('dowjones')\n",
    "dowjones_df"
   ]
  },
  {
   "cell_type": "markdown",
   "id": "0c910a04",
   "metadata": {},
   "source": [
    "AUTRE METHODE"
   ]
  },
  {
   "cell_type": "code",
   "execution_count": 30,
   "id": "a2ae836e",
   "metadata": {},
   "outputs": [
    {
     "data": {
      "image/png": "[encoded data removed]",
      "text/plain": [
       "<Figure size 640x480 with 1 Axes>"
      ]
     },
     "metadata": {},
     "output_type": "display_data"
    }
   ],
   "source": [
    "import numpy as np\n",
    "import matplotlib.pyplot as plt\n",
    "\n",
    "# Données de richesse (par exemple, le revenu) pour une population\n",
    "richesse = np.array([100, 200, 300, 400, 500, 600, 700, 800, 900, 1000])\n",
    "\n",
    "# Calcul de la proportion de richesse détenue par chaque individu\n",
    "proportion = np.cumsum(np.sort(richesse)) / np.sum(richesse)\n",
    "\n",
    "# Ajout d'une valeur initiale de 0 pour la courbe de Lorenz\n",
    "proportion = np.append([0], proportion)\n",
    "\n",
    "# Création des axes du graphique\n",
    "fig, ax = plt.subplots()\n",
    "\n",
    "# Tracé de la courbe de Lorenz\n",
    "ax.plot(np.linspace(0,1,len(proportion)), proportion, color='blue', label='Courbe de Lorenz')\n",
    "\n",
    "# Tracé de la droite d'égalité\n",
    "ax.plot([0,1], [0,1], color='red', linestyle='--', label='Droite d\\'égalité')\n",
    "\n",
    "# Configuration du graphique\n",
    "ax.set_xlabel('Proportion de la population')\n",
    "ax.set_ylabel('Proportion de la richesse')\n",
    "ax.set_title('Courbe de Lorenz')\n",
    "ax.legend()\n",
    "\n",
    "# Affichage du graphique\n",
    "plt.show()"
   ]
  },
  {
   "cell_type": "markdown",
   "id": "0dc4da05",
   "metadata": {},
   "source": [
    "AUTRE METHODE "
   ]
  },
  {
   "cell_type": "code",
   "execution_count": 21,
   "id": "78cb616d",
   "metadata": {},
   "outputs": [],
   "source": [
    "def lorenz_curve(data):\n",
    "    data = np.sort(data)\n",
    "    n = data.shape[0]\n",
    "    yvals = np.arange(1, n+1) / float(n)\n",
    "    lorenz_vals = np.cumsum(data) / np.sum(data)\n",
    "    lorenz_vals = np.insert(lorenz_vals, 0, 0)\n",
    "    xvals = np.arange(0, n+1) / float(n)\n",
    "    return xvals, yvals, lorenz_vals"
   ]
  },
  {
   "cell_type": "code",
   "execution_count": 24,
   "id": "f144d738",
   "metadata": {},
   "outputs": [],
   "source": [
    "data = np.array([3, 5, 7, 9, 11, 15, 20, 25, 30, 35])"
   ]
  },
  {
   "cell_type": "code",
   "execution_count": null,
   "id": "e19a4434",
   "metadata": {},
   "outputs": [],
   "source": [
    "xvals, yvals, lorenz_vals = lorenz_curve(data)\n",
    "plt.plot(xvals, yvals, label='Distribution réelle')\n",
    "plt.plot(xvals, xvals, label='Distribution égale')\n",
    "plt.plot(xvals, lorenz_vals, label='Courbe de Lorenz')\n",
    "plt.legend()\n",
    "plt.show()"
   ]
  },
  {
   "cell_type": "markdown",
   "id": "58909402",
   "metadata": {},
   "source": [
    "AUTRE METHODE"
   ]
  },
  {
   "cell_type": "code",
   "execution_count": null,
   "id": "80ccce85",
   "metadata": {},
   "outputs": [],
   "source": [
    "import pandas as pd\n",
    "import numpy as np\n",
    "import matplotlib.pyplot as plt\n",
    "\n",
    "# chargement des données à partir du fichier CSV\n",
    "data = pd.read_csv('nom_du_fichier.csv')\n",
    "\n",
    "# calcul des quantités cumulées de revenus/richesses\n",
    "cumulative_perc = np.cumsum(np.sort(data['revenus'])) / np.sum(data['revenus'])\n",
    "cumulative_perc = np.insert(cumulative_perc, 0, 0)\n",
    "\n",
    "# courbe de Lorenz\n",
    "fig, ax = plt.subplots()\n",
    "ax.plot(np.linspace(0,1,len(cumulative_perc)), cumulative_perc, drawstyle='steps-post')\n",
    "ax.plot([0,1], [0,1], color='grey', linestyle='--')\n",
    "plt.show()"
   ]
  },
  {
   "cell_type": "code",
   "execution_count": 29,
   "id": "4d4118fa",
   "metadata": {},
   "outputs": [
    {
     "data": {
      "image/png": "[encoded data removed]",
      "text/plain": [
       "<Figure size 640x480 with 1 Axes>"
      ]
     },
     "metadata": {},
     "output_type": "display_data"
    }
   ],
   "source": [
    "cumulative_perc = np.cumsum(np.sort(dowjones_df['Price'])) / np.sum(dowjones_df['Price'])\n",
    "cumulative_perc = np.insert(cumulative_perc, 0, 0)\n",
    "\n",
    "# courbe de Lorenz\n",
    "fig, ax = plt.subplots()\n",
    "ax.plot(np.linspace(0,1,len(cumulative_perc)), cumulative_perc, drawstyle='steps-post')\n",
    "ax.plot([0,1], [0,1], color='grey', linestyle='--')\n",
    "plt.show()"
   ]
  },
  {
   "cell_type": "markdown",
   "id": "46cbf3d6",
   "metadata": {},
   "source": [
    "AUTRE METHODE"
   ]
  },
  {
   "cell_type": "code",
   "execution_count": null,
   "id": "8c480091",
   "metadata": {},
   "outputs": [],
   "source": [
    "import pandas as pd\n",
    "import numpy as np\n",
    "import matplotlib.pyplot as plt\n",
    "\n",
    "# Importer les données à partir d'un fichier CSV\n",
    "data = pd.read_csv('chemin/vers/le/fichier.csv')\n",
    "\n",
    "# Tri des données en ordre croissant et calcul des quantités cumulées\n",
    "data_sorted = data.sort_values(by='revenu') # remplacer 'revenu' par le nom de la colonne correspondant aux données de revenus/richesses\n",
    "cumulative_perc = np.cumsum(data_sorted['revenu']) / np.sum(data_sorted['revenu'])\n",
    "\n",
    "# Ajouter des zéros à gauche et à droite pour obtenir la courbe fermée\n",
    "cumulative_perc = np.insert(cumulative_perc, 0, 0)\n",
    "cumulative_perc = np.append(cumulative_perc,1)\n",
    "\n",
    "# Tracer la courbe de Lorenz\n",
    "fig, ax = plt.subplots()\n",
    "ax.plot(np.linspace(0,1,len(cumulative_perc)), cumulative_perc, drawstyle='steps-post')\n",
    "ax.plot([0,1], [0,1], color='grey', linestyle='--')\n",
    "plt.show()"
   ]
  },
  {
   "cell_type": "markdown",
   "id": "d7b8d7e9",
   "metadata": {},
   "source": [
    "AUTRE CODE POUR "
   ]
  },
  {
   "cell_type": "code",
   "execution_count": null,
   "id": "d957d946",
   "metadata": {},
   "outputs": [],
   "source": [
    "# Lecture du fichier de données CSV\n",
    "df = pd.read_csv('donnees_achat.csv')\n",
    "\n",
    "# Calcul du montant total des achats par client\n",
    "montant_total = df.groupby('nom_client')['montant_achat'].sum()\n",
    "\n",
    "# Calcul de la fréquence d'achat par client\n",
    "frequence_achat = df.groupby('nom_client')['date_achat'].count()\n",
    "\n",
    "# Calcul de la taille du panier moyen par client\n",
    "taille_panier_moyen = df.groupby('nom_client')['montant_achat'].mean()\n",
    "\n",
    "# Calcul de la répartition des achats par catégorie de livre\n",
    "repartition_categorie = df.groupby(['categorie_livre', 'nom_client']).size().unstack()\n",
    "\n",
    "# Joindre les données calculées en un seul dataframe\n",
    "resultats = pd.concat([montant_total, frequence_achat, taille_panier_moyen, repartition_categorie], axis=1)\n",
    "\n",
    "# Ajouter l'âge du client au dataframe de résultats\n",
    "resultats = pd.merge(resultats, df[['nom_client', 'age_client']].drop_duplicates(), on='nom_client')\n",
    "\n",
    "# Analyse de la relation entre l'âge et les métriques d'achat\n",
    "print(resultats.groupby(pd.cut(resultats['age_client'],\n",
    "                               bins=range(0, 101, 10)))['montant_achat',\n",
    "                                                        'frequence_achat',\n",
    "                                                        'montant_achat',\n",
    "                                                        'Thriller', 'Romance',\n",
    "                                                        'Science Fiction'].mean())"
   ]
  },
  {
   "cell_type": "code",
   "execution_count": null,
   "id": "67b23f01",
   "metadata": {},
   "outputs": [],
   "source": [
    "import pandas as pd\n",
    "import matplotlib.pyplot as plt\n",
    "\n",
    "# Charger les données des achats de livres\n",
    "df_achats = pd.read_csv('achats.csv')\n",
    "\n",
    "# Calculer le montant total des achats pour chaque client\n",
    "df_montant_total = df_achats.groupby('Client')['Montant'].sum()\n",
    "\n",
    "# Calculer la fréquence d'achat pour chaque client\n",
    "df_frequence = df_achats.groupby('Client')['Date'].count()\n",
    "\n",
    "# Calculer la taille du panier moyen pour chaque client\n",
    "df_panier_moyen = df_achats.groupby('Client')['Montant'].mean()\n",
    "\n",
    "# Obtenir les catégories des livres achetés pour chaque client\n",
    "df_categories = df_achats.groupby('Client')['Categorie'].apply(set)\n",
    "\n",
    "# Joindre les données dans un seul DataFrame\n",
    "df_clients = pd.concat([df_montant_total, df_frequence, df_panier_moyen, df_categories], axis=1)\n",
    "\n",
    "# Ajouter l'âge des clients dans le DataFrame\n",
    "df_clients['Age'] = [32, 25, 47, 63, 41, 29, 37, 52, 44, 28]\n",
    "\n",
    "# Tracer la relation entre l'âge et le montant total des achats\n",
    "plt.scatter(df_clients['Age'], df_clients['Montant'])\n",
    "plt.xlabel('Age')\n",
    "plt.ylabel('Montant total des achats')\n",
    "plt.show()\n",
    "\n",
    "# Tracer la relation entre l'âge et la fréquence d'achat\n",
    "plt.scatter(df_clients['Age'], df_clients['Frequence'])\n",
    "plt.xlabel('Age')\n",
    "plt.ylabel('Fréquence d\\'achat')\n",
    "plt.show()\n",
    "\n",
    "# Tracer la relation entre l'âge et la taille du panier moyen\n",
    "plt.scatter(df_clients['Age'], df_clients['Panier moyen'])\n",
    "plt.xlabel('Age')\n",
    "plt.ylabel('Taille du panier moyen')\n",
    "plt.show()\n",
    "\n",
    "# Compter le nombre de clients dans chaque catégorie de livre\n",
    "df_categories_counts = pd.Series([len(cats) for cats in df_clients['Categories'].values], index=df_clients.index)\n",
    "\n",
    "# Tracer la relation entre l'âge et le nombre de catégories de livres achetées\n",
    "plt.scatter(df_clients['Age'], df_categories_counts)\n",
    "plt.xlabel('Age')\n",
    "plt.ylabel('Nombre de catégories de livres achetées')\n",
    "plt.show()"
   ]
  },
  {
   "cell_type": "code",
   "execution_count": null,
   "id": "2aeb6c47",
   "metadata": {},
   "outputs": [],
   "source": [
    "# TEST ANOVA\n",
    "\n",
    "import pandas as pd\n",
    "from scipy.stats import f_oneway\n",
    "\n",
    "# Importer les données des catégories de livres achetés\n",
    "data = pd.read_csv(\"nom_du_fichier.csv\")\n",
    "\n",
    "# Vérifier la distribution normale des données pour chaque groupe\n",
    "shapiro_results = []\n",
    "for groupe in data.columns[1:]:\n",
    "    shapiro_results.append(stats.shapiro(data[groupe]))\n",
    "print(shapiro_results)\n",
    "\n",
    "# Réaliser un test d'égalité des variances entre les groupes\n",
    "bartlett_result = stats.bartlett(data.iloc[:,1], data.iloc[:,2], data.iloc[:,3])\n",
    "print(bartlett_result)\n",
    "\n",
    "# Réaliser le test ANOVA\n",
    "anova_result = f_oneway(data.iloc[:,1], data.iloc[:,2], data.iloc[:,3])\n",
    "print(anova_result)\n",
    "\n",
    "# Effectuer des tests post-hoc pour déterminer les différences significatives entre les groupes\n",
    "from statsmodels.stats.multicomp import pairwise_tukeyhsd\n",
    "tukey_result = pairwise_tukeyhsd(data.iloc[:,0], data.iloc[:,1], data.iloc[:,2], data.iloc[:,3])\n",
    "print(tukey_result)\n",
    "\n",
    "'''\n",
    "Dans ce code, \"groupe\" est la variable catégorielle représentant les différentes catégories de livres achetés. La fonction\n",
    "\"aov\" réalise le test ANOVA, et la fonction \"TukeyHSD\" effectue les tests post-hoc pour déterminer les différences \n",
    "significatives entre les groupes. Les résultats peuvent être interprétés à l'aide des informations fournies par la fonction \n",
    "\"summary\".\n",
    "'''"
   ]
  },
  {
   "cell_type": "markdown",
   "id": "8e87823d",
   "metadata": {},
   "source": [
    "# TEST ANOVA\n",
    "\n",
    "# Importer les bibliothèques nécessaires\n",
    "import pandas as pd\n",
    "import scipy.stats as stats\n",
    "import statsmodels.api as sm\n",
    "from statsmodels.formula.api import ols\n",
    "\n",
    "# Importer les données des catégories de livres achetés\n",
    "data = pd.read_csv(\"nom_du_fichier.csv\")\n",
    "\n",
    "# Vérifier la distribution normale des données pour chaque groupe\n",
    "for groupe in data.columns[1:]:\n",
    "    print(groupe)\n",
    "    print(stats.normaltest(data[groupe]))\n",
    "\n",
    "# Réaliser un test d'égalité des variances entre les groupes\n",
    "stats.levene(data['groupe1'], data['groupe2'], data['groupe3'])\n",
    "\n",
    "# Réaliser le test ANOVA\n",
    "model = ols('data ~ groupe', data=data).fit()\n",
    "anova_table = sm.stats.anova_lm(model, typ=2)\n",
    "\n",
    "# Afficher les résultats\n",
    "print(anova_table)\n",
    "\n",
    "# Effectuer des tests post-hoc pour déterminer les différences significatives entre les groupes\n",
    "from statsmodels.stats.multicomp import pairwise_tukeyhsd\n",
    "tukey_results = pairwise_tukeyhsd(data['data'], data['groupe'])\n",
    "print(tukey_results)\n",
    "'''\n",
    "Dans ce code, \"groupe\" est la variable catégorielle représentant les différentes catégories de livres achetés, et \"data\" \n",
    "est la variable numérique représentant les données. La fonction \"ols\" réalise le test ANOVA, et la fonction \n",
    "\"sm.stats.anova_lm\" affiche les résultats sous forme de tableau. Les tests post-hoc sont effectués à l'aide de la fonction\n",
    "\"pairwise_tukeyhsd\". Les résultats peuvent être interprétés à l'aide des informations fournies dans les tables et les \n",
    "sorties de la fonction \"pairwise_tukeyhsd\".\n",
    "'''"
   ]
  },
  {
   "cell_type": "markdown",
   "id": "b95d45e1",
   "metadata": {},
   "source": [
    "En utilisant la décomposition en moyenne mobile avec Python, nous avons pu évaluer la tendance globale de notre ensemble de données au fil du temps en visualisant la composante de tendance obtenue. Cette méthode nous a permis de mieux comprendre l'évolution de nos données en isolant les effets de la saisonnalité et des variations aléatoires, et en nous concentrant sur la tendance globale à long terme."
   ]
  },
  {
   "cell_type": "markdown",
   "id": "4f1e51ea",
   "metadata": {},
   "source": [
    "# TEST DE CHI2\n",
    "\n",
    "import pandas as pd\n",
    "from scipy.stats import chi2_contingency\n",
    "\n",
    "df = pd.read_csv('votre_fichier.csv')\n",
    "\n",
    "table = pd.crosstab(df['genre'], df['catégorie de livre'])\n",
    "chi2, pval, dof, expected = chi2_contingency(table)\n",
    "\n",
    "'''\n",
    "La méthode chi2_contingency renvoie quatre valeurs : la statistique chi2, la valeur p, le nombre de degrés de liberté et\n",
    "la table des fréquences attendues.\n",
    "\n",
    "Interprétez les résultats en fonction de la valeur p.\n",
    "- Si la valeur p est inférieure à 0,05, nous pouvons rejeter l'hypothèse nulle selon laquelle il n'y a pas de relation entre\n",
    "les variables et conclure qu'il y a une relation significative entre le genre du client et les catégories de livres achetés.\n",
    "- Si la valeur p est supérieure à 0,05, nous ne pouvons pas rejeter l'hypothèse nulle selon laquelle il n'y a pas de \n",
    "relation entre les variables et conclure qu'il n'y a pas de relation significative entre le genre du client et les \n",
    "catégories de livres achetés.\n",
    "\n",
    "Voici un exemple de phrase pour interpréter les résultats :\n",
    "\n",
    "\"En utilisant le test du chi2 avec Python, nous avons trouvé une valeur p de 0,03, ce qui indique une relation significative\n",
    "entre le genre des clients et les catégories de livres achetés. Par conséquent, nous pouvons conclure qu'il y a une \n",
    "préférence différente entre les genres de clients pour certaines catégories de livres.\"\n",
    "'''"
   ]
  },
  {
   "cell_type": "markdown",
   "id": "457de6cb",
   "metadata": {},
   "source": [
    "Après avoir effectué une analyse statistique, la p-valeur obtenue pour la relation entre le genre des clients et\n",
    "les catégories de livres achetés est de 0,032. Cela signifie qu'il y a une faible probabilité (moins de 5 %) que cette\n",
    "relation soit due au hasard, et que le genre des clients est donc probablement significativement associé aux catégories de\n",
    "livres achetés."
   ]
  },
  {
   "cell_type": "markdown",
   "id": "c515a8c0",
   "metadata": {},
   "source": [
    "L'analyse statistique a révélé une p-valeur extrêmement faible de 1.1310980597090762e-32 pour le test d'indépendance \n",
    "entre le genre d'un client et les catégories de livres achetés. Cette p-valeur très faible suggère qu'il existe une\n",
    "association statistiquement significative et très forte entre le genre du client et les catégories de livres achetés.\n",
    "En d'autres termes, le genre est un facteur extrêmement important dans le choix des livres et il est peu probable que \n",
    "cette association soit due au hasard."
   ]
  },
  {
   "cell_type": "markdown",
   "id": "aef4f436",
   "metadata": {},
   "source": [
    "Apres observation, les clients plus âgés ont tendance à dépenser plus d'argent dans leur panier moyen que les clients plus jeunes.\n",
    "\n",
    "Apres observation, les clients compris entre 1960 et plus sont plus susceptibles d'acheter des produits plus chers."
   ]
  },
  {
   "cell_type": "code",
   "execution_count": null,
   "id": "df70525f",
   "metadata": {},
   "outputs": [],
   "source": []
  }
 ],
 "metadata": {
  "kernelspec": {
   "display_name": "Python 3 (ipykernel)",
   "language": "python",
   "name": "python3"
  },
  "language_info": {
   "codemirror_mode": {
    "name": "ipython",
    "version": 3
   },
   "file_extension": ".py",
   "mimetype": "text/x-python",
   "name": "python",
   "nbconvert_exporter": "python",
   "pygments_lexer": "ipython3",
   "version": "3.9.13"
  }
 },
 "nbformat": 4,
 "nbformat_minor": 5
}
