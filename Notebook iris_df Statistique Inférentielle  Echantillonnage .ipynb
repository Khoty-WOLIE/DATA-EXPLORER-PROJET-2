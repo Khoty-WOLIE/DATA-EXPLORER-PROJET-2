{
 "cells": [
  {
   "cell_type": "markdown",
   "id": "adac28b4",
   "metadata": {},
   "source": [
    "## LA STATISTIQUE INFERENTIELLE"
   ]
  },
  {
   "cell_type": "markdown",
   "id": "5e3821ca",
   "metadata": {},
   "source": [
    "## Population et echantillon"
   ]
  },
  {
   "cell_type": "code",
   "execution_count": 137,
   "id": "097507b2",
   "metadata": {},
   "outputs": [],
   "source": [
    "import pandas as pd\n",
    "import numpy as np\n",
    "\n",
    "# ?pd.pivot_table"
   ]
  },
  {
   "cell_type": "code",
   "execution_count": 106,
   "id": "2d7f46cb",
   "metadata": {},
   "outputs": [
    {
     "data": {
      "text/html": [
       "<div>\n",
       "<style scoped>\n",
       "    .dataframe tbody tr th:only-of-type {\n",
       "        vertical-align: middle;\n",
       "    }\n",
       "\n",
       "    .dataframe tbody tr th {\n",
       "        vertical-align: top;\n",
       "    }\n",
       "\n",
       "    .dataframe thead th {\n",
       "        text-align: right;\n",
       "    }\n",
       "</style>\n",
       "<table border=\"1\" class=\"dataframe\">\n",
       "  <thead>\n",
       "    <tr style=\"text-align: right;\">\n",
       "      <th></th>\n",
       "      <th>poids</th>\n",
       "    </tr>\n",
       "  </thead>\n",
       "  <tbody>\n",
       "    <tr>\n",
       "      <th>0</th>\n",
       "      <td>47</td>\n",
       "    </tr>\n",
       "    <tr>\n",
       "      <th>1</th>\n",
       "      <td>59</td>\n",
       "    </tr>\n",
       "    <tr>\n",
       "      <th>2</th>\n",
       "      <td>45</td>\n",
       "    </tr>\n",
       "    <tr>\n",
       "      <th>3</th>\n",
       "      <td>62</td>\n",
       "    </tr>\n",
       "    <tr>\n",
       "      <th>4</th>\n",
       "      <td>22</td>\n",
       "    </tr>\n",
       "    <tr>\n",
       "      <th>5</th>\n",
       "      <td>80</td>\n",
       "    </tr>\n",
       "    <tr>\n",
       "      <th>6</th>\n",
       "      <td>78</td>\n",
       "    </tr>\n",
       "    <tr>\n",
       "      <th>7</th>\n",
       "      <td>19</td>\n",
       "    </tr>\n",
       "    <tr>\n",
       "      <th>8</th>\n",
       "      <td>88</td>\n",
       "    </tr>\n",
       "    <tr>\n",
       "      <th>9</th>\n",
       "      <td>90</td>\n",
       "    </tr>\n",
       "  </tbody>\n",
       "</table>\n",
       "</div>"
      ],
      "text/plain": [
       "   poids\n",
       "0     47\n",
       "1     59\n",
       "2     45\n",
       "3     62\n",
       "4     22\n",
       "5     80\n",
       "6     78\n",
       "7     19\n",
       "8     88\n",
       "9     90"
      ]
     },
     "execution_count": 106,
     "metadata": {},
     "output_type": "execute_result"
    }
   ],
   "source": [
    "# Population entiere\n",
    "\n",
    "data = pd.DataFrame()\n",
    "data['poids'] = [47, 59, 45, 62, 22, 80, 78, 19, 88, 90]\n",
    "data"
   ]
  },
  {
   "cell_type": "code",
   "execution_count": 107,
   "id": "7e16e307",
   "metadata": {},
   "outputs": [
    {
     "data": {
      "text/plain": [
       "7    19\n",
       "0    47\n",
       "8    88\n",
       "4    22\n",
       "1    59\n",
       "Name: poids, dtype: int64"
      ]
     },
     "execution_count": 107,
     "metadata": {},
     "output_type": "execute_result"
    }
   ],
   "source": [
    "# prelever un Echantillon avec remise de Taille 5\n",
    "  # Echantillon avec remise c'est le faite de prelever et deposer l'element prelever pour prendre un nouvel element a \n",
    "    # chaque fois\n",
    "\n",
    "sample_with_remplacement = data['poids'].sample(n = 5, replace = True, random_state = 120)\n",
    "sample_with_remplacement\n",
    "\n",
    "# la methode sample() de pandas des echatillonements\n",
    "# l'argement random_state permet d'avoir la meme remise a chaque foi que l'on relance le code."
   ]
  },
  {
   "cell_type": "code",
   "execution_count": 108,
   "id": "5f93a6d8",
   "metadata": {},
   "outputs": [
    {
     "data": {
      "text/plain": [
       "5    80\n",
       "3    62\n",
       "1    59\n",
       "4    22\n",
       "8    88\n",
       "Name: poids, dtype: int64"
      ]
     },
     "execution_count": 108,
     "metadata": {},
     "output_type": "execute_result"
    }
   ],
   "source": [
    "#  Echantillonnement sans remise de Taille 5\n",
    "\n",
    "sample_without_remplacement = data['poids'].sample(n = 5, replace = False, random_state = 120)\n",
    "sample_without_remplacement"
   ]
  },
  {
   "cell_type": "code",
   "execution_count": 109,
   "id": "be7964d8",
   "metadata": {},
   "outputs": [
    {
     "data": {
      "text/html": [
       "<div>\n",
       "<style scoped>\n",
       "    .dataframe tbody tr th:only-of-type {\n",
       "        vertical-align: middle;\n",
       "    }\n",
       "\n",
       "    .dataframe tbody tr th {\n",
       "        vertical-align: top;\n",
       "    }\n",
       "\n",
       "    .dataframe thead th {\n",
       "        text-align: right;\n",
       "    }\n",
       "</style>\n",
       "<table border=\"1\" class=\"dataframe\">\n",
       "  <thead>\n",
       "    <tr style=\"text-align: right;\">\n",
       "      <th></th>\n",
       "      <th>poids</th>\n",
       "    </tr>\n",
       "  </thead>\n",
       "  <tbody>\n",
       "    <tr>\n",
       "      <th>count</th>\n",
       "      <td>10.000000</td>\n",
       "    </tr>\n",
       "    <tr>\n",
       "      <th>mean</th>\n",
       "      <td>59.000000</td>\n",
       "    </tr>\n",
       "    <tr>\n",
       "      <th>std</th>\n",
       "      <td>25.651511</td>\n",
       "    </tr>\n",
       "    <tr>\n",
       "      <th>min</th>\n",
       "      <td>19.000000</td>\n",
       "    </tr>\n",
       "    <tr>\n",
       "      <th>25%</th>\n",
       "      <td>45.500000</td>\n",
       "    </tr>\n",
       "    <tr>\n",
       "      <th>50%</th>\n",
       "      <td>60.500000</td>\n",
       "    </tr>\n",
       "    <tr>\n",
       "      <th>75%</th>\n",
       "      <td>79.500000</td>\n",
       "    </tr>\n",
       "    <tr>\n",
       "      <th>max</th>\n",
       "      <td>90.000000</td>\n",
       "    </tr>\n",
       "  </tbody>\n",
       "</table>\n",
       "</div>"
      ],
      "text/plain": [
       "           poids\n",
       "count  10.000000\n",
       "mean   59.000000\n",
       "std    25.651511\n",
       "min    19.000000\n",
       "25%    45.500000\n",
       "50%    60.500000\n",
       "75%    79.500000\n",
       "max    90.000000"
      ]
     },
     "execution_count": 109,
     "metadata": {},
     "output_type": "execute_result"
    }
   ],
   "source": [
    "# Les parametres statistique de la population entiere\n",
    "\n",
    "data.describe()"
   ]
  },
  {
   "cell_type": "code",
   "execution_count": 110,
   "id": "8c225192",
   "metadata": {},
   "outputs": [
    {
     "data": {
      "text/plain": [
       "count     5.000000\n",
       "mean     47.000000\n",
       "std      28.434134\n",
       "min      19.000000\n",
       "25%      22.000000\n",
       "50%      47.000000\n",
       "75%      59.000000\n",
       "max      88.000000\n",
       "Name: poids, dtype: float64"
      ]
     },
     "execution_count": 110,
     "metadata": {},
     "output_type": "execute_result"
    }
   ],
   "source": [
    "# Les parametres statistique de l'echatillon avec remise\n",
    "\n",
    "sample_with_remplacement.describe()"
   ]
  },
  {
   "cell_type": "code",
   "execution_count": 111,
   "id": "61b4ae47",
   "metadata": {},
   "outputs": [
    {
     "data": {
      "text/plain": [
       "count     5.000000\n",
       "mean     62.200000\n",
       "std      25.538207\n",
       "min      22.000000\n",
       "25%      59.000000\n",
       "50%      62.000000\n",
       "75%      80.000000\n",
       "max      88.000000\n",
       "Name: poids, dtype: float64"
      ]
     },
     "execution_count": 111,
     "metadata": {},
     "output_type": "execute_result"
    }
   ],
   "source": [
    "# Les parametres statistique de l'echatillon sans remise\n",
    "\n",
    "sample_without_remplacement.describe()"
   ]
  },
  {
   "cell_type": "markdown",
   "id": "fca86966",
   "metadata": {},
   "source": [
    "## FONCTION DE REPARTITION D'UNE VARIABLE"
   ]
  },
  {
   "cell_type": "code",
   "execution_count": 112,
   "id": "c4407e8a",
   "metadata": {},
   "outputs": [],
   "source": [
    "from warnings import filterwarnings\n",
    "filterwarnings('ignore')  # code optionnel"
   ]
  },
  {
   "cell_type": "code",
   "execution_count": 113,
   "id": "405878a0",
   "metadata": {},
   "outputs": [],
   "source": [
    "import pandas as pd\n",
    "import numpy as np\n",
    "import matplotlib.pyplot as plt\n",
    "import seaborn as sns\n",
    "from scipy import stats\n",
    "plt.style.use('ggplot')  # le style ggplot est un paquege de R pour affiné les graphique"
   ]
  },
  {
   "cell_type": "code",
   "execution_count": 114,
   "id": "e6d30adc",
   "metadata": {},
   "outputs": [
    {
     "data": {
      "text/html": [
       "<div>\n",
       "<style scoped>\n",
       "    .dataframe tbody tr th:only-of-type {\n",
       "        vertical-align: middle;\n",
       "    }\n",
       "\n",
       "    .dataframe tbody tr th {\n",
       "        vertical-align: top;\n",
       "    }\n",
       "\n",
       "    .dataframe thead th {\n",
       "        text-align: right;\n",
       "    }\n",
       "</style>\n",
       "<table border=\"1\" class=\"dataframe\">\n",
       "  <thead>\n",
       "    <tr style=\"text-align: right;\">\n",
       "      <th></th>\n",
       "      <th>sepal_length</th>\n",
       "      <th>sepal_width</th>\n",
       "      <th>petal_length</th>\n",
       "      <th>petal_width</th>\n",
       "      <th>species</th>\n",
       "    </tr>\n",
       "  </thead>\n",
       "  <tbody>\n",
       "    <tr>\n",
       "      <th>0</th>\n",
       "      <td>5.1</td>\n",
       "      <td>3.5</td>\n",
       "      <td>1.4</td>\n",
       "      <td>0.2</td>\n",
       "      <td>setosa</td>\n",
       "    </tr>\n",
       "    <tr>\n",
       "      <th>1</th>\n",
       "      <td>4.9</td>\n",
       "      <td>3.0</td>\n",
       "      <td>1.4</td>\n",
       "      <td>0.2</td>\n",
       "      <td>setosa</td>\n",
       "    </tr>\n",
       "    <tr>\n",
       "      <th>2</th>\n",
       "      <td>4.7</td>\n",
       "      <td>3.2</td>\n",
       "      <td>1.3</td>\n",
       "      <td>0.2</td>\n",
       "      <td>setosa</td>\n",
       "    </tr>\n",
       "    <tr>\n",
       "      <th>3</th>\n",
       "      <td>4.6</td>\n",
       "      <td>3.1</td>\n",
       "      <td>1.5</td>\n",
       "      <td>0.2</td>\n",
       "      <td>setosa</td>\n",
       "    </tr>\n",
       "    <tr>\n",
       "      <th>4</th>\n",
       "      <td>5.0</td>\n",
       "      <td>3.6</td>\n",
       "      <td>1.4</td>\n",
       "      <td>0.2</td>\n",
       "      <td>setosa</td>\n",
       "    </tr>\n",
       "  </tbody>\n",
       "</table>\n",
       "</div>"
      ],
      "text/plain": [
       "   sepal_length  sepal_width  petal_length  petal_width species\n",
       "0           5.1          3.5           1.4          0.2  setosa\n",
       "1           4.9          3.0           1.4          0.2  setosa\n",
       "2           4.7          3.2           1.3          0.2  setosa\n",
       "3           4.6          3.1           1.5          0.2  setosa\n",
       "4           5.0          3.6           1.4          0.2  setosa"
      ]
     },
     "execution_count": 114,
     "metadata": {},
     "output_type": "execute_result"
    }
   ],
   "source": [
    "# Chargement de l'ensemble des données iris\n",
    "\n",
    "iris_df = sns.load_dataset('iris')\n",
    "iris_df.head()"
   ]
  },
  {
   "cell_type": "code",
   "execution_count": 115,
   "id": "23381553",
   "metadata": {},
   "outputs": [
    {
     "name": "stdout",
     "output_type": "stream",
     "text": [
      "<class 'pandas.core.frame.DataFrame'>\n",
      "RangeIndex: 150 entries, 0 to 149\n",
      "Data columns (total 5 columns):\n",
      " #   Column        Non-Null Count  Dtype  \n",
      "---  ------        --------------  -----  \n",
      " 0   sepal_length  150 non-null    float64\n",
      " 1   sepal_width   150 non-null    float64\n",
      " 2   petal_length  150 non-null    float64\n",
      " 3   petal_width   150 non-null    float64\n",
      " 4   species       150 non-null    object \n",
      "dtypes: float64(4), object(1)\n",
      "memory usage: 6.0+ KB\n"
     ]
    }
   ],
   "source": [
    "iris_df.info()"
   ]
  },
  {
   "cell_type": "code",
   "execution_count": 116,
   "id": "25fc7f4c",
   "metadata": {},
   "outputs": [],
   "source": [
    "iris_df = iris_df.rename(columns={'sepal_length':'longueur_sepales',\n",
    "                                  'sepal_width':'largeur_sepales',\n",
    "                                  'petal_length':'longueur_petales',\n",
    "                                  'petal_width':'largeur_petales', 'species':'especes'})"
   ]
  },
  {
   "cell_type": "code",
   "execution_count": 117,
   "id": "36f9e17d",
   "metadata": {},
   "outputs": [
    {
     "data": {
      "text/html": [
       "<div>\n",
       "<style scoped>\n",
       "    .dataframe tbody tr th:only-of-type {\n",
       "        vertical-align: middle;\n",
       "    }\n",
       "\n",
       "    .dataframe tbody tr th {\n",
       "        vertical-align: top;\n",
       "    }\n",
       "\n",
       "    .dataframe thead th {\n",
       "        text-align: right;\n",
       "    }\n",
       "</style>\n",
       "<table border=\"1\" class=\"dataframe\">\n",
       "  <thead>\n",
       "    <tr style=\"text-align: right;\">\n",
       "      <th></th>\n",
       "      <th>longueur_sepales</th>\n",
       "      <th>largeur_sepales</th>\n",
       "      <th>longueur_petales</th>\n",
       "      <th>largeur_petales</th>\n",
       "      <th>especes</th>\n",
       "    </tr>\n",
       "  </thead>\n",
       "  <tbody>\n",
       "    <tr>\n",
       "      <th>0</th>\n",
       "      <td>5.1</td>\n",
       "      <td>3.5</td>\n",
       "      <td>1.4</td>\n",
       "      <td>0.2</td>\n",
       "      <td>setosa</td>\n",
       "    </tr>\n",
       "    <tr>\n",
       "      <th>1</th>\n",
       "      <td>4.9</td>\n",
       "      <td>3.0</td>\n",
       "      <td>1.4</td>\n",
       "      <td>0.2</td>\n",
       "      <td>setosa</td>\n",
       "    </tr>\n",
       "    <tr>\n",
       "      <th>2</th>\n",
       "      <td>4.7</td>\n",
       "      <td>3.2</td>\n",
       "      <td>1.3</td>\n",
       "      <td>0.2</td>\n",
       "      <td>setosa</td>\n",
       "    </tr>\n",
       "    <tr>\n",
       "      <th>3</th>\n",
       "      <td>4.6</td>\n",
       "      <td>3.1</td>\n",
       "      <td>1.5</td>\n",
       "      <td>0.2</td>\n",
       "      <td>setosa</td>\n",
       "    </tr>\n",
       "    <tr>\n",
       "      <th>4</th>\n",
       "      <td>5.0</td>\n",
       "      <td>3.6</td>\n",
       "      <td>1.4</td>\n",
       "      <td>0.2</td>\n",
       "      <td>setosa</td>\n",
       "    </tr>\n",
       "    <tr>\n",
       "      <th>...</th>\n",
       "      <td>...</td>\n",
       "      <td>...</td>\n",
       "      <td>...</td>\n",
       "      <td>...</td>\n",
       "      <td>...</td>\n",
       "    </tr>\n",
       "    <tr>\n",
       "      <th>145</th>\n",
       "      <td>6.7</td>\n",
       "      <td>3.0</td>\n",
       "      <td>5.2</td>\n",
       "      <td>2.3</td>\n",
       "      <td>virginica</td>\n",
       "    </tr>\n",
       "    <tr>\n",
       "      <th>146</th>\n",
       "      <td>6.3</td>\n",
       "      <td>2.5</td>\n",
       "      <td>5.0</td>\n",
       "      <td>1.9</td>\n",
       "      <td>virginica</td>\n",
       "    </tr>\n",
       "    <tr>\n",
       "      <th>147</th>\n",
       "      <td>6.5</td>\n",
       "      <td>3.0</td>\n",
       "      <td>5.2</td>\n",
       "      <td>2.0</td>\n",
       "      <td>virginica</td>\n",
       "    </tr>\n",
       "    <tr>\n",
       "      <th>148</th>\n",
       "      <td>6.2</td>\n",
       "      <td>3.4</td>\n",
       "      <td>5.4</td>\n",
       "      <td>2.3</td>\n",
       "      <td>virginica</td>\n",
       "    </tr>\n",
       "    <tr>\n",
       "      <th>149</th>\n",
       "      <td>5.9</td>\n",
       "      <td>3.0</td>\n",
       "      <td>5.1</td>\n",
       "      <td>1.8</td>\n",
       "      <td>virginica</td>\n",
       "    </tr>\n",
       "  </tbody>\n",
       "</table>\n",
       "<p>150 rows × 5 columns</p>\n",
       "</div>"
      ],
      "text/plain": [
       "     longueur_sepales  largeur_sepales  longueur_petales  largeur_petales  \\\n",
       "0                 5.1              3.5               1.4              0.2   \n",
       "1                 4.9              3.0               1.4              0.2   \n",
       "2                 4.7              3.2               1.3              0.2   \n",
       "3                 4.6              3.1               1.5              0.2   \n",
       "4                 5.0              3.6               1.4              0.2   \n",
       "..                ...              ...               ...              ...   \n",
       "145               6.7              3.0               5.2              2.3   \n",
       "146               6.3              2.5               5.0              1.9   \n",
       "147               6.5              3.0               5.2              2.0   \n",
       "148               6.2              3.4               5.4              2.3   \n",
       "149               5.9              3.0               5.1              1.8   \n",
       "\n",
       "       especes  \n",
       "0       setosa  \n",
       "1       setosa  \n",
       "2       setosa  \n",
       "3       setosa  \n",
       "4       setosa  \n",
       "..         ...  \n",
       "145  virginica  \n",
       "146  virginica  \n",
       "147  virginica  \n",
       "148  virginica  \n",
       "149  virginica  \n",
       "\n",
       "[150 rows x 5 columns]"
      ]
     },
     "execution_count": 117,
     "metadata": {},
     "output_type": "execute_result"
    }
   ],
   "source": [
    "iris_df"
   ]
  },
  {
   "cell_type": "code",
   "execution_count": 118,
   "id": "c95baf83",
   "metadata": {},
   "outputs": [
    {
     "data": {
      "text/plain": [
       "setosa        50\n",
       "versicolor    50\n",
       "virginica     50\n",
       "Name: especes, dtype: int64"
      ]
     },
     "execution_count": 118,
     "metadata": {},
     "output_type": "execute_result"
    }
   ],
   "source": [
    "# les differents especes d'iris\n",
    "\n",
    "iris_df['especes'].value_counts()"
   ]
  },
  {
   "cell_type": "markdown",
   "id": "9905d83d",
   "metadata": {},
   "source": [
    "## Fonction de repartition empirique (FRE)"
   ]
  },
  {
   "cell_type": "markdown",
   "id": "670eb0a8",
   "metadata": {},
   "source": [
    "la fonction de repartition empirique attrubue la probabilité de 1/n a chacun des n observations dans un echantion. avec n le nombre d'echantillon.\n",
    "tracons la fonction de repartition emirique de la longueur des petales d'Iris versicolor."
   ]
  },
  {
   "cell_type": "code",
   "execution_count": 119,
   "id": "7e0e3390",
   "metadata": {},
   "outputs": [
    {
     "data": {
      "text/plain": [
       "array([3. , 3.3, 3.3, 3.5, 3.5, 3.6, 3.7, 3.8, 3.9, 3.9, 3.9, 4. , 4. ,\n",
       "       4. , 4. , 4. , 4.1, 4.1, 4.1, 4.2, 4.2, 4.2, 4.2, 4.3, 4.3, 4.4,\n",
       "       4.4, 4.4, 4.4, 4.5, 4.5, 4.5, 4.5, 4.5, 4.5, 4.5, 4.6, 4.6, 4.6,\n",
       "       4.7, 4.7, 4.7, 4.7, 4.7, 4.8, 4.8, 4.9, 4.9, 5. , 5.1])"
      ]
     },
     "execution_count": 119,
     "metadata": {},
     "output_type": "execute_result"
    }
   ],
   "source": [
    "# Longueur des petales d'Iris versicolor\n",
    "\n",
    "x = np.sort(iris_df[iris_df['especes'] == 'versicolor']['longueur_petales'])\n",
    "x\n",
    "\n",
    "# la methode sort() de numpy pour ordonné de facon croissante les valeurs"
   ]
  },
  {
   "cell_type": "code",
   "execution_count": 120,
   "id": "c1ed7069",
   "metadata": {},
   "outputs": [
    {
     "data": {
      "text/plain": [
       "array([0.02, 0.04, 0.06, 0.08, 0.1 , 0.12, 0.14, 0.16, 0.18, 0.2 , 0.22,\n",
       "       0.24, 0.26, 0.28, 0.3 , 0.32, 0.34, 0.36, 0.38, 0.4 , 0.42, 0.44,\n",
       "       0.46, 0.48, 0.5 , 0.52, 0.54, 0.56, 0.58, 0.6 , 0.62, 0.64, 0.66,\n",
       "       0.68, 0.7 , 0.72, 0.74, 0.76, 0.78, 0.8 , 0.82, 0.84, 0.86, 0.88,\n",
       "       0.9 , 0.92, 0.94, 0.96, 0.98, 1.  ])"
      ]
     },
     "execution_count": 120,
     "metadata": {},
     "output_type": "execute_result"
    }
   ],
   "source": [
    "# je vais appliquer la probalité 1/n a chacun des n observations\n",
    "\n",
    "y = np.arange(1, len(x) + 1) / len(x)\n",
    "y"
   ]
  },
  {
   "cell_type": "code",
   "execution_count": 121,
   "id": "dce527ee",
   "metadata": {},
   "outputs": [
    {
     "data": {
      "image/png": "[encoded data removed]",
      "text/plain": [
       "<Figure size 640x480 with 1 Axes>"
      ]
     },
     "metadata": {},
     "output_type": "display_data"
    }
   ],
   "source": [
    "# Tracon maintenent la fonction de repartition empirique(FRE)\n",
    "\n",
    "plt.plot(x,y)\n",
    "plt.xlabel('longeurs des petales')\n",
    "plt.ylabel('fonction de repartition empirique(FRE)')\n",
    "plt.title('iris versicolor')\n",
    "\n",
    "plt.show()"
   ]
  },
  {
   "cell_type": "markdown",
   "id": "04ac6180",
   "metadata": {},
   "source": [
    "nous pouvons observer que 60% des iris versicolor ont une longueur des petales inferieurs ou egale à 4.5cm"
   ]
  },
  {
   "cell_type": "code",
   "execution_count": 122,
   "id": "a1d3eb70",
   "metadata": {},
   "outputs": [],
   "source": [
    "# Fonction de calcul de la repartion empirique d'une variable. # Fre = fonction de repartition empirique\n",
    "def fre(data):           \n",
    "    \n",
    "    # Axes des abscisses\n",
    "    x = np.sort(data)\n",
    "    \n",
    "    # Axes des ordonnées\n",
    "    y = np.arange(1, len(x) + 1) / len(x)\n",
    "    \n",
    "    return x, y"
   ]
  },
  {
   "cell_type": "code",
   "execution_count": 136,
   "id": "907838ab",
   "metadata": {},
   "outputs": [
    {
     "data": {
      "image/png": "[encoded data removed]",
      "text/plain": [
       "<Figure size 640x480 with 1 Axes>"
      ]
     },
     "metadata": {},
     "output_type": "display_data"
    }
   ],
   "source": [
    "# Longueurs des petales de chaque especes d'Iris\n",
    "      # nous avons utiliser notre Fre precedente puis on a rajouté nos condition\n",
    "\n",
    "x_vsericolor, y_versicolor = fre(iris_df[iris_df['especes']=='versicolor']['longueur_petales'])\n",
    "x_setosa, y_setosa = fre(iris_df[iris_df['especes']=='setosa']['longueur_petales'])\n",
    "x_virginica, y_virginica = fre(iris_df[iris_df['especes']=='virginica']['longueur_petales'])\n",
    "\n",
    "plt.plot(x_vsericolor, y_versicolor, color='red')\n",
    "plt.plot(x_setosa, y_setosa, color='green')\n",
    "plt.plot(x_virginica, y_virginica, color='blue')\n",
    "plt.legend(('versicolor', 'setosa', 'virginica')) # le plt.legend() prend un seul element dans un tuple.\n",
    "plt.xlabel('longeurs des petales')                    # donc il faut doublé le tuple\n",
    "plt.ylabel('fonction de repartition empirique(FRE)')\n",
    "plt.title('iris versicolor, setosa, virginica')\n",
    "\n",
    "plt.show()"
   ]
  },
  {
   "cell_type": "markdown",
   "id": "e2255c83",
   "metadata": {},
   "source": [
    "le graphique nous montre q'il y a de net difference entre les especes en terme de longueur des petales. Setosa en vert est beaucoup plus court avec une faible variabilité de la longueur des petales. tandisque virginica et versiclor sont beaucoups plus longues"
   ]
  },
  {
   "cell_type": "markdown",
   "id": "a806d456",
   "metadata": {},
   "source": [
    "## FONCTION DE DENSITE DE PROBABILITE"
   ]
  },
  {
   "cell_type": "markdown",
   "id": "7b9d6702",
   "metadata": {},
   "source": [
    "La fonction de densité de probabilité d'une variable continue decrit les chances d'observer une valeurs de cette variable.\n",
    "Nous avons vu comment tracer une densité de probabilité dans la session consacrée a l'analyse univarié"
   ]
  },
  {
   "cell_type": "code",
   "execution_count": 124,
   "id": "8fd6af0c",
   "metadata": {},
   "outputs": [
    {
     "data": {
      "text/html": [
       "<div>\n",
       "<style scoped>\n",
       "    .dataframe tbody tr th:only-of-type {\n",
       "        vertical-align: middle;\n",
       "    }\n",
       "\n",
       "    .dataframe tbody tr th {\n",
       "        vertical-align: top;\n",
       "    }\n",
       "\n",
       "    .dataframe thead th {\n",
       "        text-align: right;\n",
       "    }\n",
       "</style>\n",
       "<table border=\"1\" class=\"dataframe\">\n",
       "  <thead>\n",
       "    <tr style=\"text-align: right;\">\n",
       "      <th></th>\n",
       "      <th>longueur_sepales</th>\n",
       "      <th>largeur_sepales</th>\n",
       "      <th>longueur_petales</th>\n",
       "      <th>largeur_petales</th>\n",
       "      <th>especes</th>\n",
       "    </tr>\n",
       "  </thead>\n",
       "  <tbody>\n",
       "    <tr>\n",
       "      <th>0</th>\n",
       "      <td>5.1</td>\n",
       "      <td>3.5</td>\n",
       "      <td>1.4</td>\n",
       "      <td>0.2</td>\n",
       "      <td>setosa</td>\n",
       "    </tr>\n",
       "    <tr>\n",
       "      <th>1</th>\n",
       "      <td>4.9</td>\n",
       "      <td>3.0</td>\n",
       "      <td>1.4</td>\n",
       "      <td>0.2</td>\n",
       "      <td>setosa</td>\n",
       "    </tr>\n",
       "    <tr>\n",
       "      <th>2</th>\n",
       "      <td>4.7</td>\n",
       "      <td>3.2</td>\n",
       "      <td>1.3</td>\n",
       "      <td>0.2</td>\n",
       "      <td>setosa</td>\n",
       "    </tr>\n",
       "    <tr>\n",
       "      <th>3</th>\n",
       "      <td>4.6</td>\n",
       "      <td>3.1</td>\n",
       "      <td>1.5</td>\n",
       "      <td>0.2</td>\n",
       "      <td>setosa</td>\n",
       "    </tr>\n",
       "    <tr>\n",
       "      <th>4</th>\n",
       "      <td>5.0</td>\n",
       "      <td>3.6</td>\n",
       "      <td>1.4</td>\n",
       "      <td>0.2</td>\n",
       "      <td>setosa</td>\n",
       "    </tr>\n",
       "  </tbody>\n",
       "</table>\n",
       "</div>"
      ],
      "text/plain": [
       "   longueur_sepales  largeur_sepales  longueur_petales  largeur_petales  \\\n",
       "0               5.1              3.5               1.4              0.2   \n",
       "1               4.9              3.0               1.4              0.2   \n",
       "2               4.7              3.2               1.3              0.2   \n",
       "3               4.6              3.1               1.5              0.2   \n",
       "4               5.0              3.6               1.4              0.2   \n",
       "\n",
       "  especes  \n",
       "0  setosa  \n",
       "1  setosa  \n",
       "2  setosa  \n",
       "3  setosa  \n",
       "4  setosa  "
      ]
     },
     "execution_count": 124,
     "metadata": {},
     "output_type": "execute_result"
    }
   ],
   "source": [
    "iris_df.head()"
   ]
  },
  {
   "cell_type": "code",
   "execution_count": 125,
   "id": "ab35cb9e",
   "metadata": {},
   "outputs": [
    {
     "data": {
      "text/plain": [
       "<function matplotlib.pyplot.show(close=None, block=None)>"
      ]
     },
     "execution_count": 125,
     "metadata": {},
     "output_type": "execute_result"
    },
    {
     "data": {
      "image/png": "[encoded data removed]",
      "text/plain": [
       "<Figure size 640x480 with 1 Axes>"
      ]
     },
     "metadata": {},
     "output_type": "display_data"
    }
   ],
   "source": [
    "# Densité de probabilité de la largeur des sepales d'Iris Virginica\n",
    "\n",
    "sns.distplot(iris_df[iris_df['especes']=='virginica']['largeur_sepales'], hist=False)\n",
    "plt.title('largeur des sepales de Virginica')\n",
    "plt.show"
   ]
  },
  {
   "cell_type": "markdown",
   "id": "d0738afd",
   "metadata": {},
   "source": [
    "cette densité de probabilité a une forme en cloche comme une loi normal. la probabilité d'avoir une largeur des sepales superieurs à 3.5cm est egale a l'aire de la region delimité par la courbe. l'axes des abscisses et la droite d'equation Y = 3.5. \n",
    "pour calculer l'aire, on a besoin de l'equation de la courbe. sauf que nous ne connaisson pas l'equation de cette courbe. donc nous allons ajouter une loi theorique à cette courbe, à cette distribution. exemple de loi theorique que nous allons utiliser est la loi Normal. pour nous permettre d'ajuster nos calcul selon la loi normal et resortir les probabilité "
   ]
  },
  {
   "cell_type": "code",
   "execution_count": 126,
   "id": "72e077d9",
   "metadata": {},
   "outputs": [
    {
     "data": {
      "image/png": "[encoded data removed]",
      "text/plain": [
       "<Figure size 640x480 with 1 Axes>"
      ]
     },
     "metadata": {},
     "output_type": "display_data"
    }
   ],
   "source": [
    "# la largeur des sepales d'Iris Virginica suit-elle une loi normal ?\n",
    "  # nous allons verifier si la largeur d'Iris sepales Virginica que nous avons eu precedement suit une loi normal\n",
    "\n",
    "mean = np.mean(iris_df[iris_df['especes']=='virginica']['largeur_sepales'])    # moyenne\n",
    "\n",
    "std = np.std(iris_df[iris_df['especes']=='virginica']['largeur_sepales'])      # Ecart-type\n",
    "\n",
    "samples_normal = np.random.normal(mean, std, size=100000)       # Distribution normal\n",
    "\n",
    "sns.distplot(iris_df[iris_df['especes']=='virginica']['largeur_sepales'], hist=False, label='Virginica')\n",
    "\n",
    "sns.distplot(samples_normal, hist=False, label='normal distribution')   # label c'est la legende\n",
    "\n",
    "plt.legend()\n",
    "\n",
    "plt.show()\n",
    "\n",
    "# nous voulons comparé la distribution de la largeur des sepales d'Iris Virginica a une distribution normal(loi normal)\n",
    "# afin de voir si c'est une loi normal. pour cela il faut tracer une distribution normal de meme moyenne et de \n",
    "# meme ecart-type et ensuite generé 100000 points dont la distribution suit une loi normal de moyenne mean et\n",
    "# d'ecart-type std. ensuite avec la fonction distplot nous avons tracer la densité de probabilité. "
   ]
  },
  {
   "cell_type": "markdown",
   "id": "01f8129b",
   "metadata": {},
   "source": [
    "les deux courbes son pratiquement superposées et confondus. ce qui voudrait dire, la largeur des sepales d'Iris Virginica suit une loi normal. donc nous pouvons utilisé la lors normal pour estimé les probalités "
   ]
  },
  {
   "cell_type": "code",
   "execution_count": 127,
   "id": "57a811c2",
   "metadata": {},
   "outputs": [
    {
     "data": {
      "text/plain": [
       "array([2.8359146 , 3.21965328, 3.22640024, ..., 3.29798119, 3.17515831,\n",
       "       3.51072251])"
      ]
     },
     "execution_count": 127,
     "metadata": {},
     "output_type": "execute_result"
    }
   ],
   "source": [
    "samples_normal  # j'ai afficher samples_normal pour abserver les valeurs de 100000 points dans le tuple"
   ]
  },
  {
   "cell_type": "code",
   "execution_count": 128,
   "id": "74490099",
   "metadata": {},
   "outputs": [
    {
     "data": {
      "image/png": "[encoded data removed]",
      "text/plain": [
       "<Figure size 640x480 with 1 Axes>"
      ]
     },
     "metadata": {},
     "output_type": "display_data"
    }
   ],
   "source": [
    "# la largeur des sepales d'Iris Virginica suit-elle une loi normal ?\n",
    "\n",
    "x, y = fre(iris_df[iris_df['especes']=='virginica']['largeur_sepales'])\n",
    "\n",
    "x_normal, y_normal = fre(samples_normal)\n",
    "\n",
    "plt.plot(x, y, color= 'red')\n",
    "\n",
    "plt.plot(x_normal, y_normal, color='blue')\n",
    "\n",
    "plt.xlabel('largeur des sepales')\n",
    "\n",
    "plt.ylabel('fonction de repartition empirique(FRE)')\n",
    "plt.show()\n",
    "\n",
    "# cette methode permet de verifier aussi si notre distribution sur la largeur des sepales d'Iris Virginica \n",
    "# suit exatement une loi normal. "
   ]
  },
  {
   "cell_type": "markdown",
   "id": "5a112d36",
   "metadata": {},
   "source": [
    "les deux courbes son pratiquement superposées et confondus. ce qui voudrait dire, la largeur des sepales d'Iris Virginica suit une loi normal. donc nous pouvons utilisé la lors normal pour estimé les probalités "
   ]
  },
  {
   "cell_type": "code",
   "execution_count": 129,
   "id": "46b9a3c1",
   "metadata": {},
   "outputs": [
    {
     "name": "stdout",
     "output_type": "stream",
     "text": [
      "la probabilite de la largeur des sepales d'Iris Virginica est estimé a  4.822 %\n"
     ]
    }
   ],
   "source": [
    "# probabilité que la largeur des sepales d'Iris Virginica soit > 3.5 cm\n",
    "  # probabilité que la largeur des sepales d'Iris Virginica en prenant n'importe quel espece d'Iris Virginica\n",
    "    # vue que la probalité suis une loi normal donc j'utilise \"\"\"samples_normal\"\"\"\n",
    "\n",
    "probabilite = np.sum(samples_normal > 3.5) / len(samples_normal)\n",
    "print(\"la probabilite de la largeur des sepales d'Iris Virginica est estimé a \",round(probabilite*100,3), \"%\" )"
   ]
  },
  {
   "cell_type": "markdown",
   "id": "5a567860",
   "metadata": {},
   "source": [
    "## UTILISATION DES SIMULATIONS POUR L'ESTIMATION DE PROBABILITE"
   ]
  },
  {
   "cell_type": "markdown",
   "id": "d8212fb9",
   "metadata": {},
   "source": [
    "La simulation est une technique qui permet de modéliser des systèmes plus ou moins complexes du monde réel. Elle est utilisée dans plusieurs domaines tels que la Physique, la biologie, la Finance, l'Intelligence Artificielle, etc. Les simulations nous donnent une solution approximative à un problème.\n",
    "\n",
    "Pour effectuer des simulations, vous devez suivre les étapes ci-dessous :\n",
    "\n",
    "- définir l'ensemble de tous les résultats possibles associés à une variable aléatoire;\n",
    "- déterminer comment simuler un résultat aléatoire;\n",
    "- déterminer la règle du succès;\n",
    "- échantillonner à plusieurs reprises et compter les résultats;\n",
    "- calculer la fréquence du succès comme une estimation de la probabilité.\n",
    " \n",
    "Exemple 1 :\n",
    "\n",
    "Soit une expérience consistant à lancer 5 fois une pièce de monnaie. II y a 50% de chance d'obtenir 'pile' et 50% de chances d'obtenir 'face' au cours d'un lancé. Un lancé de la pièce de monnaie est une épreuve de Bernoulli (Une épreuve de Bernoulli est une expérience aléatoire qui a deux issues possibles : succès et échec). Ici, nous définissons l'événement \"obtenir une pile comme étant le succès et l'événement \"obtenir une face\" comme étant l'échec.\n",
    "L'objectif est de répéter N fois l'expérience E et de calculer la probabilité d'obtenir 5 'pile' sur les 5 lancers.\n",
    "\n",
    "Pour réaliser cette expérience, nous utiliserons le module random de Numpy. Nous allons générer des nombres réels pseudo-aléatoires compris entre O et 1. Si le nombre généré est inférieur à 0.5, on dira qu'on a 'pile'. Dans le cas contraire, on dira qu'on a 'face'."
   ]
  },
  {
   "cell_type": "code",
   "execution_count": 130,
   "id": "c6826086",
   "metadata": {},
   "outputs": [],
   "source": [
    "# code pour s'assurer de la reproductibilité des resultats\n",
    "\n",
    "np.random.seed(1111)\n",
    "\n",
    "# np.random.seed(1111) permet de s'assurer de la reproductibilité des resultats. sans cette ligne de code on obtiendrait\n",
    "# different nombre à chaque execution de code"
   ]
  },
  {
   "cell_type": "code",
   "execution_count": 131,
   "id": "baa8a1c0",
   "metadata": {},
   "outputs": [
    {
     "name": "stdout",
     "output_type": "stream",
     "text": [
      "[0.0955492  0.9250037  0.34357342 0.31047694 0.00200984]\n",
      "4\n"
     ]
    }
   ],
   "source": [
    "# Realisation d'une experience E\n",
    "\n",
    "outcomes = np.random.random(size=5)        # outcomes = resultat en anglais\n",
    "print(outcomes)\n",
    "\n",
    "# nombre de \"pile\" obtenu lors de cette experience \n",
    "  # notre regle (on va compté le nbre de fois on a obtenu un nombre inferieur a 0.5)\n",
    "    \n",
    "print(np.sum(outcomes < 0.5))  "
   ]
  },
  {
   "cell_type": "markdown",
   "id": "a755b27d",
   "metadata": {},
   "source": [
    "Etant donner que nous savons comment simulé une Experience nous allons simulé maintenant N exeprience cette simulation est utiliser par les jeux d'hasard et les casinos pour estimé les probabilitées de gagné ou de perdre. l'idée c'est de repeter plusieurs fois une experience afin d'estimé la probabilité.\n",
    "ici la probabilité est estimé par la Frequence de succes tous simplement.\n",
    "On se dit qu'on s'approche de la verité de probailité réel lorsque le N est grand. plus le N est grand on s'approche de la verité"
   ]
  },
  {
   "cell_type": "code",
   "execution_count": 132,
   "id": "ce92a855",
   "metadata": {},
   "outputs": [
    {
     "name": "stdout",
     "output_type": "stream",
     "text": [
      "la probabilité d'obtenir 5 pile sur les 5 lancés est de  3.1218 %\n"
     ]
    }
   ],
   "source": [
    "  # Simulation de N experience E\n",
    "    \n",
    "N = 1000000     # le nombre de repetition de l'experience   \n",
    "\n",
    "# Initialisation du nombre total de foi ou on a obtenu 5 pile \n",
    "  # pendant une experience durant les N repetitions\n",
    "\n",
    "n_all_pile = 0\n",
    "\n",
    "for i in range(N):\n",
    "    results = np.random.random(size=5)\n",
    "    piles = results < 0.5\n",
    "    n_piles = np.sum(piles)\n",
    "    \n",
    "    if n_piles == 5:\n",
    "        n_all_pile = n_all_pile + 1\n",
    "        \n",
    "probabilite_all_pile = n_all_pile / N\n",
    "\n",
    "print(\"la probabilité d'obtenir 5 pile sur les 5 lancés est de \",probabilite_all_pile*100, \"%\" )"
   ]
  },
  {
   "cell_type": "markdown",
   "id": "5b89b4db",
   "metadata": {},
   "source": [
    "Exemple 2 :\n",
    "\n",
    "Vous lancez deux dés numérotés chacun de 1 à 6. Tous les numéros ont la même probabilité d'apparition (distribution uniforme). Vous gagnez si les deux dés affichent le même numéro et vous perdez dans le cas Contraire.\n",
    "\n",
    "Après avoir réalisé le jeu une fois, nous allons le répéter plusieurs fois afin d'estimer la probabilité de gagner à ce jeu."
   ]
  },
  {
   "cell_type": "code",
   "execution_count": 133,
   "id": "47e2a46a",
   "metadata": {},
   "outputs": [
    {
     "data": {
      "text/plain": [
       "array([2, 3])"
      ]
     },
     "execution_count": 133,
     "metadata": {},
     "output_type": "execute_result"
    }
   ],
   "source": [
    "# jouons une foi au jeu de dé\n",
    "# regle de succes : jouer le meme numero sur les deux dé exemple le 4 sur 1er dé et le decond dé\n",
    "  # dé = [1, 2, 3, 4, 5, 6]; probs ou probabilité = [1/6,1/6,1/6,1/6,1/6,1/6]; n_de ou nombre de dé = 2 d'ou de, probs, n_de\n",
    "    \n",
    "de, probs, n_de = [1, 2, 3, 4, 5, 6], [1/6,1/6,1/6,1/6,1/6,1/6], 2   \n",
    "\n",
    "outcomes = np.random.choice(de, size = n_de, p = probs)           # outcomes = resultat en anglais\n",
    "outcomes"
   ]
  },
  {
   "cell_type": "code",
   "execution_count": 134,
   "id": "ec6ac6a3",
   "metadata": {},
   "outputs": [
    {
     "name": "stdout",
     "output_type": "stream",
     "text": [
      "les deux dés affichent 2 et 3 donc on à perdu\n"
     ]
    }
   ],
   "source": [
    "# condition pour gagner ou perdre\n",
    "\n",
    "if outcomes[0] == outcomes[1]:\n",
    "    issue = 'gagné'\n",
    "else:\n",
    "    issue = 'perdu'\n",
    "print(\"les deux dés affichent\", outcomes[0], \"et\", outcomes[1], \"donc on à\", issue)"
   ]
  },
  {
   "cell_type": "code",
   "execution_count": 135,
   "id": "91fa5b7b",
   "metadata": {},
   "outputs": [
    {
     "name": "stdout",
     "output_type": "stream",
     "text": [
      "la probabilité de gagner à ce jeu est de  16.6778 %\n"
     ]
    }
   ],
   "source": [
    "# jouons plusieurs foi le jeu de dé\n",
    "\n",
    "N = 1000000     # le nombre de repetition de l'experience\n",
    "\n",
    "n_wins = 0    # Initialisation du nombre de foi ou on a gagné\n",
    "\n",
    "for i in range(N):\n",
    "    outcomes = np.random.choice(de, size = n_de, p = probs)\n",
    "    if outcomes[0] == outcomes[1]:\n",
    "        n_wins = n_wins + 1\n",
    "        \n",
    "probs_wins = n_wins / N\n",
    "\n",
    "print(\"la probabilité de gagner à ce jeu est de \", probs_wins*100, \"%\")"
   ]
  },
  {
   "cell_type": "markdown",
   "id": "60e1a2e9",
   "metadata": {},
   "source": [
    "EXCELLENT ! La simulation est un outil puissant pour estimer des statistiques.\n",
    "\n",
    "Cette section vous a permise de développer votre capacité à penser de manière probabiliste. Par ailleurs, vous avez aussi appris différents outils de Python qui vous aideront dans la résolution de problèmes d'inférence statistique."
   ]
  },
  {
   "cell_type": "code",
   "execution_count": null,
   "id": "a496efe6",
   "metadata": {},
   "outputs": [],
   "source": []
  }
 ],
 "metadata": {
  "kernelspec": {
   "display_name": "Python 3 (ipykernel)",
   "language": "python",
   "name": "python3"
  },
  "language_info": {
   "codemirror_mode": {
    "name": "ipython",
    "version": 3
   },
   "file_extension": ".py",
   "mimetype": "text/x-python",
   "name": "python",
   "nbconvert_exporter": "python",
   "pygments_lexer": "ipython3",
   "version": "3.9.13"
  }
 },
 "nbformat": 4,
 "nbformat_minor": 5
}
