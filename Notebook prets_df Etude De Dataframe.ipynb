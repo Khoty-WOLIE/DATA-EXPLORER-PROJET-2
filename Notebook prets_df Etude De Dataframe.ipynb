{
 "cells": [
  {
   "cell_type": "code",
   "execution_count": 109,
   "id": "54af2c59",
   "metadata": {},
   "outputs": [],
   "source": [
    "import pandas as pd"
   ]
  },
  {
   "cell_type": "code",
   "execution_count": 110,
   "id": "ddcdd79f",
   "metadata": {},
   "outputs": [
    {
     "data": {
      "text/html": [
       "<div>\n",
       "<style scoped>\n",
       "    .dataframe tbody tr th:only-of-type {\n",
       "        vertical-align: middle;\n",
       "    }\n",
       "\n",
       "    .dataframe tbody tr th {\n",
       "        vertical-align: top;\n",
       "    }\n",
       "\n",
       "    .dataframe thead th {\n",
       "        text-align: right;\n",
       "    }\n",
       "</style>\n",
       "<table border=\"1\" class=\"dataframe\">\n",
       "  <thead>\n",
       "    <tr style=\"text-align: right;\">\n",
       "      <th></th>\n",
       "      <th>identifiant</th>\n",
       "      <th>ville</th>\n",
       "      <th>CP</th>\n",
       "      <th>revenu</th>\n",
       "      <th>remboursement</th>\n",
       "      <th>duree</th>\n",
       "      <th>type</th>\n",
       "      <th>taux</th>\n",
       "    </tr>\n",
       "  </thead>\n",
       "  <tbody>\n",
       "    <tr>\n",
       "      <th>0</th>\n",
       "      <td>0</td>\n",
       "      <td>TOULOUSE</td>\n",
       "      <td>31100</td>\n",
       "      <td>3669.0</td>\n",
       "      <td>1130.05</td>\n",
       "      <td>240</td>\n",
       "      <td>immobilier</td>\n",
       "      <td>1.168</td>\n",
       "    </tr>\n",
       "    <tr>\n",
       "      <th>1</th>\n",
       "      <td>1</td>\n",
       "      <td>PARIS</td>\n",
       "      <td>75009</td>\n",
       "      <td>5310.0</td>\n",
       "      <td>240.00</td>\n",
       "      <td>64</td>\n",
       "      <td>automobile</td>\n",
       "      <td>3.701</td>\n",
       "    </tr>\n",
       "    <tr>\n",
       "      <th>2</th>\n",
       "      <td>1</td>\n",
       "      <td>PARIS</td>\n",
       "      <td>75009</td>\n",
       "      <td>5310.0</td>\n",
       "      <td>1247.85</td>\n",
       "      <td>300</td>\n",
       "      <td>immobilier</td>\n",
       "      <td>1.173</td>\n",
       "    </tr>\n",
       "    <tr>\n",
       "      <th>3</th>\n",
       "      <td>2</td>\n",
       "      <td>MARSEILLE</td>\n",
       "      <td>13010</td>\n",
       "      <td>1873.0</td>\n",
       "      <td>552.54</td>\n",
       "      <td>240</td>\n",
       "      <td>immobilier</td>\n",
       "      <td>0.972</td>\n",
       "    </tr>\n",
       "    <tr>\n",
       "      <th>4</th>\n",
       "      <td>3</td>\n",
       "      <td>MARSEILLE</td>\n",
       "      <td>13010</td>\n",
       "      <td>1684.0</td>\n",
       "      <td>586.03</td>\n",
       "      <td>180</td>\n",
       "      <td>immobilier</td>\n",
       "      <td>1.014</td>\n",
       "    </tr>\n",
       "  </tbody>\n",
       "</table>\n",
       "</div>"
      ],
      "text/plain": [
       "   identifiant      ville     CP  revenu  remboursement  duree        type  \\\n",
       "0            0   TOULOUSE  31100  3669.0        1130.05    240  immobilier   \n",
       "1            1      PARIS  75009  5310.0         240.00     64  automobile   \n",
       "2            1      PARIS  75009  5310.0        1247.85    300  immobilier   \n",
       "3            2  MARSEILLE  13010  1873.0         552.54    240  immobilier   \n",
       "4            3  MARSEILLE  13010  1684.0         586.03    180  immobilier   \n",
       "\n",
       "    taux  \n",
       "0  1.168  \n",
       "1  3.701  \n",
       "2  1.173  \n",
       "3  0.972  \n",
       "4  1.014  "
      ]
     },
     "execution_count": 110,
     "metadata": {},
     "output_type": "execute_result"
    }
   ],
   "source": [
    "prets = pd.read_csv(\"prets.csv\")\n",
    "prets.head()"
   ]
  },
  {
   "cell_type": "code",
   "execution_count": 111,
   "id": "4db8e8ed",
   "metadata": {},
   "outputs": [],
   "source": [
    "# calacul du taux d'endettement\n",
    "\n",
    "prets['taux_endettement'] = round(prets['remboursement'] * 100 / prets['revenu'], 2)"
   ]
  },
  {
   "cell_type": "code",
   "execution_count": 112,
   "id": "0c0313bd",
   "metadata": {},
   "outputs": [],
   "source": [
    "# renommer taux en taux_interet\n",
    "\n",
    "prets.rename(columns={'taux':'taux_interet'}, inplace=True)"
   ]
  },
  {
   "cell_type": "code",
   "execution_count": 113,
   "id": "cee6b06f",
   "metadata": {},
   "outputs": [],
   "source": [
    "# calculer le cout total du pret\n",
    "\n",
    "prets['cout_total'] = prets['remboursement'] * prets['duree']"
   ]
  },
  {
   "cell_type": "code",
   "execution_count": 114,
   "id": "8eff2c1d",
   "metadata": {},
   "outputs": [],
   "source": [
    "# calculer les bénéfices mensuels réalisés\n",
    "\n",
    "prets['benefices'] = round((prets['cout_total'] * prets['taux_interet']/100)/(24), 2)"
   ]
  },
  {
   "cell_type": "code",
   "execution_count": 115,
   "id": "9e044847",
   "metadata": {},
   "outputs": [
    {
     "data": {
      "text/html": [
       "<div>\n",
       "<style scoped>\n",
       "    .dataframe tbody tr th:only-of-type {\n",
       "        vertical-align: middle;\n",
       "    }\n",
       "\n",
       "    .dataframe tbody tr th {\n",
       "        vertical-align: top;\n",
       "    }\n",
       "\n",
       "    .dataframe thead th {\n",
       "        text-align: right;\n",
       "    }\n",
       "</style>\n",
       "<table border=\"1\" class=\"dataframe\">\n",
       "  <thead>\n",
       "    <tr style=\"text-align: right;\">\n",
       "      <th></th>\n",
       "      <th>identifiant</th>\n",
       "      <th>ville</th>\n",
       "      <th>CP</th>\n",
       "      <th>revenu</th>\n",
       "      <th>remboursement</th>\n",
       "      <th>duree</th>\n",
       "      <th>type</th>\n",
       "      <th>taux_interet</th>\n",
       "      <th>taux_endettement</th>\n",
       "      <th>cout_total</th>\n",
       "      <th>benefices</th>\n",
       "    </tr>\n",
       "  </thead>\n",
       "  <tbody>\n",
       "    <tr>\n",
       "      <th>0</th>\n",
       "      <td>0</td>\n",
       "      <td>TOULOUSE</td>\n",
       "      <td>31100</td>\n",
       "      <td>3669.0</td>\n",
       "      <td>1130.05</td>\n",
       "      <td>240</td>\n",
       "      <td>immobilier</td>\n",
       "      <td>1.168</td>\n",
       "      <td>30.80</td>\n",
       "      <td>271212.0</td>\n",
       "      <td>131.99</td>\n",
       "    </tr>\n",
       "    <tr>\n",
       "      <th>1</th>\n",
       "      <td>1</td>\n",
       "      <td>PARIS</td>\n",
       "      <td>75009</td>\n",
       "      <td>5310.0</td>\n",
       "      <td>240.00</td>\n",
       "      <td>64</td>\n",
       "      <td>automobile</td>\n",
       "      <td>3.701</td>\n",
       "      <td>4.52</td>\n",
       "      <td>15360.0</td>\n",
       "      <td>23.69</td>\n",
       "    </tr>\n",
       "    <tr>\n",
       "      <th>2</th>\n",
       "      <td>1</td>\n",
       "      <td>PARIS</td>\n",
       "      <td>75009</td>\n",
       "      <td>5310.0</td>\n",
       "      <td>1247.85</td>\n",
       "      <td>300</td>\n",
       "      <td>immobilier</td>\n",
       "      <td>1.173</td>\n",
       "      <td>23.50</td>\n",
       "      <td>374355.0</td>\n",
       "      <td>182.97</td>\n",
       "    </tr>\n",
       "    <tr>\n",
       "      <th>3</th>\n",
       "      <td>2</td>\n",
       "      <td>MARSEILLE</td>\n",
       "      <td>13010</td>\n",
       "      <td>1873.0</td>\n",
       "      <td>552.54</td>\n",
       "      <td>240</td>\n",
       "      <td>immobilier</td>\n",
       "      <td>0.972</td>\n",
       "      <td>29.50</td>\n",
       "      <td>132609.6</td>\n",
       "      <td>53.71</td>\n",
       "    </tr>\n",
       "    <tr>\n",
       "      <th>4</th>\n",
       "      <td>3</td>\n",
       "      <td>MARSEILLE</td>\n",
       "      <td>13010</td>\n",
       "      <td>1684.0</td>\n",
       "      <td>586.03</td>\n",
       "      <td>180</td>\n",
       "      <td>immobilier</td>\n",
       "      <td>1.014</td>\n",
       "      <td>34.80</td>\n",
       "      <td>105485.4</td>\n",
       "      <td>44.57</td>\n",
       "    </tr>\n",
       "  </tbody>\n",
       "</table>\n",
       "</div>"
      ],
      "text/plain": [
       "   identifiant      ville     CP  revenu  remboursement  duree        type  \\\n",
       "0            0   TOULOUSE  31100  3669.0        1130.05    240  immobilier   \n",
       "1            1      PARIS  75009  5310.0         240.00     64  automobile   \n",
       "2            1      PARIS  75009  5310.0        1247.85    300  immobilier   \n",
       "3            2  MARSEILLE  13010  1873.0         552.54    240  immobilier   \n",
       "4            3  MARSEILLE  13010  1684.0         586.03    180  immobilier   \n",
       "\n",
       "   taux_interet  taux_endettement  cout_total  benefices  \n",
       "0         1.168             30.80    271212.0     131.99  \n",
       "1         3.701              4.52     15360.0      23.69  \n",
       "2         1.173             23.50    374355.0     182.97  \n",
       "3         0.972             29.50    132609.6      53.71  \n",
       "4         1.014             34.80    105485.4      44.57  "
      ]
     },
     "execution_count": 115,
     "metadata": {},
     "output_type": "execute_result"
    }
   ],
   "source": [
    "prets.head()"
   ]
  },
  {
   "cell_type": "code",
   "execution_count": 116,
   "id": "e84b4fc1",
   "metadata": {},
   "outputs": [
    {
     "name": "stdout",
     "output_type": "stream",
     "text": [
      "Il y a 58 clients qui ont dépassé le seuil autorisé\n"
     ]
    }
   ],
   "source": [
    "# Le taux d'endettement autorisé est de 35 %. Pourriez-vous me communiquer le nombre de personnes ayant\n",
    "# dépassé ce seuil ? Vous pouvez stocker la liste dans une variable appelée `clients_risque`.\n",
    "\n",
    "\n",
    "nombre_client_risque = prets.loc[prets['taux_endettement'] > 35, :].shape[0]\n",
    "print('Il y a', nombre_client_risque, 'clients qui ont dépassé le seuil autorisé')\n",
    "\n",
    "# Pour expliquer rapidement cette ligne de code :\n",
    "# Dans un premier temps, nous utilisons la fonction `.loc` pour sélectionner l'ensemble des lignes \n",
    "# dont le taux d'endettement est supérieur à 35 %.\n",
    "# Ensuite, nous utilisons la méthode `.shape` pour calculer le nombre de clients concernés."
   ]
  },
  {
   "cell_type": "code",
   "execution_count": 117,
   "id": "6a13fa91",
   "metadata": {},
   "outputs": [
    {
     "name": "stdout",
     "output_type": "stream",
     "text": [
      "il y a 16 clients qui ont depassé le seuil autorisé a l'agenge parisienne\n"
     ]
    }
   ],
   "source": [
    "# Même question, mais cette fois ci uniquement sur l’agence Parisienne\n",
    "\n",
    "nombre_client_risque = prets.loc[(prets['taux_endettement'] > 35) & (prets['ville'] == 'PARIS'),:].shape[0]\n",
    "print('il y a', nombre_client_risque, \"clients qui ont depassé le seuil autorisé a l'agenge parisienne\")"
   ]
  },
  {
   "cell_type": "code",
   "execution_count": 118,
   "id": "66345e31",
   "metadata": {},
   "outputs": [],
   "source": [
    "# Pour faciliter le traitement d’éventuelles futures demandes de prêts, pourriez-vous ajouter une variable nommée \n",
    "# `risque` qui aurait pour valeur \"Oui\" si le client est risqué (taux d’endettement > 35 %), et \"Non\" sinon. Pour ce faire, \n",
    "# je vous conseille de créer la variable `risque` en l'initialisant à \"Non\" (ou \"Oui\", selon votre préférence), \n",
    "# puis de ne modifier que les lignes concernées par la valeur inverse.\n",
    "\n",
    "prets['risque'] = 'non'\n",
    "prets.loc[prets['taux_endettement'] > 35, 'risque'] = 'oui'"
   ]
  },
  {
   "cell_type": "code",
   "execution_count": 119,
   "id": "70e2e2c2",
   "metadata": {},
   "outputs": [
    {
     "name": "stdout",
     "output_type": "stream",
     "text": [
      "nous avons accordé 16 prets automobile dont le prix moyen est de 13665.0 €\n"
     ]
    }
   ],
   "source": [
    "# Combien de prêts automobiles ont été accordés ? Quel est le coût total moyen de ces derniers ?\n",
    "\n",
    "prets_auto = prets.loc[prets['type'] == 'automobile', :]\n",
    "print('nous avons accordé', prets_auto.shape[0], 'prets automobile dont le prix moyen est de', prets_auto['cout_total'].mean(), '€')\n",
    "\n",
    "\n",
    "# Pour expliquer rapidement ces lignes de code :\n",
    "# Nous opérons une sélection sur les prêts de type automobile. Le résultat de cette sélection est stocké \n",
    "# dans un DataFrame nommé `prets_auto`.\n",
    "# Nous utilisons ensuite la méthode `.shape`, comme précédemment, pour déterminer le nombre de prêts concernés.\n",
    "# Nous calculons ensuite la moyenne de la variable `cout_total` dans ce DataFrame nouvellement créé."
   ]
  },
  {
   "cell_type": "code",
   "execution_count": 120,
   "id": "b723727f",
   "metadata": {},
   "outputs": [
    {
     "data": {
      "text/plain": [
       "2138.0699999999997"
      ]
     },
     "execution_count": 120,
     "metadata": {},
     "output_type": "execute_result"
    }
   ],
   "source": [
    "# Quel est le bénéfice mensuel total réalisé par l’agence Toulousaine ?\n",
    "\n",
    "prets.loc[prets['ville'] == 'TOULOUSE','benefices'].sum()"
   ]
  },
  {
   "cell_type": "code",
   "execution_count": 121,
   "id": "545d6d15",
   "metadata": {},
   "outputs": [
    {
     "data": {
      "text/html": [
       "<div>\n",
       "<style scoped>\n",
       "    .dataframe tbody tr th:only-of-type {\n",
       "        vertical-align: middle;\n",
       "    }\n",
       "\n",
       "    .dataframe tbody tr th {\n",
       "        vertical-align: top;\n",
       "    }\n",
       "\n",
       "    .dataframe thead th {\n",
       "        text-align: right;\n",
       "    }\n",
       "</style>\n",
       "<table border=\"1\" class=\"dataframe\">\n",
       "  <thead>\n",
       "    <tr style=\"text-align: right;\">\n",
       "      <th></th>\n",
       "      <th>identifiant</th>\n",
       "      <th>ville</th>\n",
       "      <th>CP</th>\n",
       "      <th>revenu</th>\n",
       "      <th>remboursement</th>\n",
       "      <th>duree</th>\n",
       "      <th>type</th>\n",
       "      <th>taux_interet</th>\n",
       "      <th>taux_endettement</th>\n",
       "      <th>cout_total</th>\n",
       "      <th>benefices</th>\n",
       "      <th>risque</th>\n",
       "    </tr>\n",
       "  </thead>\n",
       "  <tbody>\n",
       "    <tr>\n",
       "      <th>0</th>\n",
       "      <td>0</td>\n",
       "      <td>TOULOUSE</td>\n",
       "      <td>31100</td>\n",
       "      <td>3669.0</td>\n",
       "      <td>1130.05</td>\n",
       "      <td>240</td>\n",
       "      <td>immobilier</td>\n",
       "      <td>1.168</td>\n",
       "      <td>30.80</td>\n",
       "      <td>271212.0</td>\n",
       "      <td>131.99</td>\n",
       "      <td>non</td>\n",
       "    </tr>\n",
       "    <tr>\n",
       "      <th>1</th>\n",
       "      <td>1</td>\n",
       "      <td>PARIS</td>\n",
       "      <td>75009</td>\n",
       "      <td>5310.0</td>\n",
       "      <td>240.00</td>\n",
       "      <td>64</td>\n",
       "      <td>automobile</td>\n",
       "      <td>3.701</td>\n",
       "      <td>4.52</td>\n",
       "      <td>15360.0</td>\n",
       "      <td>23.69</td>\n",
       "      <td>non</td>\n",
       "    </tr>\n",
       "    <tr>\n",
       "      <th>2</th>\n",
       "      <td>1</td>\n",
       "      <td>PARIS</td>\n",
       "      <td>75009</td>\n",
       "      <td>5310.0</td>\n",
       "      <td>1247.85</td>\n",
       "      <td>300</td>\n",
       "      <td>immobilier</td>\n",
       "      <td>1.173</td>\n",
       "      <td>23.50</td>\n",
       "      <td>374355.0</td>\n",
       "      <td>182.97</td>\n",
       "      <td>non</td>\n",
       "    </tr>\n",
       "    <tr>\n",
       "      <th>3</th>\n",
       "      <td>2</td>\n",
       "      <td>MARSEILLE</td>\n",
       "      <td>13010</td>\n",
       "      <td>1873.0</td>\n",
       "      <td>552.54</td>\n",
       "      <td>240</td>\n",
       "      <td>immobilier</td>\n",
       "      <td>0.972</td>\n",
       "      <td>29.50</td>\n",
       "      <td>132609.6</td>\n",
       "      <td>53.71</td>\n",
       "      <td>non</td>\n",
       "    </tr>\n",
       "    <tr>\n",
       "      <th>4</th>\n",
       "      <td>3</td>\n",
       "      <td>MARSEILLE</td>\n",
       "      <td>13010</td>\n",
       "      <td>1684.0</td>\n",
       "      <td>586.03</td>\n",
       "      <td>180</td>\n",
       "      <td>immobilier</td>\n",
       "      <td>1.014</td>\n",
       "      <td>34.80</td>\n",
       "      <td>105485.4</td>\n",
       "      <td>44.57</td>\n",
       "      <td>non</td>\n",
       "    </tr>\n",
       "  </tbody>\n",
       "</table>\n",
       "</div>"
      ],
      "text/plain": [
       "   identifiant      ville     CP  revenu  remboursement  duree        type  \\\n",
       "0            0   TOULOUSE  31100  3669.0        1130.05    240  immobilier   \n",
       "1            1      PARIS  75009  5310.0         240.00     64  automobile   \n",
       "2            1      PARIS  75009  5310.0        1247.85    300  immobilier   \n",
       "3            2  MARSEILLE  13010  1873.0         552.54    240  immobilier   \n",
       "4            3  MARSEILLE  13010  1684.0         586.03    180  immobilier   \n",
       "\n",
       "   taux_interet  taux_endettement  cout_total  benefices risque  \n",
       "0         1.168             30.80    271212.0     131.99    non  \n",
       "1         3.701              4.52     15360.0      23.69    non  \n",
       "2         1.173             23.50    374355.0     182.97    non  \n",
       "3         0.972             29.50    132609.6      53.71    non  \n",
       "4         1.014             34.80    105485.4      44.57    non  "
      ]
     },
     "execution_count": 121,
     "metadata": {},
     "output_type": "execute_result"
    }
   ],
   "source": [
    "prets.head()"
   ]
  },
  {
   "cell_type": "code",
   "execution_count": 122,
   "id": "7980305d",
   "metadata": {},
   "outputs": [
    {
     "data": {
      "text/html": [
       "<div>\n",
       "<style scoped>\n",
       "    .dataframe tbody tr th:only-of-type {\n",
       "        vertical-align: middle;\n",
       "    }\n",
       "\n",
       "    .dataframe tbody tr th {\n",
       "        vertical-align: top;\n",
       "    }\n",
       "\n",
       "    .dataframe thead th {\n",
       "        text-align: right;\n",
       "    }\n",
       "</style>\n",
       "<table border=\"1\" class=\"dataframe\">\n",
       "  <thead>\n",
       "    <tr style=\"text-align: right;\">\n",
       "      <th></th>\n",
       "      <th>identifiant</th>\n",
       "      <th>remboursement</th>\n",
       "      <th>taux_endettement</th>\n",
       "      <th>cout_total</th>\n",
       "      <th>benefices</th>\n",
       "    </tr>\n",
       "  </thead>\n",
       "  <tbody>\n",
       "    <tr>\n",
       "      <th>0</th>\n",
       "      <td>0</td>\n",
       "      <td>1130.05</td>\n",
       "      <td>30.80</td>\n",
       "      <td>271212.0</td>\n",
       "      <td>131.99</td>\n",
       "    </tr>\n",
       "    <tr>\n",
       "      <th>1</th>\n",
       "      <td>1</td>\n",
       "      <td>1487.85</td>\n",
       "      <td>28.02</td>\n",
       "      <td>389715.0</td>\n",
       "      <td>206.66</td>\n",
       "    </tr>\n",
       "    <tr>\n",
       "      <th>2</th>\n",
       "      <td>2</td>\n",
       "      <td>552.54</td>\n",
       "      <td>29.50</td>\n",
       "      <td>132609.6</td>\n",
       "      <td>53.71</td>\n",
       "    </tr>\n",
       "    <tr>\n",
       "      <th>3</th>\n",
       "      <td>3</td>\n",
       "      <td>586.03</td>\n",
       "      <td>34.80</td>\n",
       "      <td>105485.4</td>\n",
       "      <td>44.57</td>\n",
       "    </tr>\n",
       "    <tr>\n",
       "      <th>4</th>\n",
       "      <td>4</td>\n",
       "      <td>423.61</td>\n",
       "      <td>28.70</td>\n",
       "      <td>101666.4</td>\n",
       "      <td>51.21</td>\n",
       "    </tr>\n",
       "  </tbody>\n",
       "</table>\n",
       "</div>"
      ],
      "text/plain": [
       "   identifiant  remboursement  taux_endettement  cout_total  benefices\n",
       "0            0        1130.05             30.80    271212.0     131.99\n",
       "1            1        1487.85             28.02    389715.0     206.66\n",
       "2            2         552.54             29.50    132609.6      53.71\n",
       "3            3         586.03             34.80    105485.4      44.57\n",
       "4            4         423.61             28.70    101666.4      51.21"
      ]
     },
     "execution_count": 122,
     "metadata": {},
     "output_type": "execute_result"
    }
   ],
   "source": [
    "# Pourriez vous créez un dataframe profil client pour pallier ce problème ?\n",
    "# Par profil client, nous entendons un dataframe où il y n'y a qu'une seule ligne par client, avec le résumé de \n",
    "# ses informations (somme remboursement, du taux d'endettement, du cout_total et des bénéfices réalisés)\n",
    "\n",
    "profil_clients = prets.groupby('identifiant')[['remboursement','taux_endettement','cout_total','benefices']].sum()\n",
    "profil_clients.reset_index(inplace=True)\n",
    "profil_clients.head()"
   ]
  },
  {
   "cell_type": "code",
   "execution_count": 123,
   "id": "c6866863",
   "metadata": {},
   "outputs": [
    {
     "name": "stdout",
     "output_type": "stream",
     "text": [
      "Il y a 62 clients qui ont dépassé le seuil autorisé\n"
     ]
    }
   ],
   "source": [
    "# Recalculez le nombre exact de personnes en situation bancaire risquée à partir du taux d'endettemment :\n",
    "\n",
    "nombre_client_risque = profil_clients.loc[profil_clients['taux_endettement'] > 35, :].shape[0]\n",
    "print('Il y a',nombre_client_risque , 'clients qui ont dépassé le seuil autorisé')"
   ]
  },
  {
   "cell_type": "code",
   "execution_count": 124,
   "id": "9d149d5f",
   "metadata": {},
   "outputs": [
    {
     "data": {
      "text/plain": [
       "ville      type      \n",
       "BORDEAUX   immobilier    1681.32\n",
       "LYON       automobile      47.39\n",
       "           immobilier    2967.41\n",
       "MARSEILLE  automobile      61.36\n",
       "           immobilier    4334.55\n",
       "NICE       automobile      31.15\n",
       "           immobilier    2651.60\n",
       "PARIS      automobile      99.50\n",
       "           immobilier    9916.85\n",
       "TOULOUSE   automobile      61.22\n",
       "           immobilier    2076.85\n",
       "Name: benefices, dtype: float64"
      ]
     },
     "execution_count": 124,
     "metadata": {},
     "output_type": "execute_result"
    }
   ],
   "source": [
    "# Calculez le bénéfice dégagé par chacune de nos agences, par types de prêts. Vous présenterez vos résultats sous\n",
    "# la forme d'un tableau simple (via un group_by) :\n",
    "\n",
    "prets.groupby(['ville', 'type']) ['benefices'].sum()"
   ]
  },
  {
   "cell_type": "code",
   "execution_count": 126,
   "id": "638b5457",
   "metadata": {},
   "outputs": [
    {
     "data": {
      "text/html": [
       "<div>\n",
       "<style scoped>\n",
       "    .dataframe tbody tr th:only-of-type {\n",
       "        vertical-align: middle;\n",
       "    }\n",
       "\n",
       "    .dataframe tbody tr th {\n",
       "        vertical-align: top;\n",
       "    }\n",
       "\n",
       "    .dataframe thead th {\n",
       "        text-align: right;\n",
       "    }\n",
       "</style>\n",
       "<table border=\"1\" class=\"dataframe\">\n",
       "  <thead>\n",
       "    <tr style=\"text-align: right;\">\n",
       "      <th>type</th>\n",
       "      <th>ville</th>\n",
       "      <th>automobile</th>\n",
       "      <th>immobilier</th>\n",
       "    </tr>\n",
       "  </thead>\n",
       "  <tbody>\n",
       "    <tr>\n",
       "      <th>0</th>\n",
       "      <td>BORDEAUX</td>\n",
       "      <td>NaN</td>\n",
       "      <td>105.082500</td>\n",
       "    </tr>\n",
       "    <tr>\n",
       "      <th>1</th>\n",
       "      <td>LYON</td>\n",
       "      <td>15.796667</td>\n",
       "      <td>118.696400</td>\n",
       "    </tr>\n",
       "    <tr>\n",
       "      <th>2</th>\n",
       "      <td>MARSEILLE</td>\n",
       "      <td>20.453333</td>\n",
       "      <td>60.202083</td>\n",
       "    </tr>\n",
       "    <tr>\n",
       "      <th>3</th>\n",
       "      <td>NICE</td>\n",
       "      <td>15.575000</td>\n",
       "      <td>139.557895</td>\n",
       "    </tr>\n",
       "    <tr>\n",
       "      <th>4</th>\n",
       "      <td>PARIS</td>\n",
       "      <td>19.900000</td>\n",
       "      <td>137.734028</td>\n",
       "    </tr>\n",
       "    <tr>\n",
       "      <th>5</th>\n",
       "      <td>TOULOUSE</td>\n",
       "      <td>20.406667</td>\n",
       "      <td>86.535417</td>\n",
       "    </tr>\n",
       "  </tbody>\n",
       "</table>\n",
       "</div>"
      ],
      "text/plain": [
       "type      ville  automobile  immobilier\n",
       "0      BORDEAUX         NaN  105.082500\n",
       "1          LYON   15.796667  118.696400\n",
       "2     MARSEILLE   20.453333   60.202083\n",
       "3          NICE   15.575000  139.557895\n",
       "4         PARIS   19.900000  137.734028\n",
       "5      TOULOUSE   20.406667   86.535417"
      ]
     },
     "execution_count": 126,
     "metadata": {},
     "output_type": "execute_result"
    }
   ],
   "source": [
    "# Pour aller plus loin, on souhaite avoir un tableau à double entrée (via un pivot_table) présentant cette fois ci \n",
    "# les bénéfices moyen réalisés par chaque agence, pour chaque type de prêt :\n",
    "\n",
    "prets = prets.pivot_table(index='ville', columns='type', values='benefices', aggfunc='mean')\n",
    "prets = prets.reset_index()\n",
    "prets\n",
    "\n",
    "# Quelle ville semble la plus intéressante où développer les prêts immobiliers ?\n",
    "# La ville de Nice (ou Paris dans une moindre mesure). C'est là où la marge réalisée est la plus élevée sur les prêts \n",
    "# immobiliers."
   ]
  },
  {
   "cell_type": "code",
   "execution_count": null,
   "id": "2660cf3a",
   "metadata": {},
   "outputs": [],
   "source": [
    "# variable data frame = dataframe.drop(columns='id')    exemple comment suprimer une colonne"
   ]
  }
 ],
 "metadata": {
  "kernelspec": {
   "display_name": "Python 3 (ipykernel)",
   "language": "python",
   "name": "python3"
  },
  "language_info": {
   "codemirror_mode": {
    "name": "ipython",
    "version": 3
   },
   "file_extension": ".py",
   "mimetype": "text/x-python",
   "name": "python",
   "nbconvert_exporter": "python",
   "pygments_lexer": "ipython3",
   "version": "3.9.13"
  }
 },
 "nbformat": 4,
 "nbformat_minor": 5
}
