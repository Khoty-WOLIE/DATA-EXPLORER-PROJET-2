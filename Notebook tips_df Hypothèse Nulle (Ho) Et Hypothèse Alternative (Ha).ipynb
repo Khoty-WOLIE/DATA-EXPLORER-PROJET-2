{
 "cells": [
  {
   "cell_type": "markdown",
   "id": "7ff1da9c",
   "metadata": {},
   "source": [
    "## HYPOTHESE NULLE (Ho) ET HYPOTHESE ALTERNATIVE (Ha)"
   ]
  },
  {
   "cell_type": "markdown",
   "id": "e8fc6a39",
   "metadata": {},
   "source": [
    "Le but du test d'hypothèse est de répondre à la question: «Compte tenu d'un échantillon et d'un effet apparent, quelle est la probabilité de voir un tel effet par hasard ?»\n",
    "\n",
    "- La première étape consiste à quantifier la taille de l'effet apparent en choisissant une statistique de test. Rappelons qu'une statistique de test est un nombre unique qui peut être calculé à partir des données observées mais à partir des données simulées sous l'hypothèse nulle. La statistique de test peut être n'importe quel paramètre statistique (moyenne, médiane, etc).\n",
    "- L'étape suivante consiste à définir une hypothèse nulle (Ho) et une hypothèse alternative (Ha). L'hypothèse nulle est un modèle du système basé sur l'hypothèse que l'effet apparent n'est pas réel. Concrètement et de manière pratique, l'hypothèse nulle est l'affirmation qui n'est pas intéressante. L'hypothèse alternative est l'affirmation correspondante à l'hypothèse de recherche. Presque toujours le but est de réfuter l'hypothèse nulle et donc d'accepter que l'hypothèse alternative est vraie. Voici deux exemples pour vous aider à comprendre Ho et Ha.\n",
    "\n",
    "##### Exemple 1 :\n",
    "\n",
    "Une société biotechnologique tente de faire valider son nouveau vaccin A contre la grippe par l'OMS. Actuellement la plupart des médecins prescrivent le vaccin B contre la grippe. Pour cette situation, l'hypothèse nulle est : \"le vaccin A a la même efficacité que le vaccin B pour prévenir la grippe\" et l'hypothèse alternative est : \"le vaccin A est plus efficace que le vaccin B pour prévenir la grippe\".\n",
    "\n",
    "##### Exemple 2:\n",
    "\n",
    "Vous menez une étude sur la santé des habitants d'une ville et vous avez à votre disposition un échantillon de données de deux variables : le tour de taille en cm et le poids en Kg. Vous calculez le coefficient de corrélation de Pearson et le résultat indique qu'il y a une forte corrélation entre le tour de taille et le poids. Est-ce que cette corrélation est réelle ou est-ce qu'elle aurait pu se produire par hasard ? Dans ce cas, l'hypothèse nulle de votre test statistique sera : \"il n'y a pas de corrélation entre le tour de taille et le poids\" et l'hypothèse alternative sera : \"il existe une corrélation entre le tour de taille et le poids\".\n",
    "- La dernière étape est de calculer la p-valeur, qui est la probabilité que l'hypothèse nulle soit vraie, et interprétez le résultat, si la p-valeur est faible, l'effet apparent observé est dit statistiquement significatif, ce qui signifie que vous rejetez l'hypothèse nulle et acceptez donc l'hypothèse alternative. Traditionnellement, on rejette l'hypothèse nulle lorsque p-valeur est inférieur à 0,05 (seuil de 5%). Ce seuil de 5% est subjectif mais pas dénudé de sens. L'explication de ce seuil n'est pas l'objectif de cette formation.\n",
    "\n"
   ]
  },
  {
   "cell_type": "markdown",
   "id": "46f49710",
   "metadata": {},
   "source": [
    "## QUELQUES TESTS STATISTIQUES"
   ]
  },
  {
   "cell_type": "code",
   "execution_count": 156,
   "id": "7e41632f",
   "metadata": {},
   "outputs": [],
   "source": [
    "from warnings import filterwarnings\n",
    "filterwarnings('ignore')  # code optionnel"
   ]
  },
  {
   "cell_type": "markdown",
   "id": "a13a00de",
   "metadata": {},
   "source": [
    "## Importation des outils et des données"
   ]
  },
  {
   "cell_type": "code",
   "execution_count": 189,
   "id": "55fb8eae",
   "metadata": {},
   "outputs": [],
   "source": [
    "import pandas as pd\n",
    "import numpy as np\n",
    "import matplotlib.pyplot as plt\n",
    "import seaborn as sns\n",
    "from scipy import stats\n",
    "plt.style.use('ggplot')\n",
    "\n",
    "# ?pd.pivot_table"
   ]
  },
  {
   "cell_type": "code",
   "execution_count": 158,
   "id": "77697aaf",
   "metadata": {},
   "outputs": [
    {
     "data": {
      "text/plain": [
       "['anagrams',\n",
       " 'anscombe',\n",
       " 'attention',\n",
       " 'brain_networks',\n",
       " 'car_crashes',\n",
       " 'diamonds',\n",
       " 'dots',\n",
       " 'dowjones',\n",
       " 'exercise',\n",
       " 'flights',\n",
       " 'fmri',\n",
       " 'geyser',\n",
       " 'glue',\n",
       " 'healthexp',\n",
       " 'iris',\n",
       " 'mpg',\n",
       " 'penguins',\n",
       " 'planets',\n",
       " 'seaice',\n",
       " 'taxis',\n",
       " 'tips',\n",
       " 'titanic']"
      ]
     },
     "execution_count": 158,
     "metadata": {},
     "output_type": "execute_result"
    }
   ],
   "source": [
    "sns.get_dataset_names()"
   ]
  },
  {
   "cell_type": "code",
   "execution_count": 159,
   "id": "ad4967bf",
   "metadata": {},
   "outputs": [
    {
     "data": {
      "text/html": [
       "<div>\n",
       "<style scoped>\n",
       "    .dataframe tbody tr th:only-of-type {\n",
       "        vertical-align: middle;\n",
       "    }\n",
       "\n",
       "    .dataframe tbody tr th {\n",
       "        vertical-align: top;\n",
       "    }\n",
       "\n",
       "    .dataframe thead th {\n",
       "        text-align: right;\n",
       "    }\n",
       "</style>\n",
       "<table border=\"1\" class=\"dataframe\">\n",
       "  <thead>\n",
       "    <tr style=\"text-align: right;\">\n",
       "      <th></th>\n",
       "      <th>total_bill</th>\n",
       "      <th>tip</th>\n",
       "      <th>sex</th>\n",
       "      <th>smoker</th>\n",
       "      <th>day</th>\n",
       "      <th>time</th>\n",
       "      <th>size</th>\n",
       "    </tr>\n",
       "  </thead>\n",
       "  <tbody>\n",
       "    <tr>\n",
       "      <th>0</th>\n",
       "      <td>16.99</td>\n",
       "      <td>1.01</td>\n",
       "      <td>Female</td>\n",
       "      <td>No</td>\n",
       "      <td>Sun</td>\n",
       "      <td>Dinner</td>\n",
       "      <td>2</td>\n",
       "    </tr>\n",
       "    <tr>\n",
       "      <th>1</th>\n",
       "      <td>10.34</td>\n",
       "      <td>1.66</td>\n",
       "      <td>Male</td>\n",
       "      <td>No</td>\n",
       "      <td>Sun</td>\n",
       "      <td>Dinner</td>\n",
       "      <td>3</td>\n",
       "    </tr>\n",
       "    <tr>\n",
       "      <th>2</th>\n",
       "      <td>21.01</td>\n",
       "      <td>3.50</td>\n",
       "      <td>Male</td>\n",
       "      <td>No</td>\n",
       "      <td>Sun</td>\n",
       "      <td>Dinner</td>\n",
       "      <td>3</td>\n",
       "    </tr>\n",
       "    <tr>\n",
       "      <th>3</th>\n",
       "      <td>23.68</td>\n",
       "      <td>3.31</td>\n",
       "      <td>Male</td>\n",
       "      <td>No</td>\n",
       "      <td>Sun</td>\n",
       "      <td>Dinner</td>\n",
       "      <td>2</td>\n",
       "    </tr>\n",
       "    <tr>\n",
       "      <th>4</th>\n",
       "      <td>24.59</td>\n",
       "      <td>3.61</td>\n",
       "      <td>Female</td>\n",
       "      <td>No</td>\n",
       "      <td>Sun</td>\n",
       "      <td>Dinner</td>\n",
       "      <td>4</td>\n",
       "    </tr>\n",
       "  </tbody>\n",
       "</table>\n",
       "</div>"
      ],
      "text/plain": [
       "   total_bill   tip     sex smoker  day    time  size\n",
       "0       16.99  1.01  Female     No  Sun  Dinner     2\n",
       "1       10.34  1.66    Male     No  Sun  Dinner     3\n",
       "2       21.01  3.50    Male     No  Sun  Dinner     3\n",
       "3       23.68  3.31    Male     No  Sun  Dinner     2\n",
       "4       24.59  3.61  Female     No  Sun  Dinner     4"
      ]
     },
     "execution_count": 159,
     "metadata": {},
     "output_type": "execute_result"
    }
   ],
   "source": [
    "tips_df = sns.load_dataset('tips')\n",
    "tips_df.head()"
   ]
  },
  {
   "cell_type": "code",
   "execution_count": 160,
   "id": "93c38396",
   "metadata": {},
   "outputs": [
    {
     "name": "stdout",
     "output_type": "stream",
     "text": [
      "<class 'pandas.core.frame.DataFrame'>\n",
      "RangeIndex: 244 entries, 0 to 243\n",
      "Data columns (total 7 columns):\n",
      " #   Column      Non-Null Count  Dtype   \n",
      "---  ------      --------------  -----   \n",
      " 0   total_bill  244 non-null    float64 \n",
      " 1   tip         244 non-null    float64 \n",
      " 2   sex         244 non-null    category\n",
      " 3   smoker      244 non-null    category\n",
      " 4   day         244 non-null    category\n",
      " 5   time        244 non-null    category\n",
      " 6   size        244 non-null    int64   \n",
      "dtypes: category(4), float64(2), int64(1)\n",
      "memory usage: 7.4 KB\n"
     ]
    }
   ],
   "source": [
    "tips_df.info() "
   ]
  },
  {
   "cell_type": "markdown",
   "id": "7a407cd5",
   "metadata": {},
   "source": [
    "## La couleur affecte-t-il le prix des dimants ?"
   ]
  },
  {
   "cell_type": "code",
   "execution_count": 161,
   "id": "7feda687",
   "metadata": {},
   "outputs": [
    {
     "data": {
      "image/png": "[encoded data removed]",
      "text/plain": [
       "<Figure size 1000x500 with 1 Axes>"
      ]
     },
     "metadata": {},
     "output_type": "display_data"
    }
   ],
   "source": [
    "# Visualisation des pourboires en fonction du genre (Tip = pourboire)\n",
    "\n",
    "plt.figure(figsize=(10,5))\n",
    "\n",
    "sns.boxplot( x = 'sex', y = 'tip', data = tips_df)\n",
    "plt.xlabel('genre')\n",
    "plt.ylabel('pourboires')\n",
    "plt.title(\"evaluation du pourboire selon le genre\")\n",
    "plt.show()\n",
    "\n",
    "# Selon ce graphique les hommes donnent beaucoup de pourboire que les femmes "
   ]
  },
  {
   "cell_type": "code",
   "execution_count": 162,
   "id": "c4e899d7",
   "metadata": {},
   "outputs": [
    {
     "data": {
      "image/png": "[encoded data removed]",
      "text/plain": [
       "<Figure size 640x480 with 1 Axes>"
      ]
     },
     "metadata": {},
     "output_type": "display_data"
    }
   ],
   "source": [
    "# Histogramme de la viariable \"Price\"\n",
    "\n",
    "sns.distplot(tips_df['tip'], kde=False);\n",
    "\n",
    "# l'histogramme nous montre que la distribution est asymétrie posiitive et étalé vers la droite\n",
    "# cette distribution ne suit probablement pas une loi normal, nous allons la verifier avec les célèbres test de Normalité"
   ]
  },
  {
   "cell_type": "markdown",
   "id": "794f0a84",
   "metadata": {},
   "source": [
    "L'hypothese nulle c'est l'hypothese qui n'est pas interessante. Ici mon hypothese nulle est qu'il n'y a aucun lien entre les pourboire et le genre des clients.\n",
    "L'hypothese alternative serait qu'il y a un lien entre les pourboire et le genre des clients."
   ]
  },
  {
   "cell_type": "markdown",
   "id": "79168b67",
   "metadata": {},
   "source": [
    "## Test de correlation parametrique"
   ]
  },
  {
   "cell_type": "code",
   "execution_count": 163,
   "id": "9b612afd",
   "metadata": {},
   "outputs": [
    {
     "data": {
      "text/plain": [
       "Jarque_beraResult(statistic=214.3543468872759, pvalue=0.0)"
      ]
     },
     "execution_count": 163,
     "metadata": {},
     "output_type": "execute_result"
    }
   ],
   "source": [
    "# Test de Normalité de Jarque-Bera\n",
    "\n",
    "stats.jarque_bera(tips_df['tip'])\n",
    "\n",
    "# La statistique de Jarque-Bera est de 214.35 et la pvalue=0.0, pvalue < 0.05 . Selon le test de Jarque-Bera \n",
    "# la distibution des pourboire(tip) ne suit pas une loi normal"
   ]
  },
  {
   "cell_type": "code",
   "execution_count": 164,
   "id": "7ab9c39f",
   "metadata": {},
   "outputs": [
    {
     "data": {
      "text/plain": [
       "ShapiroResult(statistic=0.8978114128112793, pvalue=8.200817629144819e-12)"
      ]
     },
     "execution_count": 164,
     "metadata": {},
     "output_type": "execute_result"
    }
   ],
   "source": [
    "# Test de Normalité de Shapiro-Wilk\n",
    "\n",
    "stats.shapiro(tips_df['tip'])\n",
    "\n",
    "# il n'y a pas de grande difference avec le test de Jarque-Bera "
   ]
  },
  {
   "cell_type": "code",
   "execution_count": 165,
   "id": "a02260db",
   "metadata": {},
   "outputs": [
    {
     "data": {
      "text/plain": [
       "LeveneResult(statistic=2.357211366999719, pvalue=0.1260112815339025)"
      ]
     },
     "execution_count": 165,
     "metadata": {},
     "output_type": "execute_result"
    }
   ],
   "source": [
    "# Test d'egalité des Variances \n",
    "   # On va verifier si les variances des deux groupes sont egales c'est a dire hommes et femmes\n",
    "    \n",
    "stats.levene(tips_df[tips_df.sex == 'Female']['tip'], tips_df[tips_df.sex == 'Male']['tip'], center = 'mean')\n",
    "\n",
    "# La Pvaleur > 0.05 donc nous ne pouvons pas rejeter l'hypothese nulle des pourboire des hommes et des femmes est égale "
   ]
  },
  {
   "cell_type": "code",
   "execution_count": 166,
   "id": "e389436f",
   "metadata": {},
   "outputs": [
    {
     "data": {
      "text/plain": [
       "Ttest_indResult(statistic=-1.387859705421269, pvalue=0.16645623503456755)"
      ]
     },
     "execution_count": 166,
     "metadata": {},
     "output_type": "execute_result"
    }
   ],
   "source": [
    "# Test de Student ( ici on le fait pour des raison pedagogique)\n",
    "\n",
    "# pour faire le test de Student il y a des hypothese a respecté : la distribution doit suivre une loi normal\n",
    "# 1- La variable continue doit avoire une distribution normal\n",
    "# 2- La variable categoriel doit avoir deux modalité ou groupe(exemple : homme et femme) et chaque observation doit avoir \n",
    "# un seul groupe. par exemple un homme peu pas etre a la foi homme et femme\n",
    "\n",
    "\n",
    "stats.ttest_ind(tips_df[tips_df.sex == 'Female']['tip'], tips_df[tips_df.sex == 'Male']['tip'], equal_var=True)"
   ]
  },
  {
   "cell_type": "markdown",
   "id": "cfd16bac",
   "metadata": {},
   "source": [
    "Ici la Pvalue > 0.05 donc nous ne pouvons pas rejeter l'hypothese nulle et admettre qu'il existe une difference statistiquement significative entre les pourboire et le genre des clients."
   ]
  },
  {
   "cell_type": "code",
   "execution_count": 167,
   "id": "a8e61a0c",
   "metadata": {},
   "outputs": [
    {
     "data": {
      "text/html": [
       "<div>\n",
       "<style scoped>\n",
       "    .dataframe tbody tr th:only-of-type {\n",
       "        vertical-align: middle;\n",
       "    }\n",
       "\n",
       "    .dataframe tbody tr th {\n",
       "        vertical-align: top;\n",
       "    }\n",
       "\n",
       "    .dataframe thead th {\n",
       "        text-align: right;\n",
       "    }\n",
       "</style>\n",
       "<table border=\"1\" class=\"dataframe\">\n",
       "  <thead>\n",
       "    <tr style=\"text-align: right;\">\n",
       "      <th></th>\n",
       "      <th>total_bill</th>\n",
       "      <th>tip</th>\n",
       "      <th>sex</th>\n",
       "      <th>smoker</th>\n",
       "      <th>day</th>\n",
       "      <th>time</th>\n",
       "      <th>size</th>\n",
       "    </tr>\n",
       "  </thead>\n",
       "  <tbody>\n",
       "    <tr>\n",
       "      <th>0</th>\n",
       "      <td>16.99</td>\n",
       "      <td>1.01</td>\n",
       "      <td>Female</td>\n",
       "      <td>No</td>\n",
       "      <td>Sun</td>\n",
       "      <td>Dinner</td>\n",
       "      <td>2</td>\n",
       "    </tr>\n",
       "    <tr>\n",
       "      <th>1</th>\n",
       "      <td>10.34</td>\n",
       "      <td>1.66</td>\n",
       "      <td>Male</td>\n",
       "      <td>No</td>\n",
       "      <td>Sun</td>\n",
       "      <td>Dinner</td>\n",
       "      <td>3</td>\n",
       "    </tr>\n",
       "    <tr>\n",
       "      <th>2</th>\n",
       "      <td>21.01</td>\n",
       "      <td>3.50</td>\n",
       "      <td>Male</td>\n",
       "      <td>No</td>\n",
       "      <td>Sun</td>\n",
       "      <td>Dinner</td>\n",
       "      <td>3</td>\n",
       "    </tr>\n",
       "    <tr>\n",
       "      <th>3</th>\n",
       "      <td>23.68</td>\n",
       "      <td>3.31</td>\n",
       "      <td>Male</td>\n",
       "      <td>No</td>\n",
       "      <td>Sun</td>\n",
       "      <td>Dinner</td>\n",
       "      <td>2</td>\n",
       "    </tr>\n",
       "    <tr>\n",
       "      <th>4</th>\n",
       "      <td>24.59</td>\n",
       "      <td>3.61</td>\n",
       "      <td>Female</td>\n",
       "      <td>No</td>\n",
       "      <td>Sun</td>\n",
       "      <td>Dinner</td>\n",
       "      <td>4</td>\n",
       "    </tr>\n",
       "  </tbody>\n",
       "</table>\n",
       "</div>"
      ],
      "text/plain": [
       "   total_bill   tip     sex smoker  day    time  size\n",
       "0       16.99  1.01  Female     No  Sun  Dinner     2\n",
       "1       10.34  1.66    Male     No  Sun  Dinner     3\n",
       "2       21.01  3.50    Male     No  Sun  Dinner     3\n",
       "3       23.68  3.31    Male     No  Sun  Dinner     2\n",
       "4       24.59  3.61  Female     No  Sun  Dinner     4"
      ]
     },
     "execution_count": 167,
     "metadata": {},
     "output_type": "execute_result"
    }
   ],
   "source": [
    "tips_df.head()"
   ]
  },
  {
   "cell_type": "markdown",
   "id": "5e191beb",
   "metadata": {},
   "source": [
    "## La facture total(total_bill) des clients differe-t-ils selon leurs tailles(size)"
   ]
  },
  {
   "cell_type": "code",
   "execution_count": 168,
   "id": "20ce2fa7",
   "metadata": {},
   "outputs": [
    {
     "data": {
      "image/png": "[encoded data removed]",
      "text/plain": [
       "<Figure size 640x480 with 1 Axes>"
      ]
     },
     "metadata": {},
     "output_type": "display_data"
    }
   ],
   "source": [
    "# Distibution des tailles\n",
    "\n",
    "sns.distplot(tips_df['size'], kde=False);"
   ]
  },
  {
   "cell_type": "code",
   "execution_count": 169,
   "id": "09a8de3c",
   "metadata": {},
   "outputs": [
    {
     "data": {
      "text/plain": [
       "0      compris entre 0m et 3m de taille\n",
       "1      compris entre 0m et 3m de taille\n",
       "2      compris entre 0m et 3m de taille\n",
       "3      compris entre 0m et 3m de taille\n",
       "4                compris entre 3m et 5m\n",
       "                     ...               \n",
       "239    compris entre 0m et 3m de taille\n",
       "240    compris entre 0m et 3m de taille\n",
       "241    compris entre 0m et 3m de taille\n",
       "242    compris entre 0m et 3m de taille\n",
       "243    compris entre 0m et 3m de taille\n",
       "Name: size_group, Length: 244, dtype: object"
      ]
     },
     "execution_count": 169,
     "metadata": {},
     "output_type": "execute_result"
    }
   ],
   "source": [
    "# Creation des categories de taille \n",
    "\n",
    "tips_df.loc[(tips_df['size'] <= 3), 'size_group'] = \"compris entre 0m et 3m de taille\"\n",
    "\n",
    "tips_df.loc[(tips_df['size'] > 3) & (tips_df['size'] < 5), 'size_group'] = \"compris entre 3m et 5m\"\n",
    "\n",
    "tips_df.loc[(tips_df['size'] > 5), 'size_group'] = \"plus de 5m de taille\"\n",
    "\n",
    "tips_df['size_group']"
   ]
  },
  {
   "cell_type": "code",
   "execution_count": 170,
   "id": "dca107a5",
   "metadata": {},
   "outputs": [
    {
     "data": {
      "text/html": [
       "<div>\n",
       "<style scoped>\n",
       "    .dataframe tbody tr th:only-of-type {\n",
       "        vertical-align: middle;\n",
       "    }\n",
       "\n",
       "    .dataframe tbody tr th {\n",
       "        vertical-align: top;\n",
       "    }\n",
       "\n",
       "    .dataframe thead th {\n",
       "        text-align: right;\n",
       "    }\n",
       "</style>\n",
       "<table border=\"1\" class=\"dataframe\">\n",
       "  <thead>\n",
       "    <tr style=\"text-align: right;\">\n",
       "      <th></th>\n",
       "      <th>total_bill</th>\n",
       "      <th>tip</th>\n",
       "      <th>sex</th>\n",
       "      <th>smoker</th>\n",
       "      <th>day</th>\n",
       "      <th>time</th>\n",
       "      <th>size</th>\n",
       "      <th>size_group</th>\n",
       "    </tr>\n",
       "  </thead>\n",
       "  <tbody>\n",
       "    <tr>\n",
       "      <th>0</th>\n",
       "      <td>16.99</td>\n",
       "      <td>1.01</td>\n",
       "      <td>Female</td>\n",
       "      <td>No</td>\n",
       "      <td>Sun</td>\n",
       "      <td>Dinner</td>\n",
       "      <td>2</td>\n",
       "      <td>compris entre 0m et 3m de taille</td>\n",
       "    </tr>\n",
       "    <tr>\n",
       "      <th>1</th>\n",
       "      <td>10.34</td>\n",
       "      <td>1.66</td>\n",
       "      <td>Male</td>\n",
       "      <td>No</td>\n",
       "      <td>Sun</td>\n",
       "      <td>Dinner</td>\n",
       "      <td>3</td>\n",
       "      <td>compris entre 0m et 3m de taille</td>\n",
       "    </tr>\n",
       "    <tr>\n",
       "      <th>2</th>\n",
       "      <td>21.01</td>\n",
       "      <td>3.50</td>\n",
       "      <td>Male</td>\n",
       "      <td>No</td>\n",
       "      <td>Sun</td>\n",
       "      <td>Dinner</td>\n",
       "      <td>3</td>\n",
       "      <td>compris entre 0m et 3m de taille</td>\n",
       "    </tr>\n",
       "    <tr>\n",
       "      <th>3</th>\n",
       "      <td>23.68</td>\n",
       "      <td>3.31</td>\n",
       "      <td>Male</td>\n",
       "      <td>No</td>\n",
       "      <td>Sun</td>\n",
       "      <td>Dinner</td>\n",
       "      <td>2</td>\n",
       "      <td>compris entre 0m et 3m de taille</td>\n",
       "    </tr>\n",
       "    <tr>\n",
       "      <th>4</th>\n",
       "      <td>24.59</td>\n",
       "      <td>3.61</td>\n",
       "      <td>Female</td>\n",
       "      <td>No</td>\n",
       "      <td>Sun</td>\n",
       "      <td>Dinner</td>\n",
       "      <td>4</td>\n",
       "      <td>compris entre 3m et 5m</td>\n",
       "    </tr>\n",
       "  </tbody>\n",
       "</table>\n",
       "</div>"
      ],
      "text/plain": [
       "   total_bill   tip     sex smoker  day    time  size  \\\n",
       "0       16.99  1.01  Female     No  Sun  Dinner     2   \n",
       "1       10.34  1.66    Male     No  Sun  Dinner     3   \n",
       "2       21.01  3.50    Male     No  Sun  Dinner     3   \n",
       "3       23.68  3.31    Male     No  Sun  Dinner     2   \n",
       "4       24.59  3.61  Female     No  Sun  Dinner     4   \n",
       "\n",
       "                         size_group  \n",
       "0  compris entre 0m et 3m de taille  \n",
       "1  compris entre 0m et 3m de taille  \n",
       "2  compris entre 0m et 3m de taille  \n",
       "3  compris entre 0m et 3m de taille  \n",
       "4            compris entre 3m et 5m  "
      ]
     },
     "execution_count": 170,
     "metadata": {},
     "output_type": "execute_result"
    }
   ],
   "source": [
    "tips_df.head()"
   ]
  },
  {
   "cell_type": "code",
   "execution_count": 171,
   "id": "42de2aff",
   "metadata": {},
   "outputs": [
    {
     "data": {
      "text/plain": [
       "LeveneResult(statistic=25.08769598754709, pvalue=1.3213155975179038e-10)"
      ]
     },
     "execution_count": 171,
     "metadata": {},
     "output_type": "execute_result"
    }
   ],
   "source": [
    "# Test d'egalité des variance\n",
    "\n",
    "stats.levene(tips_df[tips_df.size_group == \"compris entre 0m et 3m de taille\"]['size'], \n",
    "                     tips_df[tips_df.size_group == \"compris entre 3m et 5m\"]['size'], \n",
    "                             tips_df[tips_df.size_group == \"plus de 5m de taille\"]['size'], center = 'mean') "
   ]
  },
  {
   "cell_type": "markdown",
   "id": "5a2ff43d",
   "metadata": {},
   "source": [
    "Nous remarquons que la Pvalue < 0.05 donc nous pouvons rejeter l'hypothese de l'egalité des variances.\n",
    "- Pour des raisons pedagogique nous poursuivons en supposant que les VARIANCES sont egales. ceci pour demontrer comment implementer l'ANOVA dans python.\n"
   ]
  },
  {
   "cell_type": "markdown",
   "id": "619a2f44",
   "metadata": {},
   "source": [
    "### TEST ANOVA"
   ]
  },
  {
   "cell_type": "code",
   "execution_count": 172,
   "id": "c83d9a57",
   "metadata": {},
   "outputs": [],
   "source": [
    "# On va attribuer des noms a nos Test d'egalité des variance pour faciciler l'implementation dans ANOVA\n",
    "\n",
    "taille_zero_trois = tips_df[tips_df.size_group == \"compris entre 0m et 3m de taille\"]['size']\n",
    "taille_trois_cinq = tips_df[tips_df.size_group == \"compris entre 3m et 5m\"]['size']\n",
    "taille_cinq_plus = tips_df[tips_df.size_group == \"plus de 5m de taille\"]['size']"
   ]
  },
  {
   "cell_type": "code",
   "execution_count": 173,
   "id": "47a0142a",
   "metadata": {},
   "outputs": [
    {
     "data": {
      "text/plain": [
       "F_onewayResult(statistic=500.9021528248516, pvalue=1.1767430565999845e-85)"
      ]
     },
     "execution_count": 173,
     "metadata": {},
     "output_type": "execute_result"
    }
   ],
   "source": [
    "# One-way-ANOVA ou analyse unidimentional de la variance\n",
    " # en Statistique l'analyse unidimentional de la variance est une technique qui peu etres utliser pour comparer\n",
    "   # les moyennes deux echatillons ou plus en utilisant une distribution F\n",
    "\n",
    "stats.f_oneway(taille_zero_trois, taille_trois_cinq, taille_cinq_plus)"
   ]
  },
  {
   "cell_type": "markdown",
   "id": "4b46edab",
   "metadata": {},
   "source": [
    "Nous remarquons que la Pvalue < 0.05 donc on rejete l'hypothese nulle et on admet qu'au moins l'une des moyennes differes. En somme il n'y a pas egalité de moyenne entre les 3 groupes. \n",
    "Alors nous pouvons conclure que La facture total des clmients differe selon leurs tailles"
   ]
  },
  {
   "cell_type": "markdown",
   "id": "ddd3de90",
   "metadata": {},
   "source": [
    "## Y-a-t-il une relation entre les fumeurs(smoker) et le sexe"
   ]
  },
  {
   "cell_type": "code",
   "execution_count": 174,
   "id": "3724df3e",
   "metadata": {},
   "outputs": [
    {
     "data": {
      "text/html": [
       "<div>\n",
       "<style scoped>\n",
       "    .dataframe tbody tr th:only-of-type {\n",
       "        vertical-align: middle;\n",
       "    }\n",
       "\n",
       "    .dataframe tbody tr th {\n",
       "        vertical-align: top;\n",
       "    }\n",
       "\n",
       "    .dataframe thead th {\n",
       "        text-align: right;\n",
       "    }\n",
       "</style>\n",
       "<table border=\"1\" class=\"dataframe\">\n",
       "  <thead>\n",
       "    <tr style=\"text-align: right;\">\n",
       "      <th></th>\n",
       "      <th>total_bill</th>\n",
       "      <th>tip</th>\n",
       "      <th>sex</th>\n",
       "      <th>smoker</th>\n",
       "      <th>day</th>\n",
       "      <th>time</th>\n",
       "      <th>size</th>\n",
       "      <th>size_group</th>\n",
       "    </tr>\n",
       "  </thead>\n",
       "  <tbody>\n",
       "    <tr>\n",
       "      <th>0</th>\n",
       "      <td>16.99</td>\n",
       "      <td>1.01</td>\n",
       "      <td>Female</td>\n",
       "      <td>No</td>\n",
       "      <td>Sun</td>\n",
       "      <td>Dinner</td>\n",
       "      <td>2</td>\n",
       "      <td>compris entre 0m et 3m de taille</td>\n",
       "    </tr>\n",
       "    <tr>\n",
       "      <th>1</th>\n",
       "      <td>10.34</td>\n",
       "      <td>1.66</td>\n",
       "      <td>Male</td>\n",
       "      <td>No</td>\n",
       "      <td>Sun</td>\n",
       "      <td>Dinner</td>\n",
       "      <td>3</td>\n",
       "      <td>compris entre 0m et 3m de taille</td>\n",
       "    </tr>\n",
       "    <tr>\n",
       "      <th>2</th>\n",
       "      <td>21.01</td>\n",
       "      <td>3.50</td>\n",
       "      <td>Male</td>\n",
       "      <td>No</td>\n",
       "      <td>Sun</td>\n",
       "      <td>Dinner</td>\n",
       "      <td>3</td>\n",
       "      <td>compris entre 0m et 3m de taille</td>\n",
       "    </tr>\n",
       "    <tr>\n",
       "      <th>3</th>\n",
       "      <td>23.68</td>\n",
       "      <td>3.31</td>\n",
       "      <td>Male</td>\n",
       "      <td>No</td>\n",
       "      <td>Sun</td>\n",
       "      <td>Dinner</td>\n",
       "      <td>2</td>\n",
       "      <td>compris entre 0m et 3m de taille</td>\n",
       "    </tr>\n",
       "    <tr>\n",
       "      <th>4</th>\n",
       "      <td>24.59</td>\n",
       "      <td>3.61</td>\n",
       "      <td>Female</td>\n",
       "      <td>No</td>\n",
       "      <td>Sun</td>\n",
       "      <td>Dinner</td>\n",
       "      <td>4</td>\n",
       "      <td>compris entre 3m et 5m</td>\n",
       "    </tr>\n",
       "  </tbody>\n",
       "</table>\n",
       "</div>"
      ],
      "text/plain": [
       "   total_bill   tip     sex smoker  day    time  size  \\\n",
       "0       16.99  1.01  Female     No  Sun  Dinner     2   \n",
       "1       10.34  1.66    Male     No  Sun  Dinner     3   \n",
       "2       21.01  3.50    Male     No  Sun  Dinner     3   \n",
       "3       23.68  3.31    Male     No  Sun  Dinner     2   \n",
       "4       24.59  3.61  Female     No  Sun  Dinner     4   \n",
       "\n",
       "                         size_group  \n",
       "0  compris entre 0m et 3m de taille  \n",
       "1  compris entre 0m et 3m de taille  \n",
       "2  compris entre 0m et 3m de taille  \n",
       "3  compris entre 0m et 3m de taille  \n",
       "4            compris entre 3m et 5m  "
      ]
     },
     "execution_count": 174,
     "metadata": {},
     "output_type": "execute_result"
    }
   ],
   "source": [
    "tips_df.head()"
   ]
  },
  {
   "cell_type": "code",
   "execution_count": 175,
   "id": "db73eade",
   "metadata": {},
   "outputs": [
    {
     "data": {
      "image/png": "[encoded data removed]",
      "text/plain": [
       "<Figure size 640x480 with 1 Axes>"
      ]
     },
     "metadata": {},
     "output_type": "display_data"
    }
   ],
   "source": [
    "# Diagramme a barre de la variable smoker\n",
    "\n",
    "sns.countplot(x = 'smoker', hue = 'sex', data = tips_df);"
   ]
  },
  {
   "cell_type": "markdown",
   "id": "97ce8fdf",
   "metadata": {},
   "source": [
    "HIPOTHESE\n",
    "- hypothese nulle(Ho) : la proportion de client fumeur est independant du sexe\n",
    "- hypothese alternative(Ha) : la proportion de client fumeur est corrolé ou associé au sexe"
   ]
  },
  {
   "cell_type": "code",
   "execution_count": 176,
   "id": "a28f63aa",
   "metadata": {},
   "outputs": [
    {
     "data": {
      "text/html": [
       "<div>\n",
       "<style scoped>\n",
       "    .dataframe tbody tr th:only-of-type {\n",
       "        vertical-align: middle;\n",
       "    }\n",
       "\n",
       "    .dataframe tbody tr th {\n",
       "        vertical-align: top;\n",
       "    }\n",
       "\n",
       "    .dataframe thead th {\n",
       "        text-align: right;\n",
       "    }\n",
       "</style>\n",
       "<table border=\"1\" class=\"dataframe\">\n",
       "  <thead>\n",
       "    <tr style=\"text-align: right;\">\n",
       "      <th>smoker</th>\n",
       "      <th>Yes</th>\n",
       "      <th>No</th>\n",
       "    </tr>\n",
       "    <tr>\n",
       "      <th>sex</th>\n",
       "      <th></th>\n",
       "      <th></th>\n",
       "    </tr>\n",
       "  </thead>\n",
       "  <tbody>\n",
       "    <tr>\n",
       "      <th>Male</th>\n",
       "      <td>60</td>\n",
       "      <td>97</td>\n",
       "    </tr>\n",
       "    <tr>\n",
       "      <th>Female</th>\n",
       "      <td>33</td>\n",
       "      <td>54</td>\n",
       "    </tr>\n",
       "  </tbody>\n",
       "</table>\n",
       "</div>"
      ],
      "text/plain": [
       "smoker  Yes  No\n",
       "sex            \n",
       "Male     60  97\n",
       "Female   33  54"
      ]
     },
     "execution_count": 176,
     "metadata": {},
     "output_type": "execute_result"
    }
   ],
   "source": [
    "# Tableau de contingence entre les variable \"smoker\" et sex\n",
    "\n",
    "cont_table = pd.crosstab(tips_df['sex'], tips_df['smoker'])\n",
    "cont_table"
   ]
  },
  {
   "cell_type": "code",
   "execution_count": 188,
   "id": "7dcea3a3",
   "metadata": {},
   "outputs": [
    {
     "data": {
      "text/plain": [
       "(0.0,\n",
       " 1.0,\n",
       " 1,\n",
       " array([[59.84016393, 97.15983607],\n",
       "        [33.15983607, 53.84016393]]))"
      ]
     },
     "execution_count": 188,
     "metadata": {},
     "output_type": "execute_result"
    }
   ],
   "source": [
    "# Test du Chi2\n",
    "\n",
    "stats.chi2_contingency(cont_table, correction = True)\n",
    "\n",
    "\n",
    "# Lorsque les données sont collectées, la valeur-p est calculée et la décision suivante est prise :\n",
    "\n",
    "# si elle est inférieure à 0.05, on rejette l'hypothèse nulle au profit de l'hypothèse alternative ;\n",
    "# si elle est supérieure à 0.05, on rejette l'hypothèse alternative au profit de l'hypothèse nulle."
   ]
  },
  {
   "cell_type": "markdown",
   "id": "e64a0df3",
   "metadata": {},
   "source": [
    "ici la Pvalue = 1.0, la Pvalue < 0.05 donc on rejete l'hypothese nulle selon laquel  la proportion de client fumeur est independant du sexe. alors nous admettons que les clients fumeurs sont corrélé selon leur sexe.\n",
    "\n",
    "DANS L'EXERCIE COUR: LA Pvalue = 0.137, la Pvalue > 0.05 donc nous ne pouvons pas rejeter l'hopothese nulle selon laquelle ...."
   ]
  },
  {
   "cell_type": "markdown",
   "id": "98c0a092",
   "metadata": {},
   "source": [
    "## Le chiffre d'affaire total(total_bill) est-t-il correlé au pourboire(tips)"
   ]
  },
  {
   "cell_type": "code",
   "execution_count": 178,
   "id": "9211d088",
   "metadata": {},
   "outputs": [
    {
     "data": {
      "image/png": "[encoded data removed]",
      "text/plain": [
       "<Figure size 640x480 with 1 Axes>"
      ]
     },
     "metadata": {},
     "output_type": "display_data"
    }
   ],
   "source": [
    "# relation entre la variable \"total_bill\" et \"tips\"\n",
    "\n",
    "sns.scatterplot('tip','total_bill', data = tips_df)\n",
    "\n",
    "plt.title(\"coefficient de pearson de la variable total_bill et tips\")\n",
    "plt.show()"
   ]
  },
  {
   "cell_type": "markdown",
   "id": "3d74a42f",
   "metadata": {},
   "source": [
    "HIPOTHESE\n",
    "- hypothese nulle(Ho) : les deux variables sont correlées\n",
    "- hypothese alternative(Ha) : les deux variables ne sont pas correlées"
   ]
  },
  {
   "cell_type": "code",
   "execution_count": 179,
   "id": "41121972",
   "metadata": {},
   "outputs": [
    {
     "data": {
      "text/plain": [
       "PearsonRResult(statistic=0.6757341092113645, pvalue=6.692470646863477e-34)"
      ]
     },
     "execution_count": 179,
     "metadata": {},
     "output_type": "execute_result"
    }
   ],
   "source": [
    "stats.pearsonr(tips_df['tip'], tips_df['total_bill'])"
   ]
  },
  {
   "cell_type": "markdown",
   "id": "114def39",
   "metadata": {},
   "source": [
    "la Pvalue < 0.05 donc on rejete l'hypothese nulle selon laquelle le chiffre d'affaire n'est pas correlé au pourboire et concluant qu'il existe une la relation statistiquement significative entre le chiffre d'affaires et le pourboire des clients. de plus coefficient de pearson = 0.6 ce qui montre que la correlation est faible entre les 2 variables\n",
    "\n",
    "On vien de terminer les Test de correlation parametrique\n",
    "les Test de correlation parametrique de pearson sont appliqués lorsque les variables sont normalement distribuées"
   ]
  },
  {
   "cell_type": "markdown",
   "id": "9d776547",
   "metadata": {},
   "source": [
    "## Test de correlation non parametrique : lorsque les variables ne sont pas normalement distribuées"
   ]
  },
  {
   "cell_type": "markdown",
   "id": "b198d6b7",
   "metadata": {},
   "source": [
    "## Nouveau dataframe"
   ]
  },
  {
   "cell_type": "code",
   "execution_count": 180,
   "id": "aefa0495",
   "metadata": {},
   "outputs": [
    {
     "data": {
      "text/plain": [
       "['anagrams',\n",
       " 'anscombe',\n",
       " 'attention',\n",
       " 'brain_networks',\n",
       " 'car_crashes',\n",
       " 'diamonds',\n",
       " 'dots',\n",
       " 'dowjones',\n",
       " 'exercise',\n",
       " 'flights',\n",
       " 'fmri',\n",
       " 'geyser',\n",
       " 'glue',\n",
       " 'healthexp',\n",
       " 'iris',\n",
       " 'mpg',\n",
       " 'penguins',\n",
       " 'planets',\n",
       " 'seaice',\n",
       " 'taxis',\n",
       " 'tips',\n",
       " 'titanic']"
      ]
     },
     "execution_count": 180,
     "metadata": {},
     "output_type": "execute_result"
    }
   ],
   "source": [
    "sns.get_dataset_names()"
   ]
  },
  {
   "cell_type": "code",
   "execution_count": 181,
   "id": "a72a9da4",
   "metadata": {},
   "outputs": [
    {
     "data": {
      "text/html": [
       "<div>\n",
       "<style scoped>\n",
       "    .dataframe tbody tr th:only-of-type {\n",
       "        vertical-align: middle;\n",
       "    }\n",
       "\n",
       "    .dataframe tbody tr th {\n",
       "        vertical-align: top;\n",
       "    }\n",
       "\n",
       "    .dataframe thead th {\n",
       "        text-align: right;\n",
       "    }\n",
       "</style>\n",
       "<table border=\"1\" class=\"dataframe\">\n",
       "  <thead>\n",
       "    <tr style=\"text-align: right;\">\n",
       "      <th></th>\n",
       "      <th>mpg</th>\n",
       "      <th>cylinders</th>\n",
       "      <th>displacement</th>\n",
       "      <th>horsepower</th>\n",
       "      <th>weight</th>\n",
       "      <th>acceleration</th>\n",
       "      <th>model_year</th>\n",
       "      <th>origin</th>\n",
       "      <th>name</th>\n",
       "    </tr>\n",
       "  </thead>\n",
       "  <tbody>\n",
       "    <tr>\n",
       "      <th>0</th>\n",
       "      <td>18.0</td>\n",
       "      <td>8</td>\n",
       "      <td>307.0</td>\n",
       "      <td>130.0</td>\n",
       "      <td>3504</td>\n",
       "      <td>12.0</td>\n",
       "      <td>70</td>\n",
       "      <td>usa</td>\n",
       "      <td>chevrolet chevelle malibu</td>\n",
       "    </tr>\n",
       "    <tr>\n",
       "      <th>1</th>\n",
       "      <td>15.0</td>\n",
       "      <td>8</td>\n",
       "      <td>350.0</td>\n",
       "      <td>165.0</td>\n",
       "      <td>3693</td>\n",
       "      <td>11.5</td>\n",
       "      <td>70</td>\n",
       "      <td>usa</td>\n",
       "      <td>buick skylark 320</td>\n",
       "    </tr>\n",
       "    <tr>\n",
       "      <th>2</th>\n",
       "      <td>18.0</td>\n",
       "      <td>8</td>\n",
       "      <td>318.0</td>\n",
       "      <td>150.0</td>\n",
       "      <td>3436</td>\n",
       "      <td>11.0</td>\n",
       "      <td>70</td>\n",
       "      <td>usa</td>\n",
       "      <td>plymouth satellite</td>\n",
       "    </tr>\n",
       "    <tr>\n",
       "      <th>3</th>\n",
       "      <td>16.0</td>\n",
       "      <td>8</td>\n",
       "      <td>304.0</td>\n",
       "      <td>150.0</td>\n",
       "      <td>3433</td>\n",
       "      <td>12.0</td>\n",
       "      <td>70</td>\n",
       "      <td>usa</td>\n",
       "      <td>amc rebel sst</td>\n",
       "    </tr>\n",
       "    <tr>\n",
       "      <th>4</th>\n",
       "      <td>17.0</td>\n",
       "      <td>8</td>\n",
       "      <td>302.0</td>\n",
       "      <td>140.0</td>\n",
       "      <td>3449</td>\n",
       "      <td>10.5</td>\n",
       "      <td>70</td>\n",
       "      <td>usa</td>\n",
       "      <td>ford torino</td>\n",
       "    </tr>\n",
       "  </tbody>\n",
       "</table>\n",
       "</div>"
      ],
      "text/plain": [
       "    mpg  cylinders  displacement  horsepower  weight  acceleration  \\\n",
       "0  18.0          8         307.0       130.0    3504          12.0   \n",
       "1  15.0          8         350.0       165.0    3693          11.5   \n",
       "2  18.0          8         318.0       150.0    3436          11.0   \n",
       "3  16.0          8         304.0       150.0    3433          12.0   \n",
       "4  17.0          8         302.0       140.0    3449          10.5   \n",
       "\n",
       "   model_year origin                       name  \n",
       "0          70    usa  chevrolet chevelle malibu  \n",
       "1          70    usa          buick skylark 320  \n",
       "2          70    usa         plymouth satellite  \n",
       "3          70    usa              amc rebel sst  \n",
       "4          70    usa                ford torino  "
      ]
     },
     "execution_count": 181,
     "metadata": {},
     "output_type": "execute_result"
    }
   ],
   "source": [
    "mpg_df = sns.load_dataset('mpg')\n",
    "mpg_df.head()"
   ]
  },
  {
   "cell_type": "code",
   "execution_count": 182,
   "id": "8273b256",
   "metadata": {},
   "outputs": [
    {
     "name": "stdout",
     "output_type": "stream",
     "text": [
      "<class 'pandas.core.frame.DataFrame'>\n",
      "RangeIndex: 398 entries, 0 to 397\n",
      "Data columns (total 9 columns):\n",
      " #   Column        Non-Null Count  Dtype  \n",
      "---  ------        --------------  -----  \n",
      " 0   mpg           398 non-null    float64\n",
      " 1   cylinders     398 non-null    int64  \n",
      " 2   displacement  398 non-null    float64\n",
      " 3   horsepower    392 non-null    float64\n",
      " 4   weight        398 non-null    int64  \n",
      " 5   acceleration  398 non-null    float64\n",
      " 6   model_year    398 non-null    int64  \n",
      " 7   origin        398 non-null    object \n",
      " 8   name          398 non-null    object \n",
      "dtypes: float64(4), int64(3), object(2)\n",
      "memory usage: 28.1+ KB\n"
     ]
    }
   ],
   "source": [
    "mpg_df.info()"
   ]
  },
  {
   "cell_type": "code",
   "execution_count": 183,
   "id": "526052d3",
   "metadata": {},
   "outputs": [],
   "source": [
    "mpg_df.loc[mpg_df['horsepower'].isnull(), 'horsepower'] = round(mpg_df['horsepower'].mean(),1)\n",
    "\n",
    "# pour remplacé les valeurs manquantes quantitative d'une dataFrame: dataframe.fillna(dataframe.maen(), inplace=True) "
   ]
  },
  {
   "cell_type": "code",
   "execution_count": 184,
   "id": "7df727fc",
   "metadata": {},
   "outputs": [
    {
     "data": {
      "image/png": "[encoded data removed]",
      "text/plain": [
       "<Figure size 640x480 with 1 Axes>"
      ]
     },
     "metadata": {},
     "output_type": "display_data"
    }
   ],
   "source": [
    "# Correlation entre les variables \"displacement\" et \"acceleration\"\n",
    "\n",
    "sns.scatterplot(x = 'displacement',y = 'acceleration', data = mpg_df)\n",
    "\n",
    "plt.title(\"acceleration en fonction du deplacement d'une voiture\")\n",
    "plt.show()"
   ]
  },
  {
   "cell_type": "markdown",
   "id": "c8d4cf27",
   "metadata": {},
   "source": [
    "Plus une voiture se deplace sur de longue distance, elle accelère moins "
   ]
  },
  {
   "cell_type": "code",
   "execution_count": 185,
   "id": "158e3339",
   "metadata": {},
   "outputs": [
    {
     "data": {
      "text/plain": [
       "PearsonRResult(statistic=-0.5436840835009299, pvalue=5.42087736592988e-32)"
      ]
     },
     "execution_count": 185,
     "metadata": {},
     "output_type": "execute_result"
    }
   ],
   "source": [
    "# Coéfficient de corrélation de pearson\n",
    "\n",
    "stats.pearsonr(mpg_df['displacement'], mpg_df['acceleration'])"
   ]
  },
  {
   "cell_type": "markdown",
   "id": "6caa86e2",
   "metadata": {},
   "source": [
    "- Si la P-valeur est inferieur à 0.05 on peu rejeter l'hypothese nulle\n",
    "- Si la P-valeur est superieur à 0.05 on accepte l'hypothese nulle. en gros on admet qu'y a pas d'hypothese nulle en ses deux variables.\n",
    "\n",
    "La corrélation est egale à -0.54. c'est ce que nous montre les nuages de point plus en haut. une corrélation fortement négative et la P-valeur est inferieur à 0.05. donc nous pouvons rejeter l'hypothese nulle selon laquelle il n'y a pas de correlation entre les deux variables. Ce qui voudrait dire qu'il y a belle et bien une corrélation statistiquement significative entre l'acceleration en fonction du deplacement d'une voiture "
   ]
  },
  {
   "cell_type": "markdown",
   "id": "491da40b",
   "metadata": {},
   "source": [
    "#### Nous allons prouver par un test non parametrique  l'hypothese nulle selon laquelle il n'y a pas de correlation entre les deux variables"
   ]
  },
  {
   "cell_type": "code",
   "execution_count": 187,
   "id": "3b9d2e37",
   "metadata": {},
   "outputs": [
    {
     "name": "stdout",
     "output_type": "stream",
     "text": [
      "p-valeur = 0\n"
     ]
    }
   ],
   "source": [
    "# Transformation des variables en tableaux Numpy\n",
    "\n",
    "displacement = np.array(mpg_df['displacement'])\n",
    "\n",
    "acceleration = np.array(mpg_df['acceleration'])\n",
    "\n",
    "# Nombre total de simulation à faire\n",
    "\n",
    "N = 10000\n",
    "\n",
    "# Initialisation du tableau de stockage des repliques de permutation \n",
    "     # Ou tableau numpy vide pour stocker les statistique que nous allons calculer\n",
    "    \n",
    "perm_replicates = np.empty(N)    # perm = permutation et replicates = repliques\n",
    "\n",
    "# Simulation\n",
    "\n",
    "for i in range(N):\n",
    "    \n",
    "    # Permutation des valeurs de \"displacement\"\n",
    "    # (Nous pouvons choisir de permuter \"acceleration\". c'est l'un ou l'autre, on choisi ce l'un des deux.)\n",
    "    \n",
    "    displacement_permuted = np.random.permutation(displacement)\n",
    "    \n",
    "    # Calcule la replique de permutation\n",
    "    # (Le Coéfficient de pearson de chaque echantillon de permutation)\n",
    "    \n",
    "    perm_replicates[i] = stats.pearsonr(displacement_permuted, acceleration)[0]   # [0] : pour afficher unuquement Le \n",
    "                                                                                    # Coéfficient de pearson\n",
    "        \n",
    "# Calcule la P-valeur\n",
    "  # P-valeur sera une frequence, on fera la somme pour compter le nombre de foi le terme replicates du coéfficient de \n",
    "    # corrélation des echatillons de permutation est superieur ou égale à la valeur absolue du coéfficient de \n",
    "    # corrélation observer plus haut ( PearsonRResult(statistic=-0.5436840835009299, pvalue=5.42087736592988e-32))\n",
    "    \n",
    "p = np.sum(perm_replicates >= -stats.pearsonr(mpg_df['displacement'], mpg_df['acceleration'])[0])  \n",
    "                         # le signe de soustration(-) parceque le coéfficient de corrélation observer est negatif\n",
    "    \n",
    "        # N'oublions pas qu'ici le coéfficient de pearson observer est negatif\n",
    "        \n",
    "print('p-valeur =', p)"
   ]
  },
  {
   "cell_type": "markdown",
   "id": "4cb2da1c",
   "metadata": {},
   "source": [
    "- p-valeur = 0 cela voudrait dire qu'il y a 0% de chance que l'hypothese nulle soit vrai. donc il existe une relation statistiquement significative entre l'acceleration d'une voiture et son deplacement\n",
    "\n",
    "l'hypothese nulle est qu'il n'y a pas de corrélation entre acceleration d'une voiture selon son deplacement"
   ]
  },
  {
   "cell_type": "code",
   "execution_count": null,
   "id": "ce09eb78",
   "metadata": {},
   "outputs": [],
   "source": []
  }
 ],
 "metadata": {
  "kernelspec": {
   "display_name": "Python 3 (ipykernel)",
   "language": "python",
   "name": "python3"
  },
  "language_info": {
   "codemirror_mode": {
    "name": "ipython",
    "version": 3
   },
   "file_extension": ".py",
   "mimetype": "text/x-python",
   "name": "python",
   "nbconvert_exporter": "python",
   "pygments_lexer": "ipython3",
   "version": "3.9.13"
  }
 },
 "nbformat": 4,
 "nbformat_minor": 5
}
