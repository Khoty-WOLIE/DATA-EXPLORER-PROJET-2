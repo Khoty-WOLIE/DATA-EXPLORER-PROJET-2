{
 "cells": [
  {
   "cell_type": "markdown",
   "id": "7064ae70",
   "metadata": {},
   "source": [
    "## BOOTSTRAPPING : UNE METHODE DE REECHANTIONNAGE"
   ]
  },
  {
   "cell_type": "code",
   "execution_count": 141,
   "id": "c7383d95",
   "metadata": {},
   "outputs": [],
   "source": [
    "from warnings import filterwarnings\n",
    "filterwarnings('ignore')  # code optionnel"
   ]
  },
  {
   "cell_type": "code",
   "execution_count": 163,
   "id": "46f47674",
   "metadata": {},
   "outputs": [],
   "source": [
    "import pandas as pd\n",
    "import numpy as np\n",
    "import matplotlib.pyplot as plt\n",
    "import seaborn as sns\n",
    "from scipy import stats\n",
    "plt.style.use('ggplot')  # le style ggplot est un paquege de R pour affiné les graphique\n",
    "\n",
    "# ?pd.pivot_table"
   ]
  },
  {
   "cell_type": "markdown",
   "id": "a7a62226",
   "metadata": {},
   "source": [
    "pour ullustrer la technique de bootstrapping, nous utiliserons les données \"dowjones\" du celebre jeu de données seaborn"
   ]
  },
  {
   "cell_type": "code",
   "execution_count": 143,
   "id": "5b2b5ae5",
   "metadata": {},
   "outputs": [
    {
     "data": {
      "text/plain": [
       "['anagrams',\n",
       " 'anscombe',\n",
       " 'attention',\n",
       " 'brain_networks',\n",
       " 'car_crashes',\n",
       " 'diamonds',\n",
       " 'dots',\n",
       " 'dowjones',\n",
       " 'exercise',\n",
       " 'flights',\n",
       " 'fmri',\n",
       " 'geyser',\n",
       " 'glue',\n",
       " 'healthexp',\n",
       " 'iris',\n",
       " 'mpg',\n",
       " 'penguins',\n",
       " 'planets',\n",
       " 'seaice',\n",
       " 'taxis',\n",
       " 'tips',\n",
       " 'titanic']"
      ]
     },
     "execution_count": 143,
     "metadata": {},
     "output_type": "execute_result"
    }
   ],
   "source": [
    "sns.get_dataset_names()"
   ]
  },
  {
   "cell_type": "code",
   "execution_count": 144,
   "id": "44fa5b69",
   "metadata": {},
   "outputs": [
    {
     "data": {
      "text/html": [
       "<div>\n",
       "<style scoped>\n",
       "    .dataframe tbody tr th:only-of-type {\n",
       "        vertical-align: middle;\n",
       "    }\n",
       "\n",
       "    .dataframe tbody tr th {\n",
       "        vertical-align: top;\n",
       "    }\n",
       "\n",
       "    .dataframe thead th {\n",
       "        text-align: right;\n",
       "    }\n",
       "</style>\n",
       "<table border=\"1\" class=\"dataframe\">\n",
       "  <thead>\n",
       "    <tr style=\"text-align: right;\">\n",
       "      <th></th>\n",
       "      <th>Date</th>\n",
       "      <th>Price</th>\n",
       "    </tr>\n",
       "  </thead>\n",
       "  <tbody>\n",
       "    <tr>\n",
       "      <th>0</th>\n",
       "      <td>1914-12-01</td>\n",
       "      <td>55.00</td>\n",
       "    </tr>\n",
       "    <tr>\n",
       "      <th>1</th>\n",
       "      <td>1915-01-01</td>\n",
       "      <td>56.55</td>\n",
       "    </tr>\n",
       "    <tr>\n",
       "      <th>2</th>\n",
       "      <td>1915-02-01</td>\n",
       "      <td>56.00</td>\n",
       "    </tr>\n",
       "    <tr>\n",
       "      <th>3</th>\n",
       "      <td>1915-03-01</td>\n",
       "      <td>58.30</td>\n",
       "    </tr>\n",
       "    <tr>\n",
       "      <th>4</th>\n",
       "      <td>1915-04-01</td>\n",
       "      <td>66.45</td>\n",
       "    </tr>\n",
       "    <tr>\n",
       "      <th>...</th>\n",
       "      <td>...</td>\n",
       "      <td>...</td>\n",
       "    </tr>\n",
       "    <tr>\n",
       "      <th>644</th>\n",
       "      <td>1968-08-01</td>\n",
       "      <td>883.72</td>\n",
       "    </tr>\n",
       "    <tr>\n",
       "      <th>645</th>\n",
       "      <td>1968-09-01</td>\n",
       "      <td>922.80</td>\n",
       "    </tr>\n",
       "    <tr>\n",
       "      <th>646</th>\n",
       "      <td>1968-10-01</td>\n",
       "      <td>955.47</td>\n",
       "    </tr>\n",
       "    <tr>\n",
       "      <th>647</th>\n",
       "      <td>1968-11-01</td>\n",
       "      <td>964.12</td>\n",
       "    </tr>\n",
       "    <tr>\n",
       "      <th>648</th>\n",
       "      <td>1968-12-01</td>\n",
       "      <td>965.39</td>\n",
       "    </tr>\n",
       "  </tbody>\n",
       "</table>\n",
       "<p>649 rows × 2 columns</p>\n",
       "</div>"
      ],
      "text/plain": [
       "           Date   Price\n",
       "0    1914-12-01   55.00\n",
       "1    1915-01-01   56.55\n",
       "2    1915-02-01   56.00\n",
       "3    1915-03-01   58.30\n",
       "4    1915-04-01   66.45\n",
       "..          ...     ...\n",
       "644  1968-08-01  883.72\n",
       "645  1968-09-01  922.80\n",
       "646  1968-10-01  955.47\n",
       "647  1968-11-01  964.12\n",
       "648  1968-12-01  965.39\n",
       "\n",
       "[649 rows x 2 columns]"
      ]
     },
     "execution_count": 144,
     "metadata": {},
     "output_type": "execute_result"
    }
   ],
   "source": [
    "dowjones_df = sns.load_dataset('dowjones')\n",
    "dowjones_df"
   ]
  },
  {
   "cell_type": "code",
   "execution_count": 145,
   "id": "eb214fbc",
   "metadata": {},
   "outputs": [],
   "source": [
    "dowjones_df['Date'] = pd.to_datetime(dowjones_df['Date'],format='%Y-%m-%d')"
   ]
  },
  {
   "cell_type": "code",
   "execution_count": 146,
   "id": "82d3ccd1",
   "metadata": {},
   "outputs": [
    {
     "name": "stdout",
     "output_type": "stream",
     "text": [
      "<class 'pandas.core.frame.DataFrame'>\n",
      "RangeIndex: 649 entries, 0 to 648\n",
      "Data columns (total 2 columns):\n",
      " #   Column  Non-Null Count  Dtype         \n",
      "---  ------  --------------  -----         \n",
      " 0   Date    649 non-null    datetime64[ns]\n",
      " 1   Price   649 non-null    float64       \n",
      "dtypes: datetime64[ns](1), float64(1)\n",
      "memory usage: 10.3 KB\n"
     ]
    }
   ],
   "source": [
    "dowjones_df.info()"
   ]
  },
  {
   "cell_type": "code",
   "execution_count": 147,
   "id": "2e8d4e07",
   "metadata": {},
   "outputs": [],
   "source": [
    "dowjones_df = dowjones_df.loc[(dowjones_df['Date'] > \"1956-03-01\")]\n",
    "\n",
    "# j'ai fais un .Loc pour diminuer le nombre des années pour mieux poursuivre mon travail plus bas"
   ]
  },
  {
   "cell_type": "code",
   "execution_count": 148,
   "id": "b0154c4f",
   "metadata": {},
   "outputs": [
    {
     "data": {
      "text/html": [
       "<div>\n",
       "<style scoped>\n",
       "    .dataframe tbody tr th:only-of-type {\n",
       "        vertical-align: middle;\n",
       "    }\n",
       "\n",
       "    .dataframe tbody tr th {\n",
       "        vertical-align: top;\n",
       "    }\n",
       "\n",
       "    .dataframe thead th {\n",
       "        text-align: right;\n",
       "    }\n",
       "</style>\n",
       "<table border=\"1\" class=\"dataframe\">\n",
       "  <thead>\n",
       "    <tr style=\"text-align: right;\">\n",
       "      <th></th>\n",
       "      <th>Date</th>\n",
       "      <th>Price</th>\n",
       "    </tr>\n",
       "  </thead>\n",
       "  <tbody>\n",
       "    <tr>\n",
       "      <th>496</th>\n",
       "      <td>1956-04-01</td>\n",
       "      <td>511.04</td>\n",
       "    </tr>\n",
       "    <tr>\n",
       "      <th>497</th>\n",
       "      <td>1956-05-01</td>\n",
       "      <td>495.20</td>\n",
       "    </tr>\n",
       "    <tr>\n",
       "      <th>498</th>\n",
       "      <td>1956-06-01</td>\n",
       "      <td>485.33</td>\n",
       "    </tr>\n",
       "    <tr>\n",
       "      <th>499</th>\n",
       "      <td>1956-07-01</td>\n",
       "      <td>509.76</td>\n",
       "    </tr>\n",
       "    <tr>\n",
       "      <th>500</th>\n",
       "      <td>1956-08-01</td>\n",
       "      <td>511.69</td>\n",
       "    </tr>\n",
       "    <tr>\n",
       "      <th>...</th>\n",
       "      <td>...</td>\n",
       "      <td>...</td>\n",
       "    </tr>\n",
       "    <tr>\n",
       "      <th>644</th>\n",
       "      <td>1968-08-01</td>\n",
       "      <td>883.72</td>\n",
       "    </tr>\n",
       "    <tr>\n",
       "      <th>645</th>\n",
       "      <td>1968-09-01</td>\n",
       "      <td>922.80</td>\n",
       "    </tr>\n",
       "    <tr>\n",
       "      <th>646</th>\n",
       "      <td>1968-10-01</td>\n",
       "      <td>955.47</td>\n",
       "    </tr>\n",
       "    <tr>\n",
       "      <th>647</th>\n",
       "      <td>1968-11-01</td>\n",
       "      <td>964.12</td>\n",
       "    </tr>\n",
       "    <tr>\n",
       "      <th>648</th>\n",
       "      <td>1968-12-01</td>\n",
       "      <td>965.39</td>\n",
       "    </tr>\n",
       "  </tbody>\n",
       "</table>\n",
       "<p>153 rows × 2 columns</p>\n",
       "</div>"
      ],
      "text/plain": [
       "          Date   Price\n",
       "496 1956-04-01  511.04\n",
       "497 1956-05-01  495.20\n",
       "498 1956-06-01  485.33\n",
       "499 1956-07-01  509.76\n",
       "500 1956-08-01  511.69\n",
       "..         ...     ...\n",
       "644 1968-08-01  883.72\n",
       "645 1968-09-01  922.80\n",
       "646 1968-10-01  955.47\n",
       "647 1968-11-01  964.12\n",
       "648 1968-12-01  965.39\n",
       "\n",
       "[153 rows x 2 columns]"
      ]
     },
     "execution_count": 148,
     "metadata": {},
     "output_type": "execute_result"
    }
   ],
   "source": [
    "dowjones_df\n",
    "\n",
    "# c'est mon dataframe originelle maintenant"
   ]
  },
  {
   "cell_type": "code",
   "execution_count": 149,
   "id": "cc276c7a",
   "metadata": {},
   "outputs": [],
   "source": [
    "dowjones_df = dowjones_df.set_index(\"Date\")"
   ]
  },
  {
   "cell_type": "code",
   "execution_count": 150,
   "id": "7db9d8c6",
   "metadata": {},
   "outputs": [
    {
     "data": {
      "text/html": [
       "<div>\n",
       "<style scoped>\n",
       "    .dataframe tbody tr th:only-of-type {\n",
       "        vertical-align: middle;\n",
       "    }\n",
       "\n",
       "    .dataframe tbody tr th {\n",
       "        vertical-align: top;\n",
       "    }\n",
       "\n",
       "    .dataframe thead th {\n",
       "        text-align: right;\n",
       "    }\n",
       "</style>\n",
       "<table border=\"1\" class=\"dataframe\">\n",
       "  <thead>\n",
       "    <tr style=\"text-align: right;\">\n",
       "      <th></th>\n",
       "      <th>Price</th>\n",
       "    </tr>\n",
       "    <tr>\n",
       "      <th>Date</th>\n",
       "      <th></th>\n",
       "    </tr>\n",
       "  </thead>\n",
       "  <tbody>\n",
       "    <tr>\n",
       "      <th>1956-04-01</th>\n",
       "      <td>511.04</td>\n",
       "    </tr>\n",
       "    <tr>\n",
       "      <th>1956-05-01</th>\n",
       "      <td>495.20</td>\n",
       "    </tr>\n",
       "    <tr>\n",
       "      <th>1956-06-01</th>\n",
       "      <td>485.33</td>\n",
       "    </tr>\n",
       "    <tr>\n",
       "      <th>1956-07-01</th>\n",
       "      <td>509.76</td>\n",
       "    </tr>\n",
       "    <tr>\n",
       "      <th>1956-08-01</th>\n",
       "      <td>511.69</td>\n",
       "    </tr>\n",
       "    <tr>\n",
       "      <th>...</th>\n",
       "      <td>...</td>\n",
       "    </tr>\n",
       "    <tr>\n",
       "      <th>1968-08-01</th>\n",
       "      <td>883.72</td>\n",
       "    </tr>\n",
       "    <tr>\n",
       "      <th>1968-09-01</th>\n",
       "      <td>922.80</td>\n",
       "    </tr>\n",
       "    <tr>\n",
       "      <th>1968-10-01</th>\n",
       "      <td>955.47</td>\n",
       "    </tr>\n",
       "    <tr>\n",
       "      <th>1968-11-01</th>\n",
       "      <td>964.12</td>\n",
       "    </tr>\n",
       "    <tr>\n",
       "      <th>1968-12-01</th>\n",
       "      <td>965.39</td>\n",
       "    </tr>\n",
       "  </tbody>\n",
       "</table>\n",
       "<p>153 rows × 1 columns</p>\n",
       "</div>"
      ],
      "text/plain": [
       "             Price\n",
       "Date              \n",
       "1956-04-01  511.04\n",
       "1956-05-01  495.20\n",
       "1956-06-01  485.33\n",
       "1956-07-01  509.76\n",
       "1956-08-01  511.69\n",
       "...            ...\n",
       "1968-08-01  883.72\n",
       "1968-09-01  922.80\n",
       "1968-10-01  955.47\n",
       "1968-11-01  964.12\n",
       "1968-12-01  965.39\n",
       "\n",
       "[153 rows x 1 columns]"
      ]
     },
     "execution_count": 150,
     "metadata": {},
     "output_type": "execute_result"
    }
   ],
   "source": [
    "dowjones_df.sort_values('Date')"
   ]
  },
  {
   "cell_type": "code",
   "execution_count": 151,
   "id": "9324480a",
   "metadata": {},
   "outputs": [
    {
     "data": {
      "text/html": [
       "<div>\n",
       "<style scoped>\n",
       "    .dataframe tbody tr th:only-of-type {\n",
       "        vertical-align: middle;\n",
       "    }\n",
       "\n",
       "    .dataframe tbody tr th {\n",
       "        vertical-align: top;\n",
       "    }\n",
       "\n",
       "    .dataframe thead th {\n",
       "        text-align: right;\n",
       "    }\n",
       "</style>\n",
       "<table border=\"1\" class=\"dataframe\">\n",
       "  <thead>\n",
       "    <tr style=\"text-align: right;\">\n",
       "      <th></th>\n",
       "      <th>Price</th>\n",
       "    </tr>\n",
       "  </thead>\n",
       "  <tbody>\n",
       "    <tr>\n",
       "      <th>count</th>\n",
       "      <td>153.000000</td>\n",
       "    </tr>\n",
       "    <tr>\n",
       "      <th>mean</th>\n",
       "      <td>709.005229</td>\n",
       "    </tr>\n",
       "    <tr>\n",
       "      <th>std</th>\n",
       "      <td>159.699570</td>\n",
       "    </tr>\n",
       "    <tr>\n",
       "      <th>min</th>\n",
       "      <td>436.730000</td>\n",
       "    </tr>\n",
       "    <tr>\n",
       "      <th>25%</th>\n",
       "      <td>592.290000</td>\n",
       "    </tr>\n",
       "    <tr>\n",
       "      <th>50%</th>\n",
       "      <td>700.750000</td>\n",
       "    </tr>\n",
       "    <tr>\n",
       "      <th>75%</th>\n",
       "      <td>868.660000</td>\n",
       "    </tr>\n",
       "    <tr>\n",
       "      <th>max</th>\n",
       "      <td>985.930000</td>\n",
       "    </tr>\n",
       "  </tbody>\n",
       "</table>\n",
       "</div>"
      ],
      "text/plain": [
       "            Price\n",
       "count  153.000000\n",
       "mean   709.005229\n",
       "std    159.699570\n",
       "min    436.730000\n",
       "25%    592.290000\n",
       "50%    700.750000\n",
       "75%    868.660000\n",
       "max    985.930000"
      ]
     },
     "execution_count": 151,
     "metadata": {},
     "output_type": "execute_result"
    }
   ],
   "source": [
    "dowjones_df.describe()"
   ]
  },
  {
   "cell_type": "markdown",
   "id": "4cba7202",
   "metadata": {},
   "source": [
    "## BOOTSTRAPPING : definition"
   ]
  },
  {
   "cell_type": "markdown",
   "id": "47cdf517",
   "metadata": {},
   "source": [
    "- méthodes de rééchantillonnage - concept de la Simulation statistique :\n",
    "- applications dans plusieurs domaines.\n",
    "\n",
    "Il existe plusieurs types de méthodes de rééchantillonnage.\n",
    "\n",
    "La méthode Bootstrapping est le type de méthode de rééchantillonnage le plus utilisé. Ici l'échantillonnage de l'ensemble des données est fait à plusieurs reprises mais avec remise.\n",
    "\n",
    "On répète plusieurs fois la simulation afin d'obtenir un grand nombre de statistiques récapitulatives à partir de jeux de données rééchantillonés encore appelés échantillons bootstrap.\n",
    "\n",
    "Une réplique bootstrap est la valeur de la statistique récapitulative calculée à partir de l'échantilion bootstrap."
   ]
  },
  {
   "cell_type": "markdown",
   "id": "27eaa10f",
   "metadata": {},
   "source": [
    "## Création et visualisation d'echantillons Bootstrap"
   ]
  },
  {
   "cell_type": "code",
   "execution_count": 152,
   "id": "84b8a40e",
   "metadata": {},
   "outputs": [
    {
     "data": {
      "text/plain": [
       "array([679.75, 955.47, 912.46, 598.1 , 650.01, 485.33, 609.54, 511.69,\n",
       "       483.8 , 511.69, 672.1 , 625.83, 690.66, 847.2 , 479.34, 866.73,\n",
       "       863.55, 907.71, 507.55, 443.38, 985.93, 485.42, 597.02, 806.55,\n",
       "       714.15, 865.43, 927.5 , 887.2 , 718.64, 471.79, 488.27, 711.95,\n",
       "       793.03, 495.2 , 888.51, 926.43, 778.1 , 624.88, 581.78, 720.84,\n",
       "       800.86, 865.43, 445.68, 817.55, 624.88, 500.83, 700.75, 707.12,\n",
       "       724.74, 436.73, 743.24, 907.71, 884.77, 953.31, 624.47, 670.56,\n",
       "       738.52, 630.8 , 631.51, 592.29, 738.52, 834.76, 865.43, 985.93,\n",
       "       964.12, 743.24, 460.04, 714.21, 444.16, 905.32, 485.33, 866.73,\n",
       "       635.47, 711.95, 747.52, 905.22, 646.43, 609.54, 964.12, 800.86,\n",
       "       887.2 , 834.76, 912.46, 436.73, 466.84, 830.56, 436.73, 436.94,\n",
       "       883.72, 628.82, 500.83, 460.04, 566.43, 646.43, 488.27, 637.34,\n",
       "       646.43, 714.15, 759.94, 977.15, 665.39, 670.56, 672.1 , 847.2 ,\n",
       "       601.14, 830.56, 509.76, 637.34, 887.7 , 660.58, 747.52, 912.46,\n",
       "       888.73, 738.52, 905.22, 817.63, 880.04, 865.43, 714.15, 557.1 ,\n",
       "       472.78, 644.38, 615.64, 507.55, 747.52, 684.9 , 791.65, 671.35,\n",
       "       883.74, 705.16, 443.38, 707.12, 648.38, 964.12, 443.38, 444.16,\n",
       "       630.8 , 679.75, 690.66, 965.39, 873.43, 436.73, 472.78, 479.34,\n",
       "       906.82, 690.28, 823.12, 488.27, 509.76, 868.66, 485.9 , 858.11,\n",
       "       817.63])"
      ]
     },
     "execution_count": 152,
     "metadata": {},
     "output_type": "execute_result"
    }
   ],
   "source": [
    "# un echantillon bootstrap de la dataframe\n",
    "\n",
    "boots_sample = np.random.choice(dowjones_df['Price'], size = len(dowjones_df))\n",
    "boots_sample"
   ]
  },
  {
   "cell_type": "code",
   "execution_count": 153,
   "id": "53cedf39",
   "metadata": {},
   "outputs": [
    {
     "data": {
      "text/plain": [
       "699.4424836601308"
      ]
     },
     "execution_count": 153,
     "metadata": {},
     "output_type": "execute_result"
    }
   ],
   "source": [
    "# Moyenne de l'echantillon boostrap\n",
    "\n",
    "np.mean(boots_sample)\n",
    "\n",
    "# la moyenne doit etre plus proche de la moyenne de notre dataframe original"
   ]
  },
  {
   "cell_type": "code",
   "execution_count": 154,
   "id": "09d9acd7",
   "metadata": {},
   "outputs": [
    {
     "data": {
      "text/plain": [
       "162.46384662594352"
      ]
     },
     "execution_count": 154,
     "metadata": {},
     "output_type": "execute_result"
    }
   ],
   "source": [
    "# Ecart-type de l'echantillon boostrap\n",
    "\n",
    "np.std(boots_sample)\n",
    "\n",
    "# l'Ecart-type doit etre plus proche de l'Ecart-type de notre dataframe original"
   ]
  },
  {
   "cell_type": "code",
   "execution_count": 155,
   "id": "abee8ebc",
   "metadata": {},
   "outputs": [],
   "source": [
    "# Rappel de la fonction de calcul de la fonction de repartition empirique\n",
    "\n",
    "def fre(data):           \n",
    "    \n",
    "    # Axes des abscisses\n",
    "    x = np.sort(data)\n",
    "    \n",
    "    # Axes des ordonnées\n",
    "    y = np.arange(1, len(x) + 1) / len(x)\n",
    "    \n",
    "    return x, y"
   ]
  },
  {
   "cell_type": "code",
   "execution_count": 156,
   "id": "45bb7a5b",
   "metadata": {},
   "outputs": [
    {
     "data": {
      "image/png": "[encoded data removed]",
      "text/plain": [
       "<Figure size 640x480 with 1 Axes>"
      ]
     },
     "metadata": {},
     "output_type": "display_data"
    }
   ],
   "source": [
    "# Echantillon bootstrap (nous allons generer 1000 echantillon Bootstrap de meme taille que notre Dataframe original)\n",
    "\n",
    "mean_boots = []  # stockage de repartition bootstrap (moyenne)\n",
    "\n",
    "for i in range(1000):    # la boucle For va nous repeté l'operation 1000 foi\n",
    "    \n",
    "    bs_sample = np.random.choice(dowjones_df['Price'], size = len(dowjones_df))    # notre echantillon bootstrap\n",
    "    \n",
    "    mean_boots.append(np.mean(bs_sample))    # nous calculons la moyenne de l'echantillon bootstrap\n",
    "    \n",
    "    x_boot, y_boot = fre(bs_sample)  # x et y pour la fonction de repartition\n",
    "    \n",
    "    _ = plt.plot(x_boot, y_boot, marker = '.', linestyle='none', color='blue', alpha=0.1)   # pour tracer le graphique\n",
    "    \n",
    "    # Fonction de repartion des données originelles et nous créons son graphique aussi\n",
    "    \n",
    "x, y = fre(dowjones_df['Price'])\n",
    "\n",
    "_ = plt.plot(x, y, marker = '.')\n",
    "\n",
    "_ = plt.xlabel(\"prix annuel du dowjones\")\n",
    "\n",
    "plt.ylabel(\"FRE\")    # fonction de repartion empirique\n",
    "\n",
    "plt.show()"
   ]
  },
  {
   "cell_type": "markdown",
   "id": "3ad7bbb4",
   "metadata": {},
   "source": [
    "nous avons en bleu les echantillons bootstrap et en rouge nous avons les données originelles. nous remarquons que les echantillons bootstrap donnent une bonne idées de la distribution des données originelles. par consequelle c'est la meme distribution. nous pouvons calculer à partir de la les intervalles de confiances bootstrap."
   ]
  },
  {
   "cell_type": "markdown",
   "id": "a3912835",
   "metadata": {},
   "source": [
    "## INTERVALLES DE CONFIANCE BOOTSTRAP"
   ]
  },
  {
   "cell_type": "code",
   "execution_count": 157,
   "id": "081d2d7a",
   "metadata": {},
   "outputs": [
    {
     "data": {
      "text/plain": [
       "array([684.76531863, 734.73619118])"
      ]
     },
     "execution_count": 157,
     "metadata": {},
     "output_type": "execute_result"
    }
   ],
   "source": [
    "# intervalles de confiance à 95% de la moyenne des prix annuel du dowjones (Tres important les intervalles de confiance)\n",
    "\n",
    "np.percentile(mean_boots, [2.5, 97.5])\n",
    "\n",
    "# nous sommes sur a 95% que le prix annuel moyen du dowjones se situe entre [683.47253922, 734.78868791]"
   ]
  },
  {
   "cell_type": "code",
   "execution_count": 158,
   "id": "5c0fd909",
   "metadata": {},
   "outputs": [
    {
     "data": {
      "text/plain": [
       "699.4424836601308"
      ]
     },
     "execution_count": 158,
     "metadata": {},
     "output_type": "execute_result"
    }
   ],
   "source": [
    "np.mean(boots_sample)\n",
    "\n",
    "# avec cette seul valeur de moyenne obtenu au depart, on ne peut pas mettre une place une strategie a 100% solide\n",
    "# c'est pour cela il faut un intervalle de confiance a 95% pour que un ingenieur puis faire un travail solide"
   ]
  },
  {
   "cell_type": "code",
   "execution_count": 159,
   "id": "390ce4f6",
   "metadata": {},
   "outputs": [],
   "source": [
    "# Fonction pour generer plusieurs replique bootstrap\n",
    "\n",
    "def compute_boots_repliqs(data, function, size = 1):    # function ICI peu etre la fonction mean ou std (ex: np.std)\n",
    "                                                         # mettre en paramettre la fonction (ex: np.std ou np.mean  etc)\n",
    "    boots_repliqs = np.empty(size)\n",
    "    \n",
    "    for i in range(size):\n",
    "        boots_repliqs[i] = function(np.random.choice(data, len(data))) # function ici peu etre la fonction mean ou std \n",
    "                                                                      # (ex: np.std ou np.mean  etc)\n",
    "    return boots_repliqs"
   ]
  },
  {
   "cell_type": "code",
   "execution_count": 160,
   "id": "7f7eec2f",
   "metadata": {},
   "outputs": [
    {
     "data": {
      "text/plain": [
       "array([683.07088889, 735.26539216])"
      ]
     },
     "execution_count": 160,
     "metadata": {},
     "output_type": "execute_result"
    }
   ],
   "source": [
    "# intervalles de confiance à 95% de la moyenne des prix annuel du dowjones\n",
    "\n",
    "np.percentile(compute_boots_repliqs(dowjones_df['Price'], np.mean, size = 1000), [2.5, 97.5])\n",
    "\n",
    "# l'intervalle de confiance se rapproche fortement de ce que nous avions precedement. pour obtenir le meme resultat\n",
    "# il fallait definir un random_state = 120 par exemple"
   ]
  },
  {
   "cell_type": "code",
   "execution_count": 161,
   "id": "82218909",
   "metadata": {},
   "outputs": [
    {
     "data": {
      "text/plain": [
       "array([147.91313026, 169.69530096])"
      ]
     },
     "execution_count": 161,
     "metadata": {},
     "output_type": "execute_result"
    }
   ],
   "source": [
    "# intervalles de confiance à 95% de l'Ecart-type des prix annuel du dowjones\n",
    "\n",
    "np.percentile(compute_boots_repliqs(dowjones_df['Price'], np.std, size = 1000), [2.5, 97.5])\n",
    "\n",
    "# la fonction nous permet de calculer l'intervalles de confiance de plusieurs paramettre statistique "
   ]
  },
  {
   "cell_type": "code",
   "execution_count": 162,
   "id": "ab76409a",
   "metadata": {},
   "outputs": [
    {
     "data": {
      "image/png": "[encoded data removed]",
      "text/plain": [
       "<Figure size 640x480 with 1 Axes>"
      ]
     },
     "metadata": {},
     "output_type": "display_data"
    }
   ],
   "source": [
    "# Densité de probabilité des repliques bootsrap de la moyenne des prix annuel du dowjones\n",
    "\n",
    "sns.distplot(compute_boots_repliqs(dowjones_df['Price'], np.mean, size = 1000))\n",
    "\n",
    "plt.xlabel(\"prix annuel du dowjones\")\n",
    "\n",
    "plt.title(\"Replique bootstrap de la moyenne des prix annuel du dowjones\")\n",
    "\n",
    "plt.show()   "
   ]
  },
  {
   "cell_type": "markdown",
   "id": "d46e9cb7",
   "metadata": {},
   "source": [
    "La distribution des repliques bootstrap de la moyenne des prix du dowjones suis approximativement une loi normal avec une forme en cloche."
   ]
  },
  {
   "cell_type": "code",
   "execution_count": null,
   "id": "ca43a703",
   "metadata": {},
   "outputs": [],
   "source": []
  }
 ],
 "metadata": {
  "kernelspec": {
   "display_name": "Python 3 (ipykernel)",
   "language": "python",
   "name": "python3"
  },
  "language_info": {
   "codemirror_mode": {
    "name": "ipython",
    "version": 3
   },
   "file_extension": ".py",
   "mimetype": "text/x-python",
   "name": "python",
   "nbconvert_exporter": "python",
   "pygments_lexer": "ipython3",
   "version": "3.9.13"
  }
 },
 "nbformat": 4,
 "nbformat_minor": 5
}
